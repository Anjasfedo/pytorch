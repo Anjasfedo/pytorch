{
  "nbformat": 4,
  "nbformat_minor": 0,
  "metadata": {
    "colab": {
      "provenance": [],
      "authorship_tag": "ABX9TyP08J9ODGlo7Kb4t5y+oIja",
      "include_colab_link": true
    },
    "kernelspec": {
      "name": "python3",
      "display_name": "Python 3"
    },
    "language_info": {
      "name": "python"
    }
  },
  "cells": [
    {
      "cell_type": "markdown",
      "metadata": {
        "id": "view-in-github",
        "colab_type": "text"
      },
      "source": [
        "<a href=\"https://colab.research.google.com/github/Anjasfedo/pytorch/blob/main/01_pytorch_workflow.ipynb\" target=\"_parent\"><img src=\"https://colab.research.google.com/assets/colab-badge.svg\" alt=\"Open In Colab\"/></a>"
      ]
    },
    {
      "cell_type": "markdown",
      "source": [
        "# PyTorch Workflow\n",
        "\n",
        "PyTorch end-to-end workflow"
      ],
      "metadata": {
        "id": "D6f18HoJN7rb"
      }
    },
    {
      "cell_type": "code",
      "execution_count": 1,
      "metadata": {
        "id": "VY60zMXkoNQJ"
      },
      "outputs": [],
      "source": [
        "what_were_covering = {1: \"data (prepare & load)\",\n",
        "           2: \"build model\",\n",
        "           3: \"fitting model to data (training)\",\n",
        "           4: \"make predict and evaluate model (inference)\",\n",
        "           5: \"save & load model\",\n",
        "           6: \"put all together\"}"
      ]
    },
    {
      "cell_type": "code",
      "source": [
        "import torch\n",
        "from torch import nn # nn contain all PyTorch building block for neural network\n",
        "import matplotlib.pyplot as plt\n",
        "\n",
        "torch.__version__"
      ],
      "metadata": {
        "colab": {
          "base_uri": "https://localhost:8080/",
          "height": 35
        },
        "id": "nD01e0M5OrZc",
        "outputId": "862be4dc-40b8-4f25-85cb-c11aa6ac9e89"
      },
      "execution_count": 2,
      "outputs": [
        {
          "output_type": "execute_result",
          "data": {
            "text/plain": [
              "'2.3.0+cu121'"
            ],
            "application/vnd.google.colaboratory.intrinsic+json": {
              "type": "string"
            }
          },
          "metadata": {},
          "execution_count": 2
        }
      ]
    },
    {
      "cell_type": "markdown",
      "source": [
        "## Data preparing & Loading\n",
        "\n",
        "Data can be almost anything on machine learning\n",
        "- Excel spreadsheet\n",
        "- Text\n",
        "- Images\n",
        "- Videos\n",
        "- Audio\n",
        "- DNA\n",
        "\n",
        "machine learning is game of two part\n",
        "1. get data into numerical representation\n",
        "2. build model to learn patern based on that numerical representation\n",
        "\n",
        "to showcase this, lets create some *known* data from linear regression formula\n",
        "\n",
        "use linear regression formula to make straight line with known *parameters*\n",
        "\n"
      ],
      "metadata": {
        "id": "kkJ5K2_oPolm"
      }
    },
    {
      "cell_type": "code",
      "source": [
        "# create known parameter\n",
        "\n",
        "weight = 0.7\n",
        "bias = 0.3\n",
        "\n",
        "# create\n",
        "start = 0\n",
        "end = 1\n",
        "step = 0.02\n",
        "\n",
        "X = torch.arange(start, end, step).unsqueeze(dim=1)\n",
        "y = weight * X + bias\n",
        "\n",
        "X[:10], y[:10]"
      ],
      "metadata": {
        "colab": {
          "base_uri": "https://localhost:8080/"
        },
        "id": "PCQUa5GbQQfB",
        "outputId": "e053f66b-f7f6-42ac-c738-c7ac8eb2edb5"
      },
      "execution_count": 3,
      "outputs": [
        {
          "output_type": "execute_result",
          "data": {
            "text/plain": [
              "(tensor([[0.0000],\n",
              "         [0.0200],\n",
              "         [0.0400],\n",
              "         [0.0600],\n",
              "         [0.0800],\n",
              "         [0.1000],\n",
              "         [0.1200],\n",
              "         [0.1400],\n",
              "         [0.1600],\n",
              "         [0.1800]]),\n",
              " tensor([[0.3000],\n",
              "         [0.3140],\n",
              "         [0.3280],\n",
              "         [0.3420],\n",
              "         [0.3560],\n",
              "         [0.3700],\n",
              "         [0.3840],\n",
              "         [0.3980],\n",
              "         [0.4120],\n",
              "         [0.4260]]))"
            ]
          },
          "metadata": {},
          "execution_count": 3
        }
      ]
    },
    {
      "cell_type": "code",
      "source": [
        "len(X), len(y)"
      ],
      "metadata": {
        "colab": {
          "base_uri": "https://localhost:8080/"
        },
        "id": "8BUSa5QFR9hn",
        "outputId": "656cadc7-bcec-4a21-e31b-53bdc6ccc4a2"
      },
      "execution_count": 4,
      "outputs": [
        {
          "output_type": "execute_result",
          "data": {
            "text/plain": [
              "(50, 50)"
            ]
          },
          "metadata": {},
          "execution_count": 4
        }
      ]
    },
    {
      "cell_type": "markdown",
      "source": [
        "### Splitting data into training and test sets\n",
        "\n",
        "most important concepts in machine learning in general\n",
        "\n",
        "- training set (course material)\n",
        "- validation set (practice exam)\n",
        "- test set (final exam)\n",
        "\n",
        "Generalization, ability of machine learning model to perform well on data it hasnt seed before\n",
        "\n",
        "create training and set with the data"
      ],
      "metadata": {
        "id": "NnMh91BOTSxV"
      }
    },
    {
      "cell_type": "code",
      "source": [
        "# create a train/test split\n",
        "train_split = int(0.8 * len(X))\n",
        "\n",
        "X_train, y_train = X[:train_split], y[:train_split]\n",
        "X_test, y_test = X[train_split:], y[train_split:]\n",
        "\n",
        "len(X_train), len(y_train), len(X_test), len(y_test)"
      ],
      "metadata": {
        "colab": {
          "base_uri": "https://localhost:8080/"
        },
        "id": "Mi7ea7Q2Yuco",
        "outputId": "e64980cd-0a31-4b0a-957a-f0675123a5ee"
      },
      "execution_count": 5,
      "outputs": [
        {
          "output_type": "execute_result",
          "data": {
            "text/plain": [
              "(40, 40, 10, 10)"
            ]
          },
          "metadata": {},
          "execution_count": 5
        }
      ]
    },
    {
      "cell_type": "code",
      "source": [
        "X_test, y_test"
      ],
      "metadata": {
        "colab": {
          "base_uri": "https://localhost:8080/"
        },
        "id": "GLZVE5boVJ4-",
        "outputId": "e1aa9854-49f2-4999-9a25-93eee70002c2"
      },
      "execution_count": 6,
      "outputs": [
        {
          "output_type": "execute_result",
          "data": {
            "text/plain": [
              "(tensor([[0.8000],\n",
              "         [0.8200],\n",
              "         [0.8400],\n",
              "         [0.8600],\n",
              "         [0.8800],\n",
              "         [0.9000],\n",
              "         [0.9200],\n",
              "         [0.9400],\n",
              "         [0.9600],\n",
              "         [0.9800]]),\n",
              " tensor([[0.8600],\n",
              "         [0.8740],\n",
              "         [0.8880],\n",
              "         [0.9020],\n",
              "         [0.9160],\n",
              "         [0.9300],\n",
              "         [0.9440],\n",
              "         [0.9580],\n",
              "         [0.9720],\n",
              "         [0.9860]]))"
            ]
          },
          "metadata": {},
          "execution_count": 6
        }
      ]
    },
    {
      "cell_type": "markdown",
      "source": [
        "How to better visualize data\n",
        "\n",
        "this is where data explorer motto comes in\n",
        "\"Visualize, visualize, visualize!\""
      ],
      "metadata": {
        "id": "1EtxnQ_VaJUd"
      }
    },
    {
      "cell_type": "code",
      "source": [
        "def plot_predictions(train_data=X_train,\n",
        "                     train_labels=y_train,\n",
        "                     test_data=X_test,\n",
        "                     test_labels=y_test,\n",
        "                     predictions=None):\n",
        "\n",
        "  \"\"\"\n",
        "  Plots training data, test data, compares predictions\n",
        "  \"\"\"\n",
        "\n",
        "  plt.figure(figsize=(10, 7))\n",
        "\n",
        "  # plot training data in blue\n",
        "  plt.scatter(train_data, train_labels, c=\"b\", s=4, label=\"training data\")\n",
        "\n",
        "  # plot test data in green\n",
        "  plt.scatter(test_data, test_labels, c=\"g\", s=4, label=\"testing data\")\n",
        "\n",
        "  # plot the predictions\n",
        "  if predictions is not None:\n",
        "    plt.scatter(test_data, predictions, c=\"r\", s=4, label=\"predictions\")\n",
        "\n",
        "  # show the legend\n",
        "  plt.legend(prop={\"size\": 14})"
      ],
      "metadata": {
        "id": "H7z8Y6iZZtHF"
      },
      "execution_count": 7,
      "outputs": []
    },
    {
      "cell_type": "code",
      "source": [
        "plot_predictions()"
      ],
      "metadata": {
        "colab": {
          "base_uri": "https://localhost:8080/",
          "height": 599
        },
        "id": "sqC73B2GbtpZ",
        "outputId": "bd3742a4-33e7-4dda-8ae2-2b3b96d63759"
      },
      "execution_count": 8,
      "outputs": [
        {
          "output_type": "display_data",
          "data": {
            "text/plain": [
              "<Figure size 1000x700 with 1 Axes>"
            ],
            "image/png": "[encoded data removed]"
          },
          "metadata": {}
        }
      ]
    },
    {
      "cell_type": "markdown",
      "source": [
        "## Build Model\n",
        "\n",
        "first PyTorch model\n",
        "\n",
        "https://realpython.com/python-classes/\n",
        "\n",
        "the model does\n",
        "- start with random values (weight & bias)\n",
        "- look at training data and adjuct the random values to better represent (or get closer to) to ideal values (the weight & bias values we used to create the data)\n",
        "\n",
        "Through two main algorithms:\n",
        "1. gradient decent\n",
        "2. backpropogation"
      ],
      "metadata": {
        "id": "MaajWdAUcyVo"
      }
    },
    {
      "cell_type": "code",
      "source": [
        "# create linear regression model class\n",
        "class LinearRegressionModel(nn.Module):\n",
        "  def __init__(self):\n",
        "    super().__init__()\n",
        "\n",
        "    # model parameter\n",
        "    self.weights = nn.Parameter(torch.randn(1,\n",
        "                                            requires_grad=True,\n",
        "                                            dtype=torch.float))\n",
        "    self.bias = nn.Parameter(torch.rand(1,\n",
        "                                        requires_grad=True,\n",
        "                                        dtype=torch.float))\n",
        "\n",
        "  # forward mtehod to define the computation in the model\n",
        "  def forward(self, x: torch.Tensor) -> torch.Tensor:\n",
        "      return self.weights * x + self.bias # linear regression formula"
      ],
      "metadata": {
        "id": "NRQJL0ZVc8rD"
      },
      "execution_count": 9,
      "outputs": []
    },
    {
      "cell_type": "markdown",
      "source": [
        "### PyTorch model building essentials\n",
        "\n",
        "* torch.nn - contain all buildings for computational graph (such as neural network)\n",
        "* torch.nn.parameter - what parameters the model try and learn, ofter a PyTorch layer from torch.nn will set these for us\n",
        "* torch.nn.Module - base class for all neural network module, if sublass it, shoud overwrite forward()\n",
        "* torch.optim - optimizer in PyTorch live, will help gradient decent\n",
        "* def forward() - all nn.Module sublacces require to overwrite forward(), to define what heppen in the forward computation\n",
        "\n",
        "https://pytorch.org/tutorials/beginner/ptcheat.html"
      ],
      "metadata": {
        "id": "S4nxcyGuO605"
      }
    },
    {
      "cell_type": "markdown",
      "source": [
        "1. get data (torchvision.transform, torch.utils.data.Dataset, torch.utils.data.DataLoader)\n",
        "2. build model (loss function (torch.nn, torch.nn.Module, torchvision.models) optimizer (torch.optim))\n",
        "3. evaluate model (torchmetrics)\n",
        "4. improve through experiment (torch.utils.tensorboard)\n"
      ],
      "metadata": {
        "id": "KvNvNjTwRJbo"
      }
    },
    {
      "cell_type": "markdown",
      "source": [
        "### Check content of PyTorch model\n",
        "\n",
        "model has created, let see the inside\n",
        "\n",
        "to check model parameters use .parameters()"
      ],
      "metadata": {
        "id": "IETj3Uh7RsVf"
      }
    },
    {
      "cell_type": "code",
      "source": [
        "# create random seed\n",
        "torch.manual_seed(42)\n",
        "\n",
        "# create instance of model\n",
        "model_0 = LinearRegressionModel()\n",
        "\n",
        "# check the parameters\n",
        "list(model_0.parameters())"
      ],
      "metadata": {
        "colab": {
          "base_uri": "https://localhost:8080/"
        },
        "id": "Zn6OsX2wO3NG",
        "outputId": "7abdd8aa-26b5-460d-cbfe-646402703d3e"
      },
      "execution_count": 38,
      "outputs": [
        {
          "output_type": "execute_result",
          "data": {
            "text/plain": [
              "[Parameter containing:\n",
              " tensor([0.3367], requires_grad=True),\n",
              " Parameter containing:\n",
              " tensor([0.3904], requires_grad=True)]"
            ]
          },
          "metadata": {},
          "execution_count": 38
        }
      ]
    },
    {
      "cell_type": "code",
      "source": [
        "# list named parameters\n",
        "\n",
        "model_0.state_dict()"
      ],
      "metadata": {
        "colab": {
          "base_uri": "https://localhost:8080/"
        },
        "id": "l3HskPXuTLZg",
        "outputId": "eeb5bc09-4bb4-4a93-d27a-79420a92d37a"
      },
      "execution_count": 11,
      "outputs": [
        {
          "output_type": "execute_result",
          "data": {
            "text/plain": [
              "OrderedDict([('weights', tensor([0.3367])), ('bias', tensor([0.3904]))])"
            ]
          },
          "metadata": {},
          "execution_count": 11
        }
      ]
    },
    {
      "cell_type": "code",
      "source": [
        "weight, bias"
      ],
      "metadata": {
        "colab": {
          "base_uri": "https://localhost:8080/"
        },
        "id": "xUOzPgXOTasU",
        "outputId": "99d11f82-d0b4-4e00-df63-7901cb6cf084"
      },
      "execution_count": 12,
      "outputs": [
        {
          "output_type": "execute_result",
          "data": {
            "text/plain": [
              "(0.7, 0.3)"
            ]
          },
          "metadata": {},
          "execution_count": 12
        }
      ]
    },
    {
      "cell_type": "markdown",
      "source": [
        "### Make prediction with `toech.inference_mode()`\n",
        "\n",
        "to check the model predictive power, lets see how well it predict `y_test` based on `X_test`\n",
        "\n",
        "when data pass through model, its going run through forward()\n"
      ],
      "metadata": {
        "id": "VtCusGpTT5zW"
      }
    },
    {
      "cell_type": "code",
      "source": [
        "X_test, y_test"
      ],
      "metadata": {
        "colab": {
          "base_uri": "https://localhost:8080/"
        },
        "id": "xgbrOx0DUcQ0",
        "outputId": "b34bb215-b885-4286-8776-86bf34526a28"
      },
      "execution_count": 13,
      "outputs": [
        {
          "output_type": "execute_result",
          "data": {
            "text/plain": [
              "(tensor([[0.8000],\n",
              "         [0.8200],\n",
              "         [0.8400],\n",
              "         [0.8600],\n",
              "         [0.8800],\n",
              "         [0.9000],\n",
              "         [0.9200],\n",
              "         [0.9400],\n",
              "         [0.9600],\n",
              "         [0.9800]]),\n",
              " tensor([[0.8600],\n",
              "         [0.8740],\n",
              "         [0.8880],\n",
              "         [0.9020],\n",
              "         [0.9160],\n",
              "         [0.9300],\n",
              "         [0.9440],\n",
              "         [0.9580],\n",
              "         [0.9720],\n",
              "         [0.9860]]))"
            ]
          },
          "metadata": {},
          "execution_count": 13
        }
      ]
    },
    {
      "cell_type": "code",
      "source": [
        "y_preds = model_0(X_test)\n",
        "\n",
        "y_preds"
      ],
      "metadata": {
        "colab": {
          "base_uri": "https://localhost:8080/"
        },
        "id": "6uSgcj0zWZv0",
        "outputId": "0187e82b-6142-47cc-e6bb-5f8b4ea4da0d"
      },
      "execution_count": 14,
      "outputs": [
        {
          "output_type": "execute_result",
          "data": {
            "text/plain": [
              "tensor([[0.6598],\n",
              "        [0.6665],\n",
              "        [0.6733],\n",
              "        [0.6800],\n",
              "        [0.6867],\n",
              "        [0.6935],\n",
              "        [0.7002],\n",
              "        [0.7069],\n",
              "        [0.7137],\n",
              "        [0.7204]], grad_fn=<AddBackward0>)"
            ]
          },
          "metadata": {},
          "execution_count": 14
        }
      ]
    },
    {
      "cell_type": "code",
      "source": [
        "# Make prediction with model\n",
        "with torch.inference_mode(): # context manager of do prediction, turn off gradient tracking. make it faster\n",
        "  y_preds = model_0(X_test)\n",
        "\n",
        "# also same with torch.no_grad()\n",
        "# with torch.no_grad():\n",
        "#   y_preds = model_0(X_test)\n",
        "\n",
        "y_preds"
      ],
      "metadata": {
        "colab": {
          "base_uri": "https://localhost:8080/"
        },
        "id": "-McGbjQrUOwE",
        "outputId": "c9b82836-a81d-45be-e4a3-98c5b1da56f0"
      },
      "execution_count": 15,
      "outputs": [
        {
          "output_type": "execute_result",
          "data": {
            "text/plain": [
              "tensor([[0.6598],\n",
              "        [0.6665],\n",
              "        [0.6733],\n",
              "        [0.6800],\n",
              "        [0.6867],\n",
              "        [0.6935],\n",
              "        [0.7002],\n",
              "        [0.7069],\n",
              "        [0.7137],\n",
              "        [0.7204]])"
            ]
          },
          "metadata": {},
          "execution_count": 15
        }
      ]
    },
    {
      "cell_type": "code",
      "source": [
        "y_test"
      ],
      "metadata": {
        "colab": {
          "base_uri": "https://localhost:8080/"
        },
        "id": "xAEO5uoGVNbc",
        "outputId": "bb73c534-8a29-4f38-d81c-2b1f9e69daf4"
      },
      "execution_count": 16,
      "outputs": [
        {
          "output_type": "execute_result",
          "data": {
            "text/plain": [
              "tensor([[0.8600],\n",
              "        [0.8740],\n",
              "        [0.8880],\n",
              "        [0.9020],\n",
              "        [0.9160],\n",
              "        [0.9300],\n",
              "        [0.9440],\n",
              "        [0.9580],\n",
              "        [0.9720],\n",
              "        [0.9860]])"
            ]
          },
          "metadata": {},
          "execution_count": 16
        }
      ]
    },
    {
      "cell_type": "code",
      "source": [
        "plot_predictions(predictions=y_preds)"
      ],
      "metadata": {
        "colab": {
          "base_uri": "https://localhost:8080/",
          "height": 599
        },
        "id": "RXXmJJR5V1cC",
        "outputId": "7076037d-a5b4-4db8-8de3-dbde0e8aecbc"
      },
      "execution_count": 17,
      "outputs": [
        {
          "output_type": "display_data",
          "data": {
            "text/plain": [
              "<Figure size 1000x700 with 1 Axes>"
            ],
            "image/png": "[encoded data removed]"
          },
          "metadata": {}
        }
      ]
    },
    {
      "cell_type": "markdown",
      "source": [
        "## Train model\n",
        "\n",
        "the main idea of training is to make model move from *unknown* parameter to *known* parameter\n",
        "\n",
        "or other words from poor representation of the data to a better representation of the data\n",
        "\n",
        "pne way to measure how poor them model prediction, is to use a loss function\n",
        "\n",
        "* loss function also be called cost function or criterion on dirrefent areas\n",
        "\n",
        "things we need to train:\n",
        "\n",
        "- **loss function**: function to measure how wrong model to ideal prediction\n",
        "- **optimizer**: take into account the loss of a model and adjust the model parameters (weight & bias) to improve the loss function\n",
        "\n",
        " inside optimizer often have to set two parameters:\n",
        "  - params - model parameter that need to optimize\n",
        "  - lr - hyperparameter that define how big/small the optimizer changes the parameter with each step\n",
        "\n",
        "specificaly for PyTorch, we need:\n",
        "* training loop\n",
        "* testing loop"
      ],
      "metadata": {
        "id": "eonAmfoTX1BH"
      }
    },
    {
      "cell_type": "code",
      "source": [
        "list(model_0.parameters())"
      ],
      "metadata": {
        "colab": {
          "base_uri": "https://localhost:8080/"
        },
        "id": "-WdOIgKyYHKB",
        "outputId": "bc8d0e9c-dea9-4992-91cd-4ef78b6182f7"
      },
      "execution_count": 18,
      "outputs": [
        {
          "output_type": "execute_result",
          "data": {
            "text/plain": [
              "[Parameter containing:\n",
              " tensor([0.3367], requires_grad=True),\n",
              " Parameter containing:\n",
              " tensor([0.3904], requires_grad=True)]"
            ]
          },
          "metadata": {},
          "execution_count": 18
        }
      ]
    },
    {
      "cell_type": "code",
      "source": [
        "# model parameters, value that model sets itself\n",
        "model_0.state_dict()"
      ],
      "metadata": {
        "colab": {
          "base_uri": "https://localhost:8080/"
        },
        "id": "DbKbrNzCZNsO",
        "outputId": "6c52d41a-60fb-4e44-eec2-4f53b6cb1eb1"
      },
      "execution_count": 35,
      "outputs": [
        {
          "output_type": "execute_result",
          "data": {
            "text/plain": [
              "OrderedDict([('weights', tensor([0.3367])), ('bias', tensor([0.3904]))])"
            ]
          },
          "metadata": {},
          "execution_count": 35
        }
      ]
    },
    {
      "cell_type": "code",
      "source": [
        "# setup a loss function\n",
        "loss_fn = nn.L1Loss()\n",
        "\n",
        "# setup an optimizer (stochastic gradient descent)\n",
        "optimizer = torch.optim.SGD(params=model_0.parameters(),\n",
        "                            lr=0.01) # lr = learning rate = possible most important hyperparameter can be set, changes the parameters each iterator"
      ],
      "metadata": {
        "id": "2Wi0ynt9atRA"
      },
      "execution_count": 39,
      "outputs": []
    },
    {
      "cell_type": "markdown",
      "source": [
        "Q = how to choose loss function adn optimizer\n",
        "A = problem specific, but with experience you will get an idea of how works and what ddoesnt with particular problem set\n",
        "\n",
        "for example, for regression problem, a loss function `nn.L1Loss` and an optimizer `torch.optim.SGD` will suffice\n",
        "\n",
        "but for classification problem like photo of two label such dog or cat, use loss function of `nn.BCELoss` (Binary cross entropy loss)"
      ],
      "metadata": {
        "id": "R-7rv5F-eKR5"
      }
    },
    {
      "cell_type": "markdown",
      "source": [
        "### Building a training loop (and testing loop) in PyTorch\n",
        "\n",
        "for training loop, we need:\n",
        "0. loop through the data\n",
        "1. forward pass (involves data moving through model `forward()` functions) to make prediction of data - also called forward propogation\n",
        "2. calculate the loss (compare forward pass predictions to ground truth labels)\n",
        "3. optimizer zero grad\n",
        "4. loss backward - move backward through the network to calculate the gradients of each of the parameters of model with respect to the loss (**backpropogation**)\n",
        "5. optimizer step - use the optimizet to adjust the model parameters to try and improve the loss (**gradient descent**)\n"
      ],
      "metadata": {
        "id": "r2MNQcbhe9We"
      }
    },
    {
      "cell_type": "code",
      "source": [
        "list(model_0.parameters())"
      ],
      "metadata": {
        "colab": {
          "base_uri": "https://localhost:8080/"
        },
        "id": "X9cdVNLXhBeu",
        "outputId": "6b06a132-3665-4018-dd77-286563a76d9d"
      },
      "execution_count": 21,
      "outputs": [
        {
          "output_type": "execute_result",
          "data": {
            "text/plain": [
              "[Parameter containing:\n",
              " tensor([0.3367], requires_grad=True),\n",
              " Parameter containing:\n",
              " tensor([0.3904], requires_grad=True)]"
            ]
          },
          "metadata": {},
          "execution_count": 21
        }
      ]
    },
    {
      "cell_type": "code",
      "source": [
        "torch.manual_seed(42)\n",
        "\n",
        "# an epochs is one loop through the data (this is hyperparameter, because we set it itself)\n",
        "epochs = 200\n",
        "\n",
        "epoch_count = []\n",
        "loss_values = []\n",
        "test_loss_values = []\n",
        "\n",
        "### Training\n",
        "# 0. loop through the data\n",
        "for epoch in range(epochs):\n",
        "  # set the model to training mode\n",
        "  model_0.train() # train mode in PyTorch set all parameters that require gradients to require gradients\n",
        "\n",
        "  # 1. forward pass\n",
        "  y_pred = model_0(X_train)\n",
        "\n",
        "  # 2. calculate the loss, different of model prediction and true values\n",
        "  loss = loss_fn(y_pred, y_train)\n",
        "  # print(f\"Loss: {loss}\")\n",
        "\n",
        "  # 3. optimizer zero grad, zero the gradients of the optimizer (accumulate by default)\n",
        "  optimizer.zero_grad()\n",
        "\n",
        "  # 4. perform backpropogation on the loss with respect to the parameters of the model\n",
        "  loss.backward()\n",
        "\n",
        "  # 5. step the optimizer (perform gradient descent)\n",
        "  optimizer.step() # default how the optimizer changes will accumulate through the loop, so we have zero them above in step 3 for the next iteration of the loop\n",
        "\n",
        "  # testing mode\n",
        "  model_0.eval() # turns off gradient tracking, that not needed for eval/test\n",
        "  with torch.inference_mode(): # turns of gradient tracing & more things behind things behind the scenes\n",
        "    # 1. do forward pass\n",
        "    test_pred = model_0(X_test)\n",
        "\n",
        "    # 2. calculate the loss\n",
        "    test_loss = loss_fn(test_pred, y_test)\n",
        "\n",
        "  if epoch % 10 == 0:\n",
        "    epoch_count.append(epoch)\n",
        "    loss_values.append(loss)\n",
        "    test_loss_values.append(test_loss)\n",
        "    # Print what heppen\n",
        "    print(f\"Epoch: {epoch} | Loss: {loss}: Test loss: {test_loss}\")\n",
        "\n",
        "    # print model state_dict\n",
        "    print(model_0.state_dict())"
      ],
      "metadata": {
        "id": "8FSfsLOra1PT",
        "colab": {
          "base_uri": "https://localhost:8080/"
        },
        "outputId": "372006a5-196a-4cbd-f883-23ff9ad52f3e"
      },
      "execution_count": 40,
      "outputs": [
        {
          "output_type": "stream",
          "name": "stdout",
          "text": [
            "Epoch: 0 | Loss: 0.08169572055339813: Test loss: 0.22662055492401123\n",
            "OrderedDict([('weights', tensor([0.3398])), ('bias', tensor([0.3939]))])\n",
            "Epoch: 10 | Loss: 0.06808149069547653: Test loss: 0.1807345449924469\n",
            "OrderedDict([('weights', tensor([0.3672])), ('bias', tensor([0.4154]))])\n",
            "Epoch: 20 | Loss: 0.06258393079042435: Test loss: 0.15627031028270721\n",
            "OrderedDict([('weights', tensor([0.3891])), ('bias', tensor([0.4204]))])\n",
            "Epoch: 30 | Loss: 0.05879194289445877: Test loss: 0.1418602615594864\n",
            "OrderedDict([('weights', tensor([0.4081])), ('bias', tensor([0.4179]))])\n",
            "Epoch: 40 | Loss: 0.05530194193124771: Test loss: 0.13084018230438232\n",
            "OrderedDict([('weights', tensor([0.4261])), ('bias', tensor([0.4129]))])\n",
            "Epoch: 50 | Loss: 0.051822252571582794: Test loss: 0.12050700187683105\n",
            "OrderedDict([('weights', tensor([0.4439])), ('bias', tensor([0.4074]))])\n",
            "Epoch: 60 | Loss: 0.04838593676686287: Test loss: 0.11223447322845459\n",
            "OrderedDict([('weights', tensor([0.4610])), ('bias', tensor([0.4004]))])\n",
            "Epoch: 70 | Loss: 0.044948760420084: Test loss: 0.10464880615472794\n",
            "OrderedDict([('weights', tensor([0.4780])), ('bias', tensor([0.3929]))])\n",
            "Epoch: 80 | Loss: 0.04152031987905502: Test loss: 0.09637625515460968\n",
            "OrderedDict([('weights', tensor([0.4951])), ('bias', tensor([0.3859]))])\n",
            "Epoch: 90 | Loss: 0.03808232396841049: Test loss: 0.08810374140739441\n",
            "OrderedDict([('weights', tensor([0.5123])), ('bias', tensor([0.3789]))])\n",
            "Epoch: 100 | Loss: 0.034646838903427124: Test loss: 0.08051808178424835\n",
            "OrderedDict([('weights', tensor([0.5293])), ('bias', tensor([0.3714]))])\n",
            "Epoch: 110 | Loss: 0.031217509880661964: Test loss: 0.0722455382347107\n",
            "OrderedDict([('weights', tensor([0.5464])), ('bias', tensor([0.3644]))])\n",
            "Epoch: 120 | Loss: 0.027778705582022667: Test loss: 0.06397300213575363\n",
            "OrderedDict([('weights', tensor([0.5636])), ('bias', tensor([0.3574]))])\n",
            "Epoch: 130 | Loss: 0.024344902485609055: Test loss: 0.05638733506202698\n",
            "OrderedDict([('weights', tensor([0.5805])), ('bias', tensor([0.3499]))])\n",
            "Epoch: 140 | Loss: 0.020913895219564438: Test loss: 0.04811479523777962\n",
            "OrderedDict([('weights', tensor([0.5977])), ('bias', tensor([0.3429]))])\n",
            "Epoch: 150 | Loss: 0.017475087195634842: Test loss: 0.03984225541353226\n",
            "OrderedDict([('weights', tensor([0.6148])), ('bias', tensor([0.3359]))])\n",
            "Epoch: 160 | Loss: 0.014042967930436134: Test loss: 0.0322565920650959\n",
            "OrderedDict([('weights', tensor([0.6318])), ('bias', tensor([0.3284]))])\n",
            "Epoch: 170 | Loss: 0.010610274039208889: Test loss: 0.02398405596613884\n",
            "OrderedDict([('weights', tensor([0.6490])), ('bias', tensor([0.3214]))])\n",
            "Epoch: 180 | Loss: 0.007171472068876028: Test loss: 0.015711510553956032\n",
            "OrderedDict([('weights', tensor([0.6661])), ('bias', tensor([0.3144]))])\n",
            "Epoch: 190 | Loss: 0.003741039428859949: Test loss: 0.008125847205519676\n",
            "OrderedDict([('weights', tensor([0.6831])), ('bias', tensor([0.3069]))])\n"
          ]
        }
      ]
    },
    {
      "cell_type": "code",
      "source": [
        "weight, bias"
      ],
      "metadata": {
        "id": "v7VES_tn3U7u",
        "colab": {
          "base_uri": "https://localhost:8080/"
        },
        "outputId": "5a883a84-4985-4e40-cc12-65d4264aeb9b"
      },
      "execution_count": 24,
      "outputs": [
        {
          "output_type": "execute_result",
          "data": {
            "text/plain": [
              "(0.7, 0.3)"
            ]
          },
          "metadata": {},
          "execution_count": 24
        }
      ]
    },
    {
      "cell_type": "code",
      "source": [
        "epoch_count, loss_values, test_loss_values"
      ],
      "metadata": {
        "colab": {
          "base_uri": "https://localhost:8080/"
        },
        "id": "-1NFUYu_Yawe",
        "outputId": "83d4b646-bac3-4f30-f0c2-79cbab60cf16"
      },
      "execution_count": 44,
      "outputs": [
        {
          "output_type": "execute_result",
          "data": {
            "text/plain": [
              "([0,\n",
              "  10,\n",
              "  20,\n",
              "  30,\n",
              "  40,\n",
              "  50,\n",
              "  60,\n",
              "  70,\n",
              "  80,\n",
              "  90,\n",
              "  100,\n",
              "  110,\n",
              "  120,\n",
              "  130,\n",
              "  140,\n",
              "  150,\n",
              "  160,\n",
              "  170,\n",
              "  180,\n",
              "  190],\n",
              " [tensor(0.0817, grad_fn=<MeanBackward0>),\n",
              "  tensor(0.0681, grad_fn=<MeanBackward0>),\n",
              "  tensor(0.0626, grad_fn=<MeanBackward0>),\n",
              "  tensor(0.0588, grad_fn=<MeanBackward0>),\n",
              "  tensor(0.0553, grad_fn=<MeanBackward0>),\n",
              "  tensor(0.0518, grad_fn=<MeanBackward0>),\n",
              "  tensor(0.0484, grad_fn=<MeanBackward0>),\n",
              "  tensor(0.0449, grad_fn=<MeanBackward0>),\n",
              "  tensor(0.0415, grad_fn=<MeanBackward0>),\n",
              "  tensor(0.0381, grad_fn=<MeanBackward0>),\n",
              "  tensor(0.0346, grad_fn=<MeanBackward0>),\n",
              "  tensor(0.0312, grad_fn=<MeanBackward0>),\n",
              "  tensor(0.0278, grad_fn=<MeanBackward0>),\n",
              "  tensor(0.0243, grad_fn=<MeanBackward0>),\n",
              "  tensor(0.0209, grad_fn=<MeanBackward0>),\n",
              "  tensor(0.0175, grad_fn=<MeanBackward0>),\n",
              "  tensor(0.0140, grad_fn=<MeanBackward0>),\n",
              "  tensor(0.0106, grad_fn=<MeanBackward0>),\n",
              "  tensor(0.0072, grad_fn=<MeanBackward0>),\n",
              "  tensor(0.0037, grad_fn=<MeanBackward0>)],\n",
              " [tensor(0.2266),\n",
              "  tensor(0.1807),\n",
              "  tensor(0.1563),\n",
              "  tensor(0.1419),\n",
              "  tensor(0.1308),\n",
              "  tensor(0.1205),\n",
              "  tensor(0.1122),\n",
              "  tensor(0.1046),\n",
              "  tensor(0.0964),\n",
              "  tensor(0.0881),\n",
              "  tensor(0.0805),\n",
              "  tensor(0.0722),\n",
              "  tensor(0.0640),\n",
              "  tensor(0.0564),\n",
              "  tensor(0.0481),\n",
              "  tensor(0.0398),\n",
              "  tensor(0.0323),\n",
              "  tensor(0.0240),\n",
              "  tensor(0.0157),\n",
              "  tensor(0.0081)])"
            ]
          },
          "metadata": {},
          "execution_count": 44
        }
      ]
    },
    {
      "cell_type": "code",
      "source": [
        "import numpy as np\n",
        "# plot loass curves\n",
        "plt.plot(epoch_count, np.array(torch.tensor(loss_values).numpy()), label=\"Train loss\")\n",
        "plt.plot(epoch_count, np.array(torch.tensor(test_loss_values).numpy()), label=\"Test loss\")\n",
        "plt.title(\"training & test loss curves\")\n",
        "plt.ylabel(\"Loss\")\n",
        "plt.xlabel(\"Epochs\")\n",
        "plt.legend()"
      ],
      "metadata": {
        "colab": {
          "base_uri": "https://localhost:8080/",
          "height": 489
        },
        "id": "oDMU2KwaYYWW",
        "outputId": "bfb248ae-0e06-4b62-b9ee-0f75a99a5d22"
      },
      "execution_count": 48,
      "outputs": [
        {
          "output_type": "execute_result",
          "data": {
            "text/plain": [
              "<matplotlib.legend.Legend at 0x7ba2c56eeb30>"
            ]
          },
          "metadata": {},
          "execution_count": 48
        },
        {
          "output_type": "display_data",
          "data": {
            "text/plain": [
              "<Figure size 640x480 with 1 Axes>"
            ],
            "image/png": "[encoded data removed]"
          },
          "metadata": {}
        }
      ]
    },
    {
      "cell_type": "code",
      "source": [
        "with torch.inference_mode():\n",
        "  y_preds_new = model_0(X_test)"
      ],
      "metadata": {
        "id": "DjnEqNkRV8rV"
      },
      "execution_count": 42,
      "outputs": []
    },
    {
      "cell_type": "code",
      "source": [
        "model_0.state_dict()"
      ],
      "metadata": {
        "colab": {
          "base_uri": "https://localhost:8080/"
        },
        "id": "N05nl77tV33C",
        "outputId": "df3548a2-64fd-40be-afa5-b12684e6e893"
      },
      "execution_count": 41,
      "outputs": [
        {
          "output_type": "execute_result",
          "data": {
            "text/plain": [
              "OrderedDict([('weights', tensor([0.6962])), ('bias', tensor([0.3064]))])"
            ]
          },
          "metadata": {},
          "execution_count": 41
        }
      ]
    },
    {
      "cell_type": "code",
      "source": [
        "plot_predictions(predictions=y_preds)"
      ],
      "metadata": {
        "colab": {
          "base_uri": "https://localhost:8080/",
          "height": 599
        },
        "id": "TkK__lsGWDQY",
        "outputId": "ce5a0a1a-2519-4a16-82ab-e7b7e7fdbc74"
      },
      "execution_count": 26,
      "outputs": [
        {
          "output_type": "display_data",
          "data": {
            "text/plain": [
              "<Figure size 1000x700 with 1 Axes>"
            ],
            "image/png": "[encoded data removed]"
          },
          "metadata": {}
        }
      ]
    },
    {
      "cell_type": "code",
      "source": [
        "plot_predictions(predictions=y_preds_new)"
      ],
      "metadata": {
        "colab": {
          "base_uri": "https://localhost:8080/",
          "height": 599
        },
        "id": "hqreZqL3WbOt",
        "outputId": "87509c8c-ef80-4098-ab94-e3678957dbed"
      },
      "execution_count": 43,
      "outputs": [
        {
          "output_type": "display_data",
          "data": {
            "text/plain": [
              "<Figure size 1000x700 with 1 Axes>"
            ],
            "image/png": "[encoded data removed]"
          },
          "metadata": {}
        }
      ]
    },
    {
      "cell_type": "markdown",
      "source": [
        "PyTorch optimization loop song\n",
        "its train time\n",
        "\n",
        "do the forward loss\n",
        "\n",
        "calculate the loss\n",
        "\n",
        "optimizer zero grad\n",
        "\n",
        "losssss backward\n",
        "\n",
        "\n",
        "optimizer step step step\n",
        "\n",
        "\n",
        "lets test now\n",
        "\n",
        "with torch no grad\n",
        "\n",
        "do the forward pass\n",
        "\n",
        "calculate the loss\n",
        "\n",
        "watch it go down down down"
      ],
      "metadata": {
        "id": "5AG35y8M279Q"
      }
    },
    {
      "cell_type": "code",
      "source": [
        "model_0.state_dict()"
      ],
      "metadata": {
        "colab": {
          "base_uri": "https://localhost:8080/"
        },
        "id": "Ev0qhTY7UfUY",
        "outputId": "6b6cc5d7-4537-42b8-d771-a929ddb8b6d7"
      },
      "execution_count": 29,
      "outputs": [
        {
          "output_type": "execute_result",
          "data": {
            "text/plain": [
              "OrderedDict([('weights', tensor([0.5277])), ('bias', tensor([0.3724]))])"
            ]
          },
          "metadata": {},
          "execution_count": 29
        }
      ]
    },
    {
      "cell_type": "code",
      "source": [],
      "metadata": {
        "id": "TGsEcC7SXLW1"
      },
      "execution_count": 29,
      "outputs": []
    }
  ]
}