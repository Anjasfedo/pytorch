{
  "nbformat": 4,
  "nbformat_minor": 0,
  "metadata": {
    "colab": {
      "provenance": [],
      "authorship_tag": "ABX9TyPfABJBFKP+OYQS9ZrdYMro",
      "include_colab_link": true
    },
    "kernelspec": {
      "name": "python3",
      "display_name": "Python 3"
    },
    "language_info": {
      "name": "python"
    }
  },
  "cells": [
    {
      "cell_type": "markdown",
      "metadata": {
        "id": "view-in-github",
        "colab_type": "text"
      },
      "source": [
        "<a href=\"https://colab.research.google.com/github/Anjasfedo/pytorch/blob/main/01_pytorch_workflow.ipynb\" target=\"_parent\"><img src=\"https://colab.research.google.com/assets/colab-badge.svg\" alt=\"Open In Colab\"/></a>"
      ]
    },
    {
      "cell_type": "markdown",
      "source": [
        "# PyTorch Workflow\n",
        "\n",
        "PyTorch end-to-end workflow"
      ],
      "metadata": {
        "id": "D6f18HoJN7rb"
      }
    },
    {
      "cell_type": "code",
      "execution_count": 36,
      "metadata": {
        "id": "VY60zMXkoNQJ"
      },
      "outputs": [],
      "source": [
        "what_were_covering = {1: \"data (prepare & load)\",\n",
        "           2: \"build model\",\n",
        "           3: \"fitting model to data (training)\",\n",
        "           4: \"make predict and evaluate model (inference)\",\n",
        "           5: \"save & load model\",\n",
        "           6: \"put all together\"}"
      ]
    },
    {
      "cell_type": "code",
      "source": [
        "import torch\n",
        "from torch import nn # nn contain all PyTorch building block for neural network\n",
        "import matplotlib.pyplot as plt\n",
        "\n",
        "torch.__version__"
      ],
      "metadata": {
        "colab": {
          "base_uri": "https://localhost:8080/",
          "height": 35
        },
        "id": "nD01e0M5OrZc",
        "outputId": "dd409f0e-38f3-42d6-d84d-ab8af3cae4b2"
      },
      "execution_count": 37,
      "outputs": [
        {
          "output_type": "execute_result",
          "data": {
            "text/plain": [
              "'2.3.0+cu121'"
            ],
            "application/vnd.google.colaboratory.intrinsic+json": {
              "type": "string"
            }
          },
          "metadata": {},
          "execution_count": 37
        }
      ]
    },
    {
      "cell_type": "markdown",
      "source": [
        "## Data preparing & Loading\n",
        "\n",
        "Data can be almost anything on machine learning\n",
        "- Excel spreadsheet\n",
        "- Text\n",
        "- Images\n",
        "- Videos\n",
        "- Audio\n",
        "- DNA\n",
        "\n",
        "machine learning is game of two part\n",
        "1. get data into numerical representation\n",
        "2. build model to learn patern based on that numerical representation\n",
        "\n",
        "to showcase this, lets create some *known* data from linear regression formula\n",
        "\n",
        "use linear regression formula to make straight line with known *parameters*\n",
        "\n"
      ],
      "metadata": {
        "id": "kkJ5K2_oPolm"
      }
    },
    {
      "cell_type": "code",
      "source": [
        "# create known parameter\n",
        "\n",
        "weight = 0.7\n",
        "bias = 0.3\n",
        "\n",
        "# create\n",
        "start = 0\n",
        "end = 1\n",
        "step = 0.02\n",
        "\n",
        "X = torch.arange(start, end, step).unsqueeze(dim=1)\n",
        "y = weight * X + bias\n",
        "\n",
        "X[:10], y[:10]"
      ],
      "metadata": {
        "colab": {
          "base_uri": "https://localhost:8080/"
        },
        "id": "PCQUa5GbQQfB",
        "outputId": "875d3aba-a21a-4c4b-9e94-7a8845254ff7"
      },
      "execution_count": 38,
      "outputs": [
        {
          "output_type": "execute_result",
          "data": {
            "text/plain": [
              "(tensor([[0.0000],\n",
              "         [0.0200],\n",
              "         [0.0400],\n",
              "         [0.0600],\n",
              "         [0.0800],\n",
              "         [0.1000],\n",
              "         [0.1200],\n",
              "         [0.1400],\n",
              "         [0.1600],\n",
              "         [0.1800]]),\n",
              " tensor([[0.3000],\n",
              "         [0.3140],\n",
              "         [0.3280],\n",
              "         [0.3420],\n",
              "         [0.3560],\n",
              "         [0.3700],\n",
              "         [0.3840],\n",
              "         [0.3980],\n",
              "         [0.4120],\n",
              "         [0.4260]]))"
            ]
          },
          "metadata": {},
          "execution_count": 38
        }
      ]
    },
    {
      "cell_type": "code",
      "source": [
        "len(X), len(y)"
      ],
      "metadata": {
        "colab": {
          "base_uri": "https://localhost:8080/"
        },
        "id": "8BUSa5QFR9hn",
        "outputId": "5be84a4a-bf37-4220-a897-dfb427c7e4af"
      },
      "execution_count": 39,
      "outputs": [
        {
          "output_type": "execute_result",
          "data": {
            "text/plain": [
              "(50, 50)"
            ]
          },
          "metadata": {},
          "execution_count": 39
        }
      ]
    },
    {
      "cell_type": "markdown",
      "source": [
        "### Splitting data into training and test sets\n",
        "\n",
        "most important concepts in machine learning in general\n",
        "\n",
        "- training set (course material)\n",
        "- validation set (practice exam)\n",
        "- test set (final exam)\n",
        "\n",
        "Generalization, ability of machine learning model to perform well on data it hasnt seed before\n",
        "\n",
        "create training and set with the data"
      ],
      "metadata": {
        "id": "NnMh91BOTSxV"
      }
    },
    {
      "cell_type": "code",
      "source": [
        "# create a train/test split\n",
        "train_split = int(0.8 * len(X))\n",
        "\n",
        "X_train, y_train = X[:train_split], y[:train_split]\n",
        "X_test, y_test = X[train_split:], y[train_split:]\n",
        "\n",
        "len(X_train), len(y_train), len(X_test), len(y_test)"
      ],
      "metadata": {
        "colab": {
          "base_uri": "https://localhost:8080/"
        },
        "id": "Mi7ea7Q2Yuco",
        "outputId": "f5425357-900c-421c-b7c5-9869ca9fc020"
      },
      "execution_count": 40,
      "outputs": [
        {
          "output_type": "execute_result",
          "data": {
            "text/plain": [
              "(40, 40, 10, 10)"
            ]
          },
          "metadata": {},
          "execution_count": 40
        }
      ]
    },
    {
      "cell_type": "code",
      "source": [
        "X_test, y_test"
      ],
      "metadata": {
        "colab": {
          "base_uri": "https://localhost:8080/"
        },
        "id": "GLZVE5boVJ4-",
        "outputId": "c0c11155-a829-4826-9493-3cd1d811626b"
      },
      "execution_count": 41,
      "outputs": [
        {
          "output_type": "execute_result",
          "data": {
            "text/plain": [
              "(tensor([[0.8000],\n",
              "         [0.8200],\n",
              "         [0.8400],\n",
              "         [0.8600],\n",
              "         [0.8800],\n",
              "         [0.9000],\n",
              "         [0.9200],\n",
              "         [0.9400],\n",
              "         [0.9600],\n",
              "         [0.9800]]),\n",
              " tensor([[0.8600],\n",
              "         [0.8740],\n",
              "         [0.8880],\n",
              "         [0.9020],\n",
              "         [0.9160],\n",
              "         [0.9300],\n",
              "         [0.9440],\n",
              "         [0.9580],\n",
              "         [0.9720],\n",
              "         [0.9860]]))"
            ]
          },
          "metadata": {},
          "execution_count": 41
        }
      ]
    },
    {
      "cell_type": "markdown",
      "source": [
        "How to better visualize data\n",
        "\n",
        "this is where data explorer motto comes in\n",
        "\"Visualize, visualize, visualize!\""
      ],
      "metadata": {
        "id": "1EtxnQ_VaJUd"
      }
    },
    {
      "cell_type": "code",
      "source": [
        "def plot_predictions(train_data=X_train,\n",
        "                     train_labels=y_train,\n",
        "                     test_data=X_test,\n",
        "                     test_labels=y_test,\n",
        "                     predictions=None):\n",
        "\n",
        "  \"\"\"\n",
        "  Plots training data, test data, compares predictions\n",
        "  \"\"\"\n",
        "\n",
        "  plt.figure(figsize=(10, 7))\n",
        "\n",
        "  # plot training data in blue\n",
        "  plt.scatter(train_data, train_labels, c=\"b\", s=4, label=\"training data\")\n",
        "\n",
        "  # plot test data in green\n",
        "  plt.scatter(test_data, test_labels, c=\"g\", s=4, label=\"testing data\")\n",
        "\n",
        "  # plot the predictions\n",
        "  if predictions is not None:\n",
        "    plt.scatter(test_data, predictions, c=\"r\", s=4, label=\"predictions\")\n",
        "\n",
        "  # show the legend\n",
        "  plt.legend(prop={\"size\": 14})"
      ],
      "metadata": {
        "id": "H7z8Y6iZZtHF"
      },
      "execution_count": 42,
      "outputs": []
    },
    {
      "cell_type": "code",
      "source": [
        "plot_predictions()"
      ],
      "metadata": {
        "colab": {
          "base_uri": "https://localhost:8080/",
          "height": 599
        },
        "id": "sqC73B2GbtpZ",
        "outputId": "c0e6e8aa-3537-4e11-ce97-1beae8d4a387"
      },
      "execution_count": 43,
      "outputs": [
        {
          "output_type": "display_data",
          "data": {
            "text/plain": [
              "<Figure size 1000x700 with 1 Axes>"
            ],
            "image/png": "[encoded data removed]"
          },
          "metadata": {}
        }
      ]
    },
    {
      "cell_type": "markdown",
      "source": [
        "## Build Model\n",
        "\n",
        "first PyTorch model\n",
        "\n",
        "https://realpython.com/python-classes/\n",
        "\n",
        "the model does\n",
        "- start with random values (weight & bias)\n",
        "- look at training data and adjuct the random values to better represent (or get closer to) to ideal values (the weight & bias values we used to create the data)\n",
        "\n",
        "Through two main algorithms:\n",
        "1. gradient decent\n",
        "2. backpropogation"
      ],
      "metadata": {
        "id": "MaajWdAUcyVo"
      }
    },
    {
      "cell_type": "code",
      "source": [
        "# create linear regression model class\n",
        "class LinearRegressionModel(nn.Module):\n",
        "  def __init__(self):\n",
        "    super().__init__()\n",
        "\n",
        "    # model parameter\n",
        "    self.weights = nn.Parameter(torch.randn(1,\n",
        "                                            requires_grad=True,\n",
        "                                            dtype=torch.float))\n",
        "    self.bias = nn.Parameter(torch.rand(1,\n",
        "                                        requires_grad=True,\n",
        "                                        dtype=torch.float))\n",
        "\n",
        "  # forward mtehod to define the computation in the model\n",
        "  def forward(self, x: torch.Tensor) -> torch.Tensor:\n",
        "      return self.weights * x + self.bias # linear regression formula"
      ],
      "metadata": {
        "id": "NRQJL0ZVc8rD"
      },
      "execution_count": 137,
      "outputs": []
    },
    {
      "cell_type": "markdown",
      "source": [
        "### PyTorch model building essentials\n",
        "\n",
        "* torch.nn - contain all buildings for computational graph (such as neural network)\n",
        "* torch.nn.parameter - what parameters the model try and learn, ofter a PyTorch layer from torch.nn will set these for us\n",
        "* torch.nn.Module - base class for all neural network module, if sublass it, shoud overwrite forward()\n",
        "* torch.optim - optimizer in PyTorch live, will help gradient decent\n",
        "* def forward() - all nn.Module sublacces require to overwrite forward(), to define what heppen in the forward computation\n",
        "\n",
        "https://pytorch.org/tutorials/beginner/ptcheat.html"
      ],
      "metadata": {
        "id": "S4nxcyGuO605"
      }
    },
    {
      "cell_type": "markdown",
      "source": [
        "1. get data (torchvision.transform, torch.utils.data.Dataset, torch.utils.data.DataLoader)\n",
        "2. build model (loss function (torch.nn, torch.nn.Module, torchvision.models) optimizer (torch.optim))\n",
        "3. evaluate model (torchmetrics)\n",
        "4. improve through experiment (torch.utils.tensorboard)\n"
      ],
      "metadata": {
        "id": "KvNvNjTwRJbo"
      }
    },
    {
      "cell_type": "markdown",
      "source": [
        "### Check content of PyTorch model\n",
        "\n",
        "model has created, let see the inside\n",
        "\n",
        "to check model parameters use .parameters()"
      ],
      "metadata": {
        "id": "IETj3Uh7RsVf"
      }
    },
    {
      "cell_type": "code",
      "source": [
        "# create random seed\n",
        "torch.manual_seed(42)\n",
        "\n",
        "# create instance of model\n",
        "model_0 = LinearRegressionModel()\n",
        "\n",
        "# check the parameters\n",
        "list(model_0.parameters())"
      ],
      "metadata": {
        "colab": {
          "base_uri": "https://localhost:8080/"
        },
        "id": "Zn6OsX2wO3NG",
        "outputId": "2f089f6f-e7a5-4faa-c836-f1fedd5ef411"
      },
      "execution_count": 138,
      "outputs": [
        {
          "output_type": "execute_result",
          "data": {
            "text/plain": [
              "[Parameter containing:\n",
              " tensor([0.3367], requires_grad=True),\n",
              " Parameter containing:\n",
              " tensor([0.3904], requires_grad=True)]"
            ]
          },
          "metadata": {},
          "execution_count": 138
        }
      ]
    },
    {
      "cell_type": "code",
      "source": [
        "# list named parameters\n",
        "\n",
        "model_0.state_dict()"
      ],
      "metadata": {
        "colab": {
          "base_uri": "https://localhost:8080/"
        },
        "id": "l3HskPXuTLZg",
        "outputId": "1feaf641-67a5-4106-8e81-2930e93f88af"
      },
      "execution_count": 46,
      "outputs": [
        {
          "output_type": "execute_result",
          "data": {
            "text/plain": [
              "OrderedDict([('weights', tensor([0.3367])), ('bias', tensor([0.3904]))])"
            ]
          },
          "metadata": {},
          "execution_count": 46
        }
      ]
    },
    {
      "cell_type": "code",
      "source": [
        "weight, bias"
      ],
      "metadata": {
        "colab": {
          "base_uri": "https://localhost:8080/"
        },
        "id": "xUOzPgXOTasU",
        "outputId": "6d2e50ee-39b1-4654-e69f-0f3b692b4273"
      },
      "execution_count": 47,
      "outputs": [
        {
          "output_type": "execute_result",
          "data": {
            "text/plain": [
              "(0.7, 0.3)"
            ]
          },
          "metadata": {},
          "execution_count": 47
        }
      ]
    },
    {
      "cell_type": "markdown",
      "source": [
        "### Make prediction with `toech.inference_mode()`\n",
        "\n",
        "to check the model predictive power, lets see how well it predict `y_test` based on `X_test`\n",
        "\n",
        "when data pass through model, its going run through forward()\n"
      ],
      "metadata": {
        "id": "VtCusGpTT5zW"
      }
    },
    {
      "cell_type": "code",
      "source": [
        "X_test, y_test"
      ],
      "metadata": {
        "colab": {
          "base_uri": "https://localhost:8080/"
        },
        "id": "xgbrOx0DUcQ0",
        "outputId": "a80ec8f0-e186-4181-adc5-0d3dd398f83b"
      },
      "execution_count": 48,
      "outputs": [
        {
          "output_type": "execute_result",
          "data": {
            "text/plain": [
              "(tensor([[0.8000],\n",
              "         [0.8200],\n",
              "         [0.8400],\n",
              "         [0.8600],\n",
              "         [0.8800],\n",
              "         [0.9000],\n",
              "         [0.9200],\n",
              "         [0.9400],\n",
              "         [0.9600],\n",
              "         [0.9800]]),\n",
              " tensor([[0.8600],\n",
              "         [0.8740],\n",
              "         [0.8880],\n",
              "         [0.9020],\n",
              "         [0.9160],\n",
              "         [0.9300],\n",
              "         [0.9440],\n",
              "         [0.9580],\n",
              "         [0.9720],\n",
              "         [0.9860]]))"
            ]
          },
          "metadata": {},
          "execution_count": 48
        }
      ]
    },
    {
      "cell_type": "code",
      "source": [
        "y_preds = model_0(X_test)\n",
        "\n",
        "y_preds"
      ],
      "metadata": {
        "colab": {
          "base_uri": "https://localhost:8080/"
        },
        "id": "6uSgcj0zWZv0",
        "outputId": "9d8f60d0-5805-4af4-f8ff-ab2442ceff84"
      },
      "execution_count": 49,
      "outputs": [
        {
          "output_type": "execute_result",
          "data": {
            "text/plain": [
              "tensor([[0.6598],\n",
              "        [0.6665],\n",
              "        [0.6733],\n",
              "        [0.6800],\n",
              "        [0.6867],\n",
              "        [0.6935],\n",
              "        [0.7002],\n",
              "        [0.7069],\n",
              "        [0.7137],\n",
              "        [0.7204]], grad_fn=<AddBackward0>)"
            ]
          },
          "metadata": {},
          "execution_count": 49
        }
      ]
    },
    {
      "cell_type": "code",
      "source": [
        "# Make prediction with model\n",
        "with torch.inference_mode(): # context manager of do prediction, turn off gradient tracking. make it faster\n",
        "  y_preds = model_0(X_test)\n",
        "\n",
        "# also same with torch.no_grad()\n",
        "# with torch.no_grad():\n",
        "#   y_preds = model_0(X_test)\n",
        "\n",
        "y_preds"
      ],
      "metadata": {
        "colab": {
          "base_uri": "https://localhost:8080/"
        },
        "id": "-McGbjQrUOwE",
        "outputId": "da99084f-a5e2-4057-b2de-dec1d5aeed77"
      },
      "execution_count": 50,
      "outputs": [
        {
          "output_type": "execute_result",
          "data": {
            "text/plain": [
              "tensor([[0.6598],\n",
              "        [0.6665],\n",
              "        [0.6733],\n",
              "        [0.6800],\n",
              "        [0.6867],\n",
              "        [0.6935],\n",
              "        [0.7002],\n",
              "        [0.7069],\n",
              "        [0.7137],\n",
              "        [0.7204]])"
            ]
          },
          "metadata": {},
          "execution_count": 50
        }
      ]
    },
    {
      "cell_type": "code",
      "source": [
        "y_test"
      ],
      "metadata": {
        "colab": {
          "base_uri": "https://localhost:8080/"
        },
        "id": "xAEO5uoGVNbc",
        "outputId": "95dc0a07-f622-4da4-a6fb-a9a56b495b93"
      },
      "execution_count": 51,
      "outputs": [
        {
          "output_type": "execute_result",
          "data": {
            "text/plain": [
              "tensor([[0.8600],\n",
              "        [0.8740],\n",
              "        [0.8880],\n",
              "        [0.9020],\n",
              "        [0.9160],\n",
              "        [0.9300],\n",
              "        [0.9440],\n",
              "        [0.9580],\n",
              "        [0.9720],\n",
              "        [0.9860]])"
            ]
          },
          "metadata": {},
          "execution_count": 51
        }
      ]
    },
    {
      "cell_type": "code",
      "source": [
        "plot_predictions(predictions=y_preds)"
      ],
      "metadata": {
        "colab": {
          "base_uri": "https://localhost:8080/",
          "height": 599
        },
        "id": "RXXmJJR5V1cC",
        "outputId": "680bf98e-0e58-4d97-ddb5-aa85049240e1"
      },
      "execution_count": 52,
      "outputs": [
        {
          "output_type": "display_data",
          "data": {
            "text/plain": [
              "<Figure size 1000x700 with 1 Axes>"
            ],
            "image/png": "[encoded data removed]"
          },
          "metadata": {}
        }
      ]
    },
    {
      "cell_type": "markdown",
      "source": [
        "## Train model\n",
        "\n",
        "the main idea of training is to make model move from *unknown* parameter to *known* parameter\n",
        "\n",
        "or other words from poor representation of the data to a better representation of the data\n",
        "\n",
        "pne way to measure how poor them model prediction, is to use a loss function\n",
        "\n",
        "* loss function also be called cost function or criterion on dirrefent areas\n",
        "\n",
        "things we need to train:\n",
        "\n",
        "- **loss function**: function to measure how wrong model to ideal prediction\n",
        "- **optimizer**: take into account the loss of a model and adjust the model parameters (weight & bias) to improve the loss function\n",
        "\n",
        " inside optimizer often have to set two parameters:\n",
        "  - params - model parameter that need to optimize\n",
        "  - lr - hyperparameter that define how big/small the optimizer changes the parameter with each step\n",
        "\n",
        "specificaly for PyTorch, we need:\n",
        "* training loop\n",
        "* testing loop"
      ],
      "metadata": {
        "id": "eonAmfoTX1BH"
      }
    },
    {
      "cell_type": "code",
      "source": [
        "list(model_0.parameters())"
      ],
      "metadata": {
        "colab": {
          "base_uri": "https://localhost:8080/"
        },
        "id": "-WdOIgKyYHKB",
        "outputId": "3de9bc88-a6e0-49ed-8f89-e7f6422e79c7"
      },
      "execution_count": 53,
      "outputs": [
        {
          "output_type": "execute_result",
          "data": {
            "text/plain": [
              "[Parameter containing:\n",
              " tensor([0.3367], requires_grad=True),\n",
              " Parameter containing:\n",
              " tensor([0.3904], requires_grad=True)]"
            ]
          },
          "metadata": {},
          "execution_count": 53
        }
      ]
    },
    {
      "cell_type": "code",
      "source": [
        "# model parameters, value that model sets itself\n",
        "model_0.state_dict()"
      ],
      "metadata": {
        "colab": {
          "base_uri": "https://localhost:8080/"
        },
        "id": "DbKbrNzCZNsO",
        "outputId": "63fd470b-239b-4a8e-a8ca-f9c92bc09349"
      },
      "execution_count": 139,
      "outputs": [
        {
          "output_type": "execute_result",
          "data": {
            "text/plain": [
              "OrderedDict([('weights', tensor([0.3367])), ('bias', tensor([0.3904]))])"
            ]
          },
          "metadata": {},
          "execution_count": 139
        }
      ]
    },
    {
      "cell_type": "code",
      "source": [
        "# setup a loss function\n",
        "loss_fn = nn.L1Loss()\n",
        "\n",
        "# setup an optimizer (stochastic gradient descent)\n",
        "optimizer = torch.optim.SGD(params=model_0.parameters(),\n",
        "                            lr=0.01) # lr = learning rate = possible most important hyperparameter can be set, changes the parameters each iterator"
      ],
      "metadata": {
        "id": "2Wi0ynt9atRA"
      },
      "execution_count": 140,
      "outputs": []
    },
    {
      "cell_type": "markdown",
      "source": [
        "Q = how to choose loss function adn optimizer\n",
        "A = problem specific, but with experience you will get an idea of how works and what ddoesnt with particular problem set\n",
        "\n",
        "for example, for regression problem, a loss function `nn.L1Loss` and an optimizer `torch.optim.SGD` will suffice\n",
        "\n",
        "but for classification problem like photo of two label such dog or cat, use loss function of `nn.BCELoss` (Binary cross entropy loss)"
      ],
      "metadata": {
        "id": "R-7rv5F-eKR5"
      }
    },
    {
      "cell_type": "markdown",
      "source": [
        "### Building a training loop (and testing loop) in PyTorch\n",
        "\n",
        "for training loop, we need:\n",
        "0. loop through the data\n",
        "1. forward pass (involves data moving through model `forward()` functions) to make prediction of data - also called forward propogation\n",
        "2. calculate the loss (compare forward pass predictions to ground truth labels)\n",
        "3. optimizer zero grad\n",
        "4. loss backward - move backward through the network to calculate the gradients of each of the parameters of model with respect to the loss (**backpropogation**)\n",
        "5. optimizer step - use the optimizet to adjust the model parameters to try and improve the loss (**gradient descent**)\n"
      ],
      "metadata": {
        "id": "r2MNQcbhe9We"
      }
    },
    {
      "cell_type": "code",
      "source": [
        "list(model_0.parameters())"
      ],
      "metadata": {
        "colab": {
          "base_uri": "https://localhost:8080/"
        },
        "id": "X9cdVNLXhBeu",
        "outputId": "22d5ccf8-2876-4333-bd21-e4bc12099fb4"
      },
      "execution_count": 56,
      "outputs": [
        {
          "output_type": "execute_result",
          "data": {
            "text/plain": [
              "[Parameter containing:\n",
              " tensor([0.3367], requires_grad=True),\n",
              " Parameter containing:\n",
              " tensor([0.3904], requires_grad=True)]"
            ]
          },
          "metadata": {},
          "execution_count": 56
        }
      ]
    },
    {
      "cell_type": "code",
      "source": [
        "torch.manual_seed(42)\n",
        "\n",
        "# an epochs is one loop through the data (this is hyperparameter, because we set it itself)\n",
        "epochs = 100\n",
        "\n",
        "### Training\n",
        "# 0. loop through the data\n",
        "for epoch in range(epochs):\n",
        "  # set the model to training mode\n",
        "  model_0.train() # train mode in PyTorch set all parameters that require gradients to require gradients\n",
        "\n",
        "  # 1. forward pass\n",
        "  y_pred = model_0(X_train)\n",
        "\n",
        "  # 2. calculate the loss, different of model prediction and true values\n",
        "  loss = loss_fn(y_pred, y_train)\n",
        "  # print(f\"Loss: {loss}\")\n",
        "\n",
        "  # 3. optimizer zero grad, zero the gradients of the optimizer (accumulate by default)\n",
        "  optimizer.zero_grad()\n",
        "\n",
        "  # 4. perform backpropogation on the loss with respect to the parameters of the model\n",
        "  loss.backward()\n",
        "\n",
        "  # 5. step the optimizer (perform gradient descent)\n",
        "  optimizer.step() # default how the optimizer changes will accumulate through the loop, so we have zero them above in step 3 for the next iteration of the loop\n",
        "\n",
        "  # testing mode\n",
        "  model_0.eval() # turns off gradient tracking, that not needed for eval/test\n",
        "  with torch.inference_mode(): # turns of gradient tracing & more things behind things behind the scenes\n",
        "    # 1. do forward pass\n",
        "    test_pred = model_0(X_test)\n",
        "\n",
        "    # 2. calculate the loss\n",
        "    test_loss = loss_fn(test_pred, y_test)\n",
        "\n",
        "  if epoch % 10 == 0:\n",
        "    # Print what heppen\n",
        "    print(f\"Epoch: {epoch} | Loss: {loss}: Test loss: {test_loss}\")\n",
        "\n",
        "    # print model state_dict\n",
        "    print(model_0.state_dict())"
      ],
      "metadata": {
        "id": "8FSfsLOra1PT",
        "colab": {
          "base_uri": "https://localhost:8080/"
        },
        "outputId": "628c58e9-47af-485f-a151-dc920a330299"
      },
      "execution_count": 141,
      "outputs": [
        {
          "output_type": "stream",
          "name": "stdout",
          "text": [
            "Epoch: 0 | Loss: 0.08169572055339813: Test loss: 0.22662055492401123\n",
            "OrderedDict([('weights', tensor([0.3398])), ('bias', tensor([0.3939]))])\n",
            "Epoch: 10 | Loss: 0.06808149069547653: Test loss: 0.1807345449924469\n",
            "OrderedDict([('weights', tensor([0.3672])), ('bias', tensor([0.4154]))])\n",
            "Epoch: 20 | Loss: 0.06258393079042435: Test loss: 0.15627031028270721\n",
            "OrderedDict([('weights', tensor([0.3891])), ('bias', tensor([0.4204]))])\n",
            "Epoch: 30 | Loss: 0.05879194289445877: Test loss: 0.1418602615594864\n",
            "OrderedDict([('weights', tensor([0.4081])), ('bias', tensor([0.4179]))])\n",
            "Epoch: 40 | Loss: 0.05530194193124771: Test loss: 0.13084018230438232\n",
            "OrderedDict([('weights', tensor([0.4261])), ('bias', tensor([0.4129]))])\n",
            "Epoch: 50 | Loss: 0.051822252571582794: Test loss: 0.12050700187683105\n",
            "OrderedDict([('weights', tensor([0.4439])), ('bias', tensor([0.4074]))])\n",
            "Epoch: 60 | Loss: 0.04838593676686287: Test loss: 0.11223447322845459\n",
            "OrderedDict([('weights', tensor([0.4610])), ('bias', tensor([0.4004]))])\n",
            "Epoch: 70 | Loss: 0.044948760420084: Test loss: 0.10464880615472794\n",
            "OrderedDict([('weights', tensor([0.4780])), ('bias', tensor([0.3929]))])\n",
            "Epoch: 80 | Loss: 0.04152031987905502: Test loss: 0.09637625515460968\n",
            "OrderedDict([('weights', tensor([0.4951])), ('bias', tensor([0.3859]))])\n",
            "Epoch: 90 | Loss: 0.03808232396841049: Test loss: 0.08810374140739441\n",
            "OrderedDict([('weights', tensor([0.5123])), ('bias', tensor([0.3789]))])\n"
          ]
        }
      ]
    },
    {
      "cell_type": "code",
      "source": [
        "weight, bias"
      ],
      "metadata": {
        "id": "v7VES_tn3U7u",
        "colab": {
          "base_uri": "https://localhost:8080/"
        },
        "outputId": "cf196479-1f77-404d-fc7c-ebbbeda88332"
      },
      "execution_count": 60,
      "outputs": [
        {
          "output_type": "execute_result",
          "data": {
            "text/plain": [
              "(0.7, 0.3)"
            ]
          },
          "metadata": {},
          "execution_count": 60
        }
      ]
    },
    {
      "cell_type": "code",
      "source": [
        "with torch.inference_mode():\n",
        "  y_preds_new = model_0(X_test)"
      ],
      "metadata": {
        "id": "DjnEqNkRV8rV"
      },
      "execution_count": 142,
      "outputs": []
    },
    {
      "cell_type": "code",
      "source": [
        "plot_predictions(predictions=y_preds)"
      ],
      "metadata": {
        "colab": {
          "base_uri": "https://localhost:8080/",
          "height": 599
        },
        "id": "TkK__lsGWDQY",
        "outputId": "b1595894-d601-4b15-f5fa-8300b087c768"
      },
      "execution_count": 143,
      "outputs": [
        {
          "output_type": "display_data",
          "data": {
            "text/plain": [
              "<Figure size 1000x700 with 1 Axes>"
            ],
            "image/png": "[encoded data removed]"
          },
          "metadata": {}
        }
      ]
    },
    {
      "cell_type": "code",
      "source": [
        "plot_predictions(predictions=y_preds_new)"
      ],
      "metadata": {
        "colab": {
          "base_uri": "https://localhost:8080/",
          "height": 599
        },
        "id": "hqreZqL3WbOt",
        "outputId": "b0feb471-4f8f-4e06-c1bc-b7b8d7b56a9a"
      },
      "execution_count": 144,
      "outputs": [
        {
          "output_type": "display_data",
          "data": {
            "text/plain": [
              "<Figure size 1000x700 with 1 Axes>"
            ],
            "image/png": "[encoded data removed]"
          },
          "metadata": {}
        }
      ]
    },
    {
      "cell_type": "markdown",
      "source": [
        "PyTorch optimization loop song\n",
        "its train time\n",
        "\n",
        "do the forward loss\n",
        "\n",
        "calculate the loss\n",
        "\n",
        "optimizer zero grad\n",
        "\n",
        "losssss backward\n",
        "\n",
        "\n",
        "optimizer step step step\n",
        "\n",
        "\n",
        "lets test now\n",
        "\n",
        "with torch no grad\n",
        "\n",
        "do the forward pass\n",
        "\n",
        "calculate the loss\n",
        "\n",
        "watch it go down down down"
      ],
      "metadata": {
        "id": "5AG35y8M279Q"
      }
    },
    {
      "cell_type": "code",
      "source": [
        "model_0.state_dict()"
      ],
      "metadata": {
        "colab": {
          "base_uri": "https://localhost:8080/"
        },
        "id": "Ev0qhTY7UfUY",
        "outputId": "a1c01063-0d7c-4f6e-aec3-e91630e8bdab"
      },
      "execution_count": 68,
      "outputs": [
        {
          "output_type": "execute_result",
          "data": {
            "text/plain": [
              "OrderedDict([('weights', tensor([0.3515])), ('bias', tensor([0.4049]))])"
            ]
          },
          "metadata": {},
          "execution_count": 68
        }
      ]
    },
    {
      "cell_type": "code",
      "source": [],
      "metadata": {
        "id": "TGsEcC7SXLW1"
      },
      "execution_count": null,
      "outputs": []
    }
  ]
}