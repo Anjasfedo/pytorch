{
  "nbformat": 4,
  "nbformat_minor": 0,
  "metadata": {
    "colab": {
      "provenance": [],
      "authorship_tag": "ABX9TyMoBZs0d9EnJvIUQElLdVCR",
      "include_colab_link": true
    },
    "kernelspec": {
      "name": "python3",
      "display_name": "Python 3"
    },
    "language_info": {
      "name": "python"
    }
  },
  "cells": [
    {
      "cell_type": "markdown",
      "metadata": {
        "id": "view-in-github",
        "colab_type": "text"
      },
      "source": [
        "<a href=\"https://colab.research.google.com/github/Anjasfedo/pytorch/blob/main/01_pytorch_workflow.ipynb\" target=\"_parent\"><img src=\"https://colab.research.google.com/assets/colab-badge.svg\" alt=\"Open In Colab\"/></a>"
      ]
    },
    {
      "cell_type": "markdown",
      "source": [
        "# PyTorch Workflow\n",
        "\n",
        "PyTorch end-to-end workflow"
      ],
      "metadata": {
        "id": "D6f18HoJN7rb"
      }
    },
    {
      "cell_type": "code",
      "execution_count": 36,
      "metadata": {
        "id": "VY60zMXkoNQJ"
      },
      "outputs": [],
      "source": [
        "what_were_covering = {1: \"data (prepare & load)\",\n",
        "           2: \"build model\",\n",
        "           3: \"fitting model to data (training)\",\n",
        "           4: \"make predict and evaluate model (inference)\",\n",
        "           5: \"save & load model\",\n",
        "           6: \"put all together\"}"
      ]
    },
    {
      "cell_type": "code",
      "source": [
        "import torch\n",
        "from torch import nn # nn contain all PyTorch building block for neural network\n",
        "import matplotlib.pyplot as plt\n",
        "\n",
        "torch.__version__"
      ],
      "metadata": {
        "colab": {
          "base_uri": "https://localhost:8080/",
          "height": 35
        },
        "id": "nD01e0M5OrZc",
        "outputId": "dd409f0e-38f3-42d6-d84d-ab8af3cae4b2"
      },
      "execution_count": 37,
      "outputs": [
        {
          "output_type": "execute_result",
          "data": {
            "text/plain": [
              "'2.3.0+cu121'"
            ],
            "application/vnd.google.colaboratory.intrinsic+json": {
              "type": "string"
            }
          },
          "metadata": {},
          "execution_count": 37
        }
      ]
    },
    {
      "cell_type": "markdown",
      "source": [
        "## Data preparing & Loading\n",
        "\n",
        "Data can be almost anything on machine learning\n",
        "- Excel spreadsheet\n",
        "- Text\n",
        "- Images\n",
        "- Videos\n",
        "- Audio\n",
        "- DNA\n",
        "\n",
        "machine learning is game of two part\n",
        "1. get data into numerical representation\n",
        "2. build model to learn patern based on that numerical representation\n",
        "\n",
        "to showcase this, lets create some *known* data from linear regression formula\n",
        "\n",
        "use linear regression formula to make straight line with known *parameters*\n",
        "\n"
      ],
      "metadata": {
        "id": "kkJ5K2_oPolm"
      }
    },
    {
      "cell_type": "code",
      "source": [
        "# create known parameter\n",
        "\n",
        "weight = 0.7\n",
        "bias = 0.3\n",
        "\n",
        "# create\n",
        "start = 0\n",
        "end = 1\n",
        "step = 0.02\n",
        "\n",
        "X = torch.arange(start, end, step).unsqueeze(dim=1)\n",
        "y = weight * X + bias\n",
        "\n",
        "X[:10], y[:10]"
      ],
      "metadata": {
        "colab": {
          "base_uri": "https://localhost:8080/"
        },
        "id": "PCQUa5GbQQfB",
        "outputId": "875d3aba-a21a-4c4b-9e94-7a8845254ff7"
      },
      "execution_count": 38,
      "outputs": [
        {
          "output_type": "execute_result",
          "data": {
            "text/plain": [
              "(tensor([[0.0000],\n",
              "         [0.0200],\n",
              "         [0.0400],\n",
              "         [0.0600],\n",
              "         [0.0800],\n",
              "         [0.1000],\n",
              "         [0.1200],\n",
              "         [0.1400],\n",
              "         [0.1600],\n",
              "         [0.1800]]),\n",
              " tensor([[0.3000],\n",
              "         [0.3140],\n",
              "         [0.3280],\n",
              "         [0.3420],\n",
              "         [0.3560],\n",
              "         [0.3700],\n",
              "         [0.3840],\n",
              "         [0.3980],\n",
              "         [0.4120],\n",
              "         [0.4260]]))"
            ]
          },
          "metadata": {},
          "execution_count": 38
        }
      ]
    },
    {
      "cell_type": "code",
      "source": [
        "len(X), len(y)"
      ],
      "metadata": {
        "colab": {
          "base_uri": "https://localhost:8080/"
        },
        "id": "8BUSa5QFR9hn",
        "outputId": "5be84a4a-bf37-4220-a897-dfb427c7e4af"
      },
      "execution_count": 39,
      "outputs": [
        {
          "output_type": "execute_result",
          "data": {
            "text/plain": [
              "(50, 50)"
            ]
          },
          "metadata": {},
          "execution_count": 39
        }
      ]
    },
    {
      "cell_type": "markdown",
      "source": [
        "### Splitting data into training and test sets\n",
        "\n",
        "most important concepts in machine learning in general\n",
        "\n",
        "- training set (course material)\n",
        "- validation set (practice exam)\n",
        "- test set (final exam)\n",
        "\n",
        "Generalization, ability of machine learning model to perform well on data it hasnt seed before\n",
        "\n",
        "create training and set with the data"
      ],
      "metadata": {
        "id": "NnMh91BOTSxV"
      }
    },
    {
      "cell_type": "code",
      "source": [
        "# create a train/test split\n",
        "train_split = int(0.8 * len(X))\n",
        "\n",
        "X_train, y_train = X[:train_split], y[:train_split]\n",
        "X_test, y_test = X[train_split:], y[train_split:]\n",
        "\n",
        "len(X_train), len(y_train), len(X_test), len(y_test)"
      ],
      "metadata": {
        "colab": {
          "base_uri": "https://localhost:8080/"
        },
        "id": "Mi7ea7Q2Yuco",
        "outputId": "f5425357-900c-421c-b7c5-9869ca9fc020"
      },
      "execution_count": 40,
      "outputs": [
        {
          "output_type": "execute_result",
          "data": {
            "text/plain": [
              "(40, 40, 10, 10)"
            ]
          },
          "metadata": {},
          "execution_count": 40
        }
      ]
    },
    {
      "cell_type": "code",
      "source": [
        "X_test, y_test"
      ],
      "metadata": {
        "colab": {
          "base_uri": "https://localhost:8080/"
        },
        "id": "GLZVE5boVJ4-",
        "outputId": "c0c11155-a829-4826-9493-3cd1d811626b"
      },
      "execution_count": 41,
      "outputs": [
        {
          "output_type": "execute_result",
          "data": {
            "text/plain": [
              "(tensor([[0.8000],\n",
              "         [0.8200],\n",
              "         [0.8400],\n",
              "         [0.8600],\n",
              "         [0.8800],\n",
              "         [0.9000],\n",
              "         [0.9200],\n",
              "         [0.9400],\n",
              "         [0.9600],\n",
              "         [0.9800]]),\n",
              " tensor([[0.8600],\n",
              "         [0.8740],\n",
              "         [0.8880],\n",
              "         [0.9020],\n",
              "         [0.9160],\n",
              "         [0.9300],\n",
              "         [0.9440],\n",
              "         [0.9580],\n",
              "         [0.9720],\n",
              "         [0.9860]]))"
            ]
          },
          "metadata": {},
          "execution_count": 41
        }
      ]
    },
    {
      "cell_type": "markdown",
      "source": [
        "How to better visualize data\n",
        "\n",
        "this is where data explorer motto comes in\n",
        "\"Visualize, visualize, visualize!\""
      ],
      "metadata": {
        "id": "1EtxnQ_VaJUd"
      }
    },
    {
      "cell_type": "code",
      "source": [
        "def plot_predictions(train_data=X_train,\n",
        "                     train_labels=y_train,\n",
        "                     test_data=X_test,\n",
        "                     test_labels=y_test,\n",
        "                     predictions=None):\n",
        "\n",
        "  \"\"\"\n",
        "  Plots training data, test data, compares predictions\n",
        "  \"\"\"\n",
        "\n",
        "  plt.figure(figsize=(10, 7))\n",
        "\n",
        "  # plot training data in blue\n",
        "  plt.scatter(train_data, train_labels, c=\"b\", s=4, label=\"training data\")\n",
        "\n",
        "  # plot test data in green\n",
        "  plt.scatter(test_data, test_labels, c=\"g\", s=4, label=\"testing data\")\n",
        "\n",
        "  # plot the predictions\n",
        "  if predictions is not None:\n",
        "    plt.scatter(test_data, predictions, c=\"r\", s=4, label=\"predictions\")\n",
        "\n",
        "  # show the legend\n",
        "  plt.legend(prop={\"size\": 14})"
      ],
      "metadata": {
        "id": "H7z8Y6iZZtHF"
      },
      "execution_count": 42,
      "outputs": []
    },
    {
      "cell_type": "code",
      "source": [
        "plot_predictions()"
      ],
      "metadata": {
        "colab": {
          "base_uri": "https://localhost:8080/",
          "height": 599
        },
        "id": "sqC73B2GbtpZ",
        "outputId": "c0e6e8aa-3537-4e11-ce97-1beae8d4a387"
      },
      "execution_count": 43,
      "outputs": [
        {
          "output_type": "display_data",
          "data": {
            "text/plain": [
              "<Figure size 1000x700 with 1 Axes>"
            ],
            "image/png": "[encoded data removed]"
          },
          "metadata": {}
        }
      ]
    },
    {
      "cell_type": "markdown",
      "source": [
        "## Build Model\n",
        "\n",
        "first PyTorch model\n",
        "\n",
        "https://realpython.com/python-classes/\n",
        "\n",
        "the model does\n",
        "- start with random values (weight & bias)\n",
        "- look at training data and adjuct the random values to better represent (or get closer to) to ideal values (the weight & bias values we used to create the data)\n",
        "\n",
        "Through two main algorithms:\n",
        "1. gradient decent\n",
        "2. backpropogation"
      ],
      "metadata": {
        "id": "MaajWdAUcyVo"
      }
    },
    {
      "cell_type": "code",
      "source": [
        "# create linear regression model class\n",
        "class LinearRegressionModel(nn.Module):\n",
        "  def __init__(self):\n",
        "    super().__init__()\n",
        "\n",
        "    # model parameter\n",
        "    self.weights = nn.Parameter(torch.randn(1,\n",
        "                                            requires_grad=True,\n",
        "                                            dtype=torch.float))\n",
        "    self.bias = nn.Parameter(torch.rand(1,\n",
        "                                        requires_grad=True,\n",
        "                                        dtype=torch.float))\n",
        "\n",
        "  # forward mtehod to define the computation in the model\n",
        "  def forward(self, x: torch.Tensor) -> torch.Tensor:\n",
        "      return self.weights * x + self.bias # linear regression formula"
      ],
      "metadata": {
        "id": "NRQJL0ZVc8rD"
      },
      "execution_count": 44,
      "outputs": []
    },
    {
      "cell_type": "markdown",
      "source": [
        "### PyTorch model building essentials\n",
        "\n",
        "* torch.nn - contain all buildings for computational graph (such as neural network)\n",
        "* torch.nn.parameter - what parameters the model try and learn, ofter a PyTorch layer from torch.nn will set these for us\n",
        "* torch.nn.Module - base class for all neural network module, if sublass it, shoud overwrite forward()\n",
        "* torch.optim - optimizer in PyTorch live, will help gradient decent\n",
        "* def forward() - all nn.Module sublacces require to overwrite forward(), to define what heppen in the forward computation\n",
        "\n",
        "https://pytorch.org/tutorials/beginner/ptcheat.html"
      ],
      "metadata": {
        "id": "S4nxcyGuO605"
      }
    },
    {
      "cell_type": "markdown",
      "source": [
        "1. get data (torchvision.transform, torch.utils.data.Dataset, torch.utils.data.DataLoader)\n",
        "2. build model (loss function (torch.nn, torch.nn.Module, torchvision.models) optimizer (torch.optim))\n",
        "3. evaluate model (torchmetrics)\n",
        "4. improve through experiment (torch.utils.tensorboard)\n"
      ],
      "metadata": {
        "id": "KvNvNjTwRJbo"
      }
    },
    {
      "cell_type": "markdown",
      "source": [
        "### Check content of PyTorch model\n",
        "\n",
        "model has created, let see the inside\n",
        "\n",
        "to check model parameters use .parameters()"
      ],
      "metadata": {
        "id": "IETj3Uh7RsVf"
      }
    },
    {
      "cell_type": "code",
      "source": [
        "# create random seed\n",
        "torch.manual_seed(42)\n",
        "\n",
        "# create instance of model\n",
        "model_0 = LinearRegressionModel()\n",
        "\n",
        "# check the parameters\n",
        "list(model_0.parameters())"
      ],
      "metadata": {
        "colab": {
          "base_uri": "https://localhost:8080/"
        },
        "id": "Zn6OsX2wO3NG",
        "outputId": "f8dcc5e9-6b21-40a9-be26-60da8ea39d05"
      },
      "execution_count": 45,
      "outputs": [
        {
          "output_type": "execute_result",
          "data": {
            "text/plain": [
              "[Parameter containing:\n",
              " tensor([0.3367], requires_grad=True),\n",
              " Parameter containing:\n",
              " tensor([0.3904], requires_grad=True)]"
            ]
          },
          "metadata": {},
          "execution_count": 45
        }
      ]
    },
    {
      "cell_type": "code",
      "source": [
        "# list named parameters\n",
        "\n",
        "model_0.state_dict()"
      ],
      "metadata": {
        "colab": {
          "base_uri": "https://localhost:8080/"
        },
        "id": "l3HskPXuTLZg",
        "outputId": "1feaf641-67a5-4106-8e81-2930e93f88af"
      },
      "execution_count": 46,
      "outputs": [
        {
          "output_type": "execute_result",
          "data": {
            "text/plain": [
              "OrderedDict([('weights', tensor([0.3367])), ('bias', tensor([0.3904]))])"
            ]
          },
          "metadata": {},
          "execution_count": 46
        }
      ]
    },
    {
      "cell_type": "code",
      "source": [
        "weight, bias"
      ],
      "metadata": {
        "colab": {
          "base_uri": "https://localhost:8080/"
        },
        "id": "xUOzPgXOTasU",
        "outputId": "6d2e50ee-39b1-4654-e69f-0f3b692b4273"
      },
      "execution_count": 47,
      "outputs": [
        {
          "output_type": "execute_result",
          "data": {
            "text/plain": [
              "(0.7, 0.3)"
            ]
          },
          "metadata": {},
          "execution_count": 47
        }
      ]
    },
    {
      "cell_type": "markdown",
      "source": [
        "### Make prediction with `toech.inference_mode()`\n",
        "\n",
        "to check the model predictive power, lets see how well it predict `y_test` based on `X_test`\n",
        "\n",
        "when data pass through model, its going run through forward()\n"
      ],
      "metadata": {
        "id": "VtCusGpTT5zW"
      }
    },
    {
      "cell_type": "code",
      "source": [
        "X_test, y_test"
      ],
      "metadata": {
        "colab": {
          "base_uri": "https://localhost:8080/"
        },
        "id": "xgbrOx0DUcQ0",
        "outputId": "a80ec8f0-e186-4181-adc5-0d3dd398f83b"
      },
      "execution_count": 48,
      "outputs": [
        {
          "output_type": "execute_result",
          "data": {
            "text/plain": [
              "(tensor([[0.8000],\n",
              "         [0.8200],\n",
              "         [0.8400],\n",
              "         [0.8600],\n",
              "         [0.8800],\n",
              "         [0.9000],\n",
              "         [0.9200],\n",
              "         [0.9400],\n",
              "         [0.9600],\n",
              "         [0.9800]]),\n",
              " tensor([[0.8600],\n",
              "         [0.8740],\n",
              "         [0.8880],\n",
              "         [0.9020],\n",
              "         [0.9160],\n",
              "         [0.9300],\n",
              "         [0.9440],\n",
              "         [0.9580],\n",
              "         [0.9720],\n",
              "         [0.9860]]))"
            ]
          },
          "metadata": {},
          "execution_count": 48
        }
      ]
    },
    {
      "cell_type": "code",
      "source": [
        "y_preds = model_0(X_test)\n",
        "\n",
        "y_preds"
      ],
      "metadata": {
        "colab": {
          "base_uri": "https://localhost:8080/"
        },
        "id": "6uSgcj0zWZv0",
        "outputId": "9d8f60d0-5805-4af4-f8ff-ab2442ceff84"
      },
      "execution_count": 49,
      "outputs": [
        {
          "output_type": "execute_result",
          "data": {
            "text/plain": [
              "tensor([[0.6598],\n",
              "        [0.6665],\n",
              "        [0.6733],\n",
              "        [0.6800],\n",
              "        [0.6867],\n",
              "        [0.6935],\n",
              "        [0.7002],\n",
              "        [0.7069],\n",
              "        [0.7137],\n",
              "        [0.7204]], grad_fn=<AddBackward0>)"
            ]
          },
          "metadata": {},
          "execution_count": 49
        }
      ]
    },
    {
      "cell_type": "code",
      "source": [
        "# Make prediction with model\n",
        "with torch.inference_mode(): # context manager of do prediction, turn off gradient tracking. make it faster\n",
        "  y_preds = model_0(X_test)\n",
        "\n",
        "# also same with torch.no_grad()\n",
        "# with torch.no_grad():\n",
        "#   y_preds = model_0(X_test)\n",
        "\n",
        "y_preds"
      ],
      "metadata": {
        "colab": {
          "base_uri": "https://localhost:8080/"
        },
        "id": "-McGbjQrUOwE",
        "outputId": "da99084f-a5e2-4057-b2de-dec1d5aeed77"
      },
      "execution_count": 50,
      "outputs": [
        {
          "output_type": "execute_result",
          "data": {
            "text/plain": [
              "tensor([[0.6598],\n",
              "        [0.6665],\n",
              "        [0.6733],\n",
              "        [0.6800],\n",
              "        [0.6867],\n",
              "        [0.6935],\n",
              "        [0.7002],\n",
              "        [0.7069],\n",
              "        [0.7137],\n",
              "        [0.7204]])"
            ]
          },
          "metadata": {},
          "execution_count": 50
        }
      ]
    },
    {
      "cell_type": "code",
      "source": [
        "y_test"
      ],
      "metadata": {
        "colab": {
          "base_uri": "https://localhost:8080/"
        },
        "id": "xAEO5uoGVNbc",
        "outputId": "95dc0a07-f622-4da4-a6fb-a9a56b495b93"
      },
      "execution_count": 51,
      "outputs": [
        {
          "output_type": "execute_result",
          "data": {
            "text/plain": [
              "tensor([[0.8600],\n",
              "        [0.8740],\n",
              "        [0.8880],\n",
              "        [0.9020],\n",
              "        [0.9160],\n",
              "        [0.9300],\n",
              "        [0.9440],\n",
              "        [0.9580],\n",
              "        [0.9720],\n",
              "        [0.9860]])"
            ]
          },
          "metadata": {},
          "execution_count": 51
        }
      ]
    },
    {
      "cell_type": "code",
      "source": [
        "plot_predictions(predictions=y_preds)"
      ],
      "metadata": {
        "colab": {
          "base_uri": "https://localhost:8080/",
          "height": 599
        },
        "id": "RXXmJJR5V1cC",
        "outputId": "680bf98e-0e58-4d97-ddb5-aa85049240e1"
      },
      "execution_count": 52,
      "outputs": [
        {
          "output_type": "display_data",
          "data": {
            "text/plain": [
              "<Figure size 1000x700 with 1 Axes>"
            ],
            "image/png": "[encoded data removed]"
          },
          "metadata": {}
        }
      ]
    },
    {
      "cell_type": "markdown",
      "source": [
        "## Train model\n",
        "\n",
        "the main idea of training is to make model move from *unknown* parameter to *known* parameter\n",
        "\n",
        "or other words from poor representation of the data to a better representation of the data\n",
        "\n",
        "pne way to measure how poor them model prediction, is to use a loss function\n",
        "\n",
        "* loss function also be called cost function or criterion on dirrefent areas\n",
        "\n",
        "things we need to train:\n",
        "\n",
        "- **loss function**: function to measure how wrong model to ideal prediction\n",
        "- **optimizer**: take into account the loss of a model and adjust the model parameters (weight & bias) to improve the loss function\n",
        "\n",
        " inside optimizer often have to set two parameters:\n",
        "  - params - model parameter that need to optimize\n",
        "  - lr - hyperparameter that define how big/small the optimizer changes the parameter with each step\n",
        "\n",
        "specificaly for PyTorch, we need:\n",
        "* training loop\n",
        "* testing loop"
      ],
      "metadata": {
        "id": "eonAmfoTX1BH"
      }
    },
    {
      "cell_type": "code",
      "source": [
        "list(model_0.parameters())"
      ],
      "metadata": {
        "colab": {
          "base_uri": "https://localhost:8080/"
        },
        "id": "-WdOIgKyYHKB",
        "outputId": "3de9bc88-a6e0-49ed-8f89-e7f6422e79c7"
      },
      "execution_count": 53,
      "outputs": [
        {
          "output_type": "execute_result",
          "data": {
            "text/plain": [
              "[Parameter containing:\n",
              " tensor([0.3367], requires_grad=True),\n",
              " Parameter containing:\n",
              " tensor([0.3904], requires_grad=True)]"
            ]
          },
          "metadata": {},
          "execution_count": 53
        }
      ]
    },
    {
      "cell_type": "code",
      "source": [
        "# model parameters, value that model sets itself\n",
        "model_0.state_dict()"
      ],
      "metadata": {
        "colab": {
          "base_uri": "https://localhost:8080/"
        },
        "id": "DbKbrNzCZNsO",
        "outputId": "65b2e99d-7382-4439-e171-dde47a063cb0"
      },
      "execution_count": 54,
      "outputs": [
        {
          "output_type": "execute_result",
          "data": {
            "text/plain": [
              "OrderedDict([('weights', tensor([0.3367])), ('bias', tensor([0.3904]))])"
            ]
          },
          "metadata": {},
          "execution_count": 54
        }
      ]
    },
    {
      "cell_type": "code",
      "source": [
        "# setup a loss function\n",
        "loss_fn = nn.L1Loss()\n",
        "\n",
        "# setup an optimizer (stochastic gradient descent)\n",
        "optimizer = torch.optim.SGD(params=model_0.parameters(),\n",
        "                            lr=0.01) # lr = learning rate = possible most important hyperparameter can be set, changes the parameters each iterator"
      ],
      "metadata": {
        "id": "2Wi0ynt9atRA"
      },
      "execution_count": 55,
      "outputs": []
    },
    {
      "cell_type": "markdown",
      "source": [
        "Q = how to choose loss function adn optimizer\n",
        "A = problem specific, but with experience you will get an idea of how works and what ddoesnt with particular problem set\n",
        "\n",
        "for example, for regression problem, a loss function `nn.L1Loss` and an optimizer `torch.optim.SGD` will suffice\n",
        "\n",
        "but for classification problem like photo of two label such dog or cat, use loss function of `nn.BCELoss` (Binary cross entropy loss)"
      ],
      "metadata": {
        "id": "R-7rv5F-eKR5"
      }
    },
    {
      "cell_type": "markdown",
      "source": [
        "### Building a training loop (and testing loop) in PyTorch\n",
        "\n",
        "for training loop, we need:\n",
        "0. loop through the data\n",
        "1. forward pass (involves data moving through model `forward()` functions) to make prediction of data - also called forward propogation\n",
        "2. calculate the loss (compare forward pass predictions to ground truth labels)\n",
        "3. optimizer zero grad\n",
        "4. loss backward - move backward through the network to calculate the gradients of each of the parameters of model with respect to the loss (**backpropogation**)\n",
        "5. optimizer step - use the optimizet to adjust the model parameters to try and improve the loss (**gradient descent**)\n"
      ],
      "metadata": {
        "id": "r2MNQcbhe9We"
      }
    },
    {
      "cell_type": "code",
      "source": [
        "list(model_0.parameters())"
      ],
      "metadata": {
        "colab": {
          "base_uri": "https://localhost:8080/"
        },
        "id": "X9cdVNLXhBeu",
        "outputId": "22d5ccf8-2876-4333-bd21-e4bc12099fb4"
      },
      "execution_count": 56,
      "outputs": [
        {
          "output_type": "execute_result",
          "data": {
            "text/plain": [
              "[Parameter containing:\n",
              " tensor([0.3367], requires_grad=True),\n",
              " Parameter containing:\n",
              " tensor([0.3904], requires_grad=True)]"
            ]
          },
          "metadata": {},
          "execution_count": 56
        }
      ]
    },
    {
      "cell_type": "code",
      "source": [
        "# an epochs is one loop through the data (this is hyperparameter, because we set it itself)\n",
        "epochs = 100\n",
        "\n",
        "### Training\n",
        "# 0. loop through the data\n",
        "for epoch in range(epochs):\n",
        "  # set the model to training mode\n",
        "  model_0.train() # train mode in PyTorch set all parameters that require gradients to require gradients\n",
        "\n",
        "  # 1. forward pass\n",
        "  y_pred = model_0(X_train)\n",
        "\n",
        "  # 2. calculate the loss, different of model prediction and true values\n",
        "  loss = loss_fn(y_pred, y_train)\n",
        "  print(f\"Loss: {loss}\")\n",
        "\n",
        "  # 3. optimizer zero grad, zero the gradients of the optimizer (accumulate by default)\n",
        "  optimizer.zero_grad()\n",
        "\n",
        "  # 4. perform backpropogation on the loss with respect to the parameters of the model\n",
        "  loss.backward()\n",
        "\n",
        "  # 5. step the optimizer (perform gradient descent)\n",
        "  optimizer.step() # default how the optimizer changes will accumulate through the loop, so we have zero them above in step 3 for the next iteration of the loop\n",
        "\n",
        "  model_0.eval() # turns off gradient tracking\n",
        "\n",
        "  # print model state_dict\n",
        "  print(model_0.state_dict())"
      ],
      "metadata": {
        "id": "8FSfsLOra1PT",
        "colab": {
          "base_uri": "https://localhost:8080/"
        },
        "outputId": "bc269777-d455-4a2c-a162-2540d3a96e7a"
      },
      "execution_count": 133,
      "outputs": [
        {
          "output_type": "stream",
          "name": "stdout",
          "text": [
            "Loss: 0.047700732946395874\n",
            "OrderedDict([('weights', tensor([0.4644])), ('bias', tensor([0.3989]))])\n",
            "Loss: 0.04735199362039566\n",
            "OrderedDict([('weights', tensor([0.4660])), ('bias', tensor([0.3979]))])\n",
            "Loss: 0.04701553285121918\n",
            "OrderedDict([('weights', tensor([0.4678])), ('bias', tensor([0.3974]))])\n",
            "Loss: 0.04666654020547867\n",
            "OrderedDict([('weights', tensor([0.4696])), ('bias', tensor([0.3969]))])\n",
            "Loss: 0.04632677882909775\n",
            "OrderedDict([('weights', tensor([0.4712])), ('bias', tensor([0.3959]))])\n",
            "Loss: 0.04598133638501167\n",
            "OrderedDict([('weights', tensor([0.4730])), ('bias', tensor([0.3954]))])\n",
            "Loss: 0.04563777148723602\n",
            "OrderedDict([('weights', tensor([0.4746])), ('bias', tensor([0.3944]))])\n",
            "Loss: 0.04529613256454468\n",
            "OrderedDict([('weights', tensor([0.4764])), ('bias', tensor([0.3939]))])\n",
            "Loss: 0.044948760420084\n",
            "OrderedDict([('weights', tensor([0.4780])), ('bias', tensor([0.3929]))])\n",
            "Loss: 0.04461093619465828\n",
            "OrderedDict([('weights', tensor([0.4798])), ('bias', tensor([0.3924]))])\n",
            "Loss: 0.04426193609833717\n",
            "OrderedDict([('weights', tensor([0.4816])), ('bias', tensor([0.3919]))])\n",
            "Loss: 0.043923549354076385\n",
            "OrderedDict([('weights', tensor([0.4832])), ('bias', tensor([0.3909]))])\n",
            "Loss: 0.04357672855257988\n",
            "OrderedDict([('weights', tensor([0.4850])), ('bias', tensor([0.3904]))])\n",
            "Loss: 0.04323454201221466\n",
            "OrderedDict([('weights', tensor([0.4866])), ('bias', tensor([0.3894]))])\n",
            "Loss: 0.042891524732112885\n",
            "OrderedDict([('weights', tensor([0.4884])), ('bias', tensor([0.3889]))])\n",
            "Loss: 0.042545534670352936\n",
            "OrderedDict([('weights', tensor([0.4900])), ('bias', tensor([0.3879]))])\n",
            "Loss: 0.042206332087516785\n",
            "OrderedDict([('weights', tensor([0.4918])), ('bias', tensor([0.3874]))])\n",
            "Loss: 0.04185732454061508\n",
            "OrderedDict([('weights', tensor([0.4936])), ('bias', tensor([0.3869]))])\n",
            "Loss: 0.04152031987905502\n",
            "OrderedDict([('weights', tensor([0.4951])), ('bias', tensor([0.3859]))])\n",
            "Loss: 0.041172128170728683\n",
            "OrderedDict([('weights', tensor([0.4969])), ('bias', tensor([0.3854]))])\n",
            "Loss: 0.0408313125371933\n",
            "OrderedDict([('weights', tensor([0.4985])), ('bias', tensor([0.3844]))])\n",
            "Loss: 0.04048692435026169\n",
            "OrderedDict([('weights', tensor([0.5003])), ('bias', tensor([0.3839]))])\n",
            "Loss: 0.04014230892062187\n",
            "OrderedDict([('weights', tensor([0.5019])), ('bias', tensor([0.3829]))])\n",
            "Loss: 0.03980172425508499\n",
            "OrderedDict([('weights', tensor([0.5037])), ('bias', tensor([0.3824]))])\n",
            "Loss: 0.03945329785346985\n",
            "OrderedDict([('weights', tensor([0.5053])), ('bias', tensor([0.3814]))])\n",
            "Loss: 0.039116524159908295\n",
            "OrderedDict([('weights', tensor([0.5071])), ('bias', tensor([0.3809]))])\n",
            "Loss: 0.03876752778887749\n",
            "OrderedDict([('weights', tensor([0.5089])), ('bias', tensor([0.3804]))])\n",
            "Loss: 0.038428083062171936\n",
            "OrderedDict([('weights', tensor([0.5105])), ('bias', tensor([0.3794]))])\n",
            "Loss: 0.03808232396841049\n",
            "OrderedDict([('weights', tensor([0.5123])), ('bias', tensor([0.3789]))])\n",
            "Loss: 0.03773907572031021\n",
            "OrderedDict([('weights', tensor([0.5139])), ('bias', tensor([0.3779]))])\n",
            "Loss: 0.037397127598524094\n",
            "OrderedDict([('weights', tensor([0.5157])), ('bias', tensor([0.3774]))])\n",
            "Loss: 0.03705006465315819\n",
            "OrderedDict([('weights', tensor([0.5173])), ('bias', tensor([0.3764]))])\n",
            "Loss: 0.0367119237780571\n",
            "OrderedDict([('weights', tensor([0.5191])), ('bias', tensor([0.3759]))])\n",
            "Loss: 0.03636292368173599\n",
            "OrderedDict([('weights', tensor([0.5209])), ('bias', tensor([0.3754]))])\n",
            "Loss: 0.03602485731244087\n",
            "OrderedDict([('weights', tensor([0.5225])), ('bias', tensor([0.3744]))])\n",
            "Loss: 0.0356777161359787\n",
            "OrderedDict([('weights', tensor([0.5243])), ('bias', tensor([0.3739]))])\n",
            "Loss: 0.03533584997057915\n",
            "OrderedDict([('weights', tensor([0.5259])), ('bias', tensor([0.3729]))])\n",
            "Loss: 0.0349925234913826\n",
            "OrderedDict([('weights', tensor([0.5277])), ('bias', tensor([0.3724]))])\n",
            "Loss: 0.034646838903427124\n",
            "OrderedDict([('weights', tensor([0.5293])), ('bias', tensor([0.3714]))])\n",
            "Loss: 0.034307319670915604\n",
            "OrderedDict([('weights', tensor([0.5311])), ('bias', tensor([0.3709]))])\n",
            "Loss: 0.0339583158493042\n",
            "OrderedDict([('weights', tensor([0.5329])), ('bias', tensor([0.3704]))])\n",
            "Loss: 0.03362162038683891\n",
            "OrderedDict([('weights', tensor([0.5344])), ('bias', tensor([0.3694]))])\n",
            "Loss: 0.0332731194794178\n",
            "OrderedDict([('weights', tensor([0.5362])), ('bias', tensor([0.3689]))])\n",
            "Loss: 0.03293261304497719\n",
            "OrderedDict([('weights', tensor([0.5378])), ('bias', tensor([0.3679]))])\n",
            "Loss: 0.0325879231095314\n",
            "OrderedDict([('weights', tensor([0.5396])), ('bias', tensor([0.3674]))])\n",
            "Loss: 0.03224359080195427\n",
            "OrderedDict([('weights', tensor([0.5412])), ('bias', tensor([0.3664]))])\n",
            "Loss: 0.03190271928906441\n",
            "OrderedDict([('weights', tensor([0.5430])), ('bias', tensor([0.3659]))])\n",
            "Loss: 0.03155459091067314\n",
            "OrderedDict([('weights', tensor([0.5446])), ('bias', tensor([0.3649]))])\n",
            "Loss: 0.031217509880661964\n",
            "OrderedDict([('weights', tensor([0.5464])), ('bias', tensor([0.3644]))])\n",
            "Loss: 0.03086850605905056\n",
            "OrderedDict([('weights', tensor([0.5482])), ('bias', tensor([0.3639]))])\n",
            "Loss: 0.030529383569955826\n",
            "OrderedDict([('weights', tensor([0.5498])), ('bias', tensor([0.3629]))])\n",
            "Loss: 0.03018330968916416\n",
            "OrderedDict([('weights', tensor([0.5516])), ('bias', tensor([0.3624]))])\n",
            "Loss: 0.029840370640158653\n",
            "OrderedDict([('weights', tensor([0.5532])), ('bias', tensor([0.3614]))])\n",
            "Loss: 0.029498090967535973\n",
            "OrderedDict([('weights', tensor([0.5550])), ('bias', tensor([0.3609]))])\n",
            "Loss: 0.029151368886232376\n",
            "OrderedDict([('weights', tensor([0.5566])), ('bias', tensor([0.3599]))])\n",
            "Loss: 0.02881290577352047\n",
            "OrderedDict([('weights', tensor([0.5584])), ('bias', tensor([0.3594]))])\n",
            "Loss: 0.028463905677199364\n",
            "OrderedDict([('weights', tensor([0.5602])), ('bias', tensor([0.3589]))])\n",
            "Loss: 0.028126155957579613\n",
            "OrderedDict([('weights', tensor([0.5618])), ('bias', tensor([0.3579]))])\n",
            "Loss: 0.027778705582022667\n",
            "OrderedDict([('weights', tensor([0.5636])), ('bias', tensor([0.3574]))])\n",
            "Loss: 0.02743714675307274\n",
            "OrderedDict([('weights', tensor([0.5652])), ('bias', tensor([0.3564]))])\n",
            "Loss: 0.02709350362420082\n",
            "OrderedDict([('weights', tensor([0.5670])), ('bias', tensor([0.3559]))])\n",
            "Loss: 0.026748131960630417\n",
            "OrderedDict([('weights', tensor([0.5686])), ('bias', tensor([0.3549]))])\n",
            "Loss: 0.026408309116959572\n",
            "OrderedDict([('weights', tensor([0.5704])), ('bias', tensor([0.3544]))])\n",
            "Loss: 0.02605929970741272\n",
            "OrderedDict([('weights', tensor([0.5722])), ('bias', tensor([0.3539]))])\n",
            "Loss: 0.02572292648255825\n",
            "OrderedDict([('weights', tensor([0.5737])), ('bias', tensor([0.3529]))])\n",
            "Loss: 0.02537410333752632\n",
            "OrderedDict([('weights', tensor([0.5755])), ('bias', tensor([0.3524]))])\n",
            "Loss: 0.02503391169011593\n",
            "OrderedDict([('weights', tensor([0.5771])), ('bias', tensor([0.3514]))])\n",
            "Loss: 0.024688903242349625\n",
            "OrderedDict([('weights', tensor([0.5789])), ('bias', tensor([0.3509]))])\n",
            "Loss: 0.024344902485609055\n",
            "OrderedDict([('weights', tensor([0.5805])), ('bias', tensor([0.3499]))])\n",
            "Loss: 0.02400369569659233\n",
            "OrderedDict([('weights', tensor([0.5823])), ('bias', tensor([0.3494]))])\n",
            "Loss: 0.02365589514374733\n",
            "OrderedDict([('weights', tensor([0.5839])), ('bias', tensor([0.3484]))])\n",
            "Loss: 0.023318495601415634\n",
            "OrderedDict([('weights', tensor([0.5857])), ('bias', tensor([0.3479]))])\n",
            "Loss: 0.022969502955675125\n",
            "OrderedDict([('weights', tensor([0.5875])), ('bias', tensor([0.3474]))])\n",
            "Loss: 0.022630682215094566\n",
            "OrderedDict([('weights', tensor([0.5891])), ('bias', tensor([0.3464]))])\n",
            "Loss: 0.02228429540991783\n",
            "OrderedDict([('weights', tensor([0.5909])), ('bias', tensor([0.3459]))])\n",
            "Loss: 0.021941671147942543\n",
            "OrderedDict([('weights', tensor([0.5925])), ('bias', tensor([0.3449]))])\n",
            "Loss: 0.021599095314741135\n",
            "OrderedDict([('weights', tensor([0.5943])), ('bias', tensor([0.3444]))])\n",
            "Loss: 0.021252665668725967\n",
            "OrderedDict([('weights', tensor([0.5959])), ('bias', tensor([0.3434]))])\n",
            "Loss: 0.020913895219564438\n",
            "OrderedDict([('weights', tensor([0.5977])), ('bias', tensor([0.3429]))])\n",
            "Loss: 0.020564889535307884\n",
            "OrderedDict([('weights', tensor([0.5995])), ('bias', tensor([0.3424]))])\n",
            "Loss: 0.020227450877428055\n",
            "OrderedDict([('weights', tensor([0.6011])), ('bias', tensor([0.3414]))])\n",
            "Loss: 0.019879689440131187\n",
            "OrderedDict([('weights', tensor([0.6029])), ('bias', tensor([0.3409]))])\n",
            "Loss: 0.01953843981027603\n",
            "OrderedDict([('weights', tensor([0.6045])), ('bias', tensor([0.3399]))])\n",
            "Loss: 0.01919448934495449\n",
            "OrderedDict([('weights', tensor([0.6063])), ('bias', tensor([0.3394]))])\n",
            "Loss: 0.018849428743124008\n",
            "OrderedDict([('weights', tensor([0.6079])), ('bias', tensor([0.3384]))])\n",
            "Loss: 0.018509289249777794\n",
            "OrderedDict([('weights', tensor([0.6097])), ('bias', tensor([0.3379]))])\n",
            "Loss: 0.018160417675971985\n",
            "OrderedDict([('weights', tensor([0.6112])), ('bias', tensor([0.3369]))])\n",
            "Loss: 0.01782408356666565\n",
            "OrderedDict([('weights', tensor([0.6130])), ('bias', tensor([0.3364]))])\n",
            "Loss: 0.017475087195634842\n",
            "OrderedDict([('weights', tensor([0.6148])), ('bias', tensor([0.3359]))])\n",
            "Loss: 0.01713521033525467\n",
            "OrderedDict([('weights', tensor([0.6164])), ('bias', tensor([0.3349]))])\n",
            "Loss: 0.016789885237812996\n",
            "OrderedDict([('weights', tensor([0.6182])), ('bias', tensor([0.3344]))])\n",
            "Loss: 0.016446199268102646\n",
            "OrderedDict([('weights', tensor([0.6198])), ('bias', tensor([0.3334]))])\n",
            "Loss: 0.01610468327999115\n",
            "OrderedDict([('weights', tensor([0.6216])), ('bias', tensor([0.3329]))])\n",
            "Loss: 0.015757188200950623\n",
            "OrderedDict([('weights', tensor([0.6232])), ('bias', tensor([0.3319]))])\n",
            "Loss: 0.01541948039084673\n",
            "OrderedDict([('weights', tensor([0.6250])), ('bias', tensor([0.3314]))])\n",
            "Loss: 0.015070480294525623\n",
            "OrderedDict([('weights', tensor([0.6268])), ('bias', tensor([0.3309]))])\n",
            "Loss: 0.01473198551684618\n",
            "OrderedDict([('weights', tensor([0.6284])), ('bias', tensor([0.3299]))])\n",
            "Loss: 0.014385280199348927\n",
            "OrderedDict([('weights', tensor([0.6302])), ('bias', tensor([0.3294]))])\n",
            "Loss: 0.014042967930436134\n",
            "OrderedDict([('weights', tensor([0.6318])), ('bias', tensor([0.3284]))])\n",
            "Loss: 0.013700077310204506\n",
            "OrderedDict([('weights', tensor([0.6336])), ('bias', tensor([0.3279]))])\n"
          ]
        }
      ]
    },
    {
      "cell_type": "code",
      "source": [
        "weight, bias"
      ],
      "metadata": {
        "id": "v7VES_tn3U7u",
        "colab": {
          "base_uri": "https://localhost:8080/"
        },
        "outputId": "cf196479-1f77-404d-fc7c-ebbbeda88332"
      },
      "execution_count": 60,
      "outputs": [
        {
          "output_type": "execute_result",
          "data": {
            "text/plain": [
              "(0.7, 0.3)"
            ]
          },
          "metadata": {},
          "execution_count": 60
        }
      ]
    },
    {
      "cell_type": "code",
      "source": [
        "with torch.inference_mode():\n",
        "  y_preds_new = model_0(X_test)"
      ],
      "metadata": {
        "id": "DjnEqNkRV8rV"
      },
      "execution_count": 134,
      "outputs": []
    },
    {
      "cell_type": "code",
      "source": [
        "plot_predictions(predictions=y_preds)"
      ],
      "metadata": {
        "colab": {
          "base_uri": "https://localhost:8080/",
          "height": 599
        },
        "id": "TkK__lsGWDQY",
        "outputId": "103980cf-35a9-4456-d5d2-fd47c2c342fc"
      },
      "execution_count": 135,
      "outputs": [
        {
          "output_type": "display_data",
          "data": {
            "text/plain": [
              "<Figure size 1000x700 with 1 Axes>"
            ],
            "image/png": "[encoded data removed]"
          },
          "metadata": {}
        }
      ]
    },
    {
      "cell_type": "code",
      "source": [
        "plot_predictions(predictions=y_preds_new)"
      ],
      "metadata": {
        "colab": {
          "base_uri": "https://localhost:8080/",
          "height": 599
        },
        "id": "hqreZqL3WbOt",
        "outputId": "a6ccb550-d841-4854-831f-00c279737fb7"
      },
      "execution_count": 136,
      "outputs": [
        {
          "output_type": "display_data",
          "data": {
            "text/plain": [
              "<Figure size 1000x700 with 1 Axes>"
            ],
            "image/png": "[encoded data removed]"
          },
          "metadata": {}
        }
      ]
    },
    {
      "cell_type": "markdown",
      "source": [
        "PyTorch optimization loop song\n",
        "its train time\n",
        "\n",
        "do the forward loss\n",
        "\n",
        "calculate the loss\n",
        "\n",
        "optimizer zero grad\n",
        "\n",
        "losssss backward\n",
        "\n",
        "\n",
        "optimizer step step step\n",
        "\n",
        "\n",
        "lets test now\n",
        "\n",
        "with torch no grad\n",
        "\n",
        "do the forward pass\n",
        "\n",
        "calculate the loss\n",
        "\n",
        "watch it go down down down"
      ],
      "metadata": {
        "id": "5AG35y8M279Q"
      }
    },
    {
      "cell_type": "code",
      "source": [
        "model_0.state_dict()"
      ],
      "metadata": {
        "colab": {
          "base_uri": "https://localhost:8080/"
        },
        "id": "Ev0qhTY7UfUY",
        "outputId": "a1c01063-0d7c-4f6e-aec3-e91630e8bdab"
      },
      "execution_count": 68,
      "outputs": [
        {
          "output_type": "execute_result",
          "data": {
            "text/plain": [
              "OrderedDict([('weights', tensor([0.3515])), ('bias', tensor([0.4049]))])"
            ]
          },
          "metadata": {},
          "execution_count": 68
        }
      ]
    },
    {
      "cell_type": "code",
      "source": [
        "model_0.state_dict()"
      ],
      "metadata": {
        "colab": {
          "base_uri": "https://localhost:8080/"
        },
        "id": "3emEnsZoT3Jk",
        "outputId": "3b436204-f18a-4252-d925-aa9b4b4c7481"
      },
      "execution_count": 62,
      "outputs": [
        {
          "output_type": "execute_result",
          "data": {
            "text/plain": [
              "OrderedDict([('weights', tensor([0.3428])), ('bias', tensor([0.3969]))])"
            ]
          },
          "metadata": {},
          "execution_count": 62
        }
      ]
    },
    {
      "cell_type": "code",
      "source": [],
      "metadata": {
        "id": "csEJr71gUaN3"
      },
      "execution_count": 60,
      "outputs": []
    }
  ]
}