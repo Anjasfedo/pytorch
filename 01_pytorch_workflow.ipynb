{
  "nbformat": 4,
  "nbformat_minor": 0,
  "metadata": {
    "colab": {
      "provenance": [],
      "gpuType": "T4",
      "authorship_tag": "ABX9TyNoyYvfcLmPjUKT0ZwW1L/l",
      "include_colab_link": true
    },
    "kernelspec": {
      "name": "python3",
      "display_name": "Python 3"
    },
    "language_info": {
      "name": "python"
    },
    "accelerator": "GPU"
  },
  "cells": [
    {
      "cell_type": "markdown",
      "metadata": {
        "id": "view-in-github",
        "colab_type": "text"
      },
      "source": [
        "<a href=\"https://colab.research.google.com/github/Anjasfedo/pytorch/blob/main/01_pytorch_workflow.ipynb\" target=\"_parent\"><img src=\"https://colab.research.google.com/assets/colab-badge.svg\" alt=\"Open In Colab\"/></a>"
      ]
    },
    {
      "cell_type": "markdown",
      "source": [
        "# PyTorch Workflow\n",
        "\n",
        "PyTorch end-to-end workflow"
      ],
      "metadata": {
        "id": "D6f18HoJN7rb"
      }
    },
    {
      "cell_type": "code",
      "execution_count": 2,
      "metadata": {
        "id": "VY60zMXkoNQJ"
      },
      "outputs": [],
      "source": [
        "what_were_covering = {1: \"data (prepare & load)\",\n",
        "           2: \"build model\",\n",
        "           3: \"fitting model to data (training)\",\n",
        "           4: \"make predict and evaluate model (inference)\",\n",
        "           5: \"save & load model\",\n",
        "           6: \"put all together\"}"
      ]
    },
    {
      "cell_type": "code",
      "source": [
        "import torch\n",
        "from torch import nn # nn contain all PyTorch building block for neural network\n",
        "import matplotlib.pyplot as plt\n",
        "\n",
        "torch.__version__"
      ],
      "metadata": {
        "colab": {
          "base_uri": "https://localhost:8080/",
          "height": 35
        },
        "id": "nD01e0M5OrZc",
        "outputId": "1e7f738d-6960-45a1-a365-3d9215f4911a"
      },
      "execution_count": 1,
      "outputs": [
        {
          "output_type": "execute_result",
          "data": {
            "text/plain": [
              "'2.3.0+cu121'"
            ],
            "application/vnd.google.colaboratory.intrinsic+json": {
              "type": "string"
            }
          },
          "metadata": {},
          "execution_count": 1
        }
      ]
    },
    {
      "cell_type": "markdown",
      "source": [
        "## Data preparing & Loading\n",
        "\n",
        "Data can be almost anything on machine learning\n",
        "- Excel spreadsheet\n",
        "- Text\n",
        "- Images\n",
        "- Videos\n",
        "- Audio\n",
        "- DNA\n",
        "\n",
        "machine learning is game of two part\n",
        "1. get data into numerical representation\n",
        "2. build model to learn patern based on that numerical representation\n",
        "\n",
        "to showcase this, lets create some *known* data from linear regression formula\n",
        "\n",
        "use linear regression formula to make straight line with known *parameters*\n",
        "\n"
      ],
      "metadata": {
        "id": "kkJ5K2_oPolm"
      }
    },
    {
      "cell_type": "code",
      "source": [
        "# create known parameter\n",
        "\n",
        "weight = 0.7\n",
        "bias = 0.3\n",
        "\n",
        "# create\n",
        "start = 0\n",
        "end = 1\n",
        "step = 0.02\n",
        "\n",
        "X = torch.arange(start, end, step).unsqueeze(dim=1)\n",
        "y = weight * X + bias\n",
        "\n",
        "X[:10], y[:10]"
      ],
      "metadata": {
        "colab": {
          "base_uri": "https://localhost:8080/"
        },
        "id": "PCQUa5GbQQfB",
        "outputId": "bb3e984b-5d38-41da-96be-b9b41bed1f44"
      },
      "execution_count": 8,
      "outputs": [
        {
          "output_type": "execute_result",
          "data": {
            "text/plain": [
              "(tensor([[0.0000],\n",
              "         [0.0200],\n",
              "         [0.0400],\n",
              "         [0.0600],\n",
              "         [0.0800],\n",
              "         [0.1000],\n",
              "         [0.1200],\n",
              "         [0.1400],\n",
              "         [0.1600],\n",
              "         [0.1800]]),\n",
              " tensor([[0.3000],\n",
              "         [0.3140],\n",
              "         [0.3280],\n",
              "         [0.3420],\n",
              "         [0.3560],\n",
              "         [0.3700],\n",
              "         [0.3840],\n",
              "         [0.3980],\n",
              "         [0.4120],\n",
              "         [0.4260]]))"
            ]
          },
          "metadata": {},
          "execution_count": 8
        }
      ]
    },
    {
      "cell_type": "code",
      "source": [
        "len(X), len(y)"
      ],
      "metadata": {
        "colab": {
          "base_uri": "https://localhost:8080/"
        },
        "id": "8BUSa5QFR9hn",
        "outputId": "afc7e1a5-84d8-4921-85a3-8cfd64a43006"
      },
      "execution_count": 6,
      "outputs": [
        {
          "output_type": "execute_result",
          "data": {
            "text/plain": [
              "(50, 50)"
            ]
          },
          "metadata": {},
          "execution_count": 6
        }
      ]
    }
  ]
}