{
  "nbformat": 4,
  "nbformat_minor": 0,
  "metadata": {
    "colab": {
      "provenance": [],
      "authorship_tag": "ABX9TyNYG69MTwME3HMydqtZoEd6",
      "include_colab_link": true
    },
    "kernelspec": {
      "name": "python3",
      "display_name": "Python 3"
    },
    "language_info": {
      "name": "python"
    }
  },
  "cells": [
    {
      "cell_type": "markdown",
      "metadata": {
        "id": "view-in-github",
        "colab_type": "text"
      },
      "source": [
        "<a href=\"https://colab.research.google.com/github/Anjasfedo/pytorch/blob/main/00_pytorch_fundamentals.ipynb\" target=\"_parent\"><img src=\"https://colab.research.google.com/assets/colab-badge.svg\" alt=\"Open In Colab\"/></a>"
      ]
    },
    {
      "cell_type": "markdown",
      "source": [
        "## 00. PyTorch Fundamentlas"
      ],
      "metadata": {
        "id": "ioTOb5zlCFxM"
      }
    },
    {
      "cell_type": "code",
      "source": [
        "import torch\n",
        "import pandas as pd\n",
        "import numpy as np\n",
        "import matplotlib.pyplot as plt\n",
        "\n",
        "print(torch.__version__)"
      ],
      "metadata": {
        "colab": {
          "base_uri": "https://localhost:8080/"
        },
        "id": "CPF6hCqrCRd8",
        "outputId": "ba0a4035-db84-4587-afb9-a9ee27fb4ab2"
      },
      "execution_count": 1,
      "outputs": [
        {
          "output_type": "stream",
          "name": "stdout",
          "text": [
            "2.2.1+cu121\n"
          ]
        }
      ]
    },
    {
      "cell_type": "code",
      "source": [
        "!nvidia-smi"
      ],
      "metadata": {
        "colab": {
          "base_uri": "https://localhost:8080/"
        },
        "id": "wh_DIGNQB68K",
        "outputId": "2e425373-a02f-49a6-c36a-a0847af96ccd"
      },
      "execution_count": 2,
      "outputs": [
        {
          "output_type": "stream",
          "name": "stdout",
          "text": [
            "/bin/bash: line 1: nvidia-smi: command not found\n"
          ]
        }
      ]
    },
    {
      "cell_type": "markdown",
      "source": [
        "## Tensors\n",
        "\n",
        "Create Tensors"
      ],
      "metadata": {
        "id": "PP8GAJkEDP8s"
      }
    },
    {
      "cell_type": "code",
      "source": [
        "# Scalar\n",
        "scalar = torch.tensor(7)\n",
        "scalar"
      ],
      "metadata": {
        "colab": {
          "base_uri": "https://localhost:8080/"
        },
        "id": "59DbETu3DOvZ",
        "outputId": "fe8d836b-b4df-4872-d6fa-6dfa3ba20cbe"
      },
      "execution_count": 3,
      "outputs": [
        {
          "output_type": "execute_result",
          "data": {
            "text/plain": [
              "tensor(7)"
            ]
          },
          "metadata": {},
          "execution_count": 3
        }
      ]
    },
    {
      "cell_type": "code",
      "source": [
        "scalar.ndim"
      ],
      "metadata": {
        "colab": {
          "base_uri": "https://localhost:8080/"
        },
        "id": "z8kLxgm6Du8h",
        "outputId": "9345b52b-da9d-47b2-d64a-09abf0807b1a"
      },
      "execution_count": 4,
      "outputs": [
        {
          "output_type": "execute_result",
          "data": {
            "text/plain": [
              "0"
            ]
          },
          "metadata": {},
          "execution_count": 4
        }
      ]
    },
    {
      "cell_type": "code",
      "source": [
        "# Get python int\n",
        "scalar.item()"
      ],
      "metadata": {
        "colab": {
          "base_uri": "https://localhost:8080/"
        },
        "id": "NLfwxx2SECx8",
        "outputId": "f634f8c0-ff7d-4af7-bbf6-7d8d5eb87b75"
      },
      "execution_count": 5,
      "outputs": [
        {
          "output_type": "execute_result",
          "data": {
            "text/plain": [
              "7"
            ]
          },
          "metadata": {},
          "execution_count": 5
        }
      ]
    },
    {
      "cell_type": "code",
      "source": [
        "scalar.shape"
      ],
      "metadata": {
        "colab": {
          "base_uri": "https://localhost:8080/"
        },
        "id": "zfNyZCAlFQIp",
        "outputId": "444cd04c-aa83-4ee5-ddd4-e0192b8e6c37"
      },
      "execution_count": 6,
      "outputs": [
        {
          "output_type": "execute_result",
          "data": {
            "text/plain": [
              "torch.Size([])"
            ]
          },
          "metadata": {},
          "execution_count": 6
        }
      ]
    },
    {
      "cell_type": "code",
      "source": [
        "# Vector\n",
        "vector = torch.tensor([7,7])\n",
        "vector"
      ],
      "metadata": {
        "colab": {
          "base_uri": "https://localhost:8080/"
        },
        "id": "4Oq-pmXwEIGs",
        "outputId": "38943fa7-c96b-4b10-ebf0-6d7d632576f9"
      },
      "execution_count": 7,
      "outputs": [
        {
          "output_type": "execute_result",
          "data": {
            "text/plain": [
              "tensor([7, 7])"
            ]
          },
          "metadata": {},
          "execution_count": 7
        }
      ]
    },
    {
      "cell_type": "code",
      "source": [
        "vector.ndim"
      ],
      "metadata": {
        "colab": {
          "base_uri": "https://localhost:8080/"
        },
        "id": "1Q9sbS0qEdoX",
        "outputId": "050fac19-7986-4759-bbbc-4bc454d122ec"
      },
      "execution_count": 8,
      "outputs": [
        {
          "output_type": "execute_result",
          "data": {
            "text/plain": [
              "1"
            ]
          },
          "metadata": {},
          "execution_count": 8
        }
      ]
    },
    {
      "cell_type": "code",
      "source": [
        "vector.shape"
      ],
      "metadata": {
        "colab": {
          "base_uri": "https://localhost:8080/"
        },
        "id": "LLAV91NIEusn",
        "outputId": "faf0438f-4fa2-40b3-ee48-ad64f3baa6a5"
      },
      "execution_count": 9,
      "outputs": [
        {
          "output_type": "execute_result",
          "data": {
            "text/plain": [
              "torch.Size([2])"
            ]
          },
          "metadata": {},
          "execution_count": 9
        }
      ]
    },
    {
      "cell_type": "code",
      "source": [
        "# MATRIX\n",
        "MATRIX = torch.tensor([[7,8], [9, 10]])\n",
        "MATRIX"
      ],
      "metadata": {
        "colab": {
          "base_uri": "https://localhost:8080/"
        },
        "id": "zpcDOxtHE1LR",
        "outputId": "a800b76b-e9d9-46cc-dad5-724f4925a3ce"
      },
      "execution_count": 10,
      "outputs": [
        {
          "output_type": "execute_result",
          "data": {
            "text/plain": [
              "tensor([[ 7,  8],\n",
              "        [ 9, 10]])"
            ]
          },
          "metadata": {},
          "execution_count": 10
        }
      ]
    },
    {
      "cell_type": "code",
      "source": [
        "MATRIX.ndim"
      ],
      "metadata": {
        "colab": {
          "base_uri": "https://localhost:8080/"
        },
        "id": "TPGhR4DaFBhE",
        "outputId": "f8c4e92b-95b9-40da-8b56-2f8447101cd3"
      },
      "execution_count": 11,
      "outputs": [
        {
          "output_type": "execute_result",
          "data": {
            "text/plain": [
              "2"
            ]
          },
          "metadata": {},
          "execution_count": 11
        }
      ]
    },
    {
      "cell_type": "code",
      "source": [
        "MATRIX.shape"
      ],
      "metadata": {
        "colab": {
          "base_uri": "https://localhost:8080/"
        },
        "id": "Q6R6bfAbFEVA",
        "outputId": "07583471-11c9-467b-f0be-92282016529b"
      },
      "execution_count": 12,
      "outputs": [
        {
          "output_type": "execute_result",
          "data": {
            "text/plain": [
              "torch.Size([2, 2])"
            ]
          },
          "metadata": {},
          "execution_count": 12
        }
      ]
    },
    {
      "cell_type": "code",
      "source": [
        "print(MATRIX[0])\n",
        "print(MATRIX[1])"
      ],
      "metadata": {
        "colab": {
          "base_uri": "https://localhost:8080/"
        },
        "id": "xYu_200uFHyt",
        "outputId": "d81d298f-7d97-4d77-8541-80d1b4531534"
      },
      "execution_count": 13,
      "outputs": [
        {
          "output_type": "stream",
          "name": "stdout",
          "text": [
            "tensor([7, 8])\n",
            "tensor([ 9, 10])\n"
          ]
        }
      ]
    },
    {
      "cell_type": "code",
      "source": [
        "# TENSOR\n",
        "TENSOR = torch.tensor([[[1,2,3],[4,5,6],[7,8,9]]])\n",
        "TENSOR"
      ],
      "metadata": {
        "colab": {
          "base_uri": "https://localhost:8080/"
        },
        "id": "rQzpWdsNFYL5",
        "outputId": "e2e762ce-8889-45a0-fa0a-006a4742ceba"
      },
      "execution_count": 14,
      "outputs": [
        {
          "output_type": "execute_result",
          "data": {
            "text/plain": [
              "tensor([[[1, 2, 3],\n",
              "         [4, 5, 6],\n",
              "         [7, 8, 9]]])"
            ]
          },
          "metadata": {},
          "execution_count": 14
        }
      ]
    },
    {
      "cell_type": "code",
      "source": [
        "TENSOR.ndim"
      ],
      "metadata": {
        "colab": {
          "base_uri": "https://localhost:8080/"
        },
        "id": "iDbP6vq9Fsaf",
        "outputId": "1376c496-641a-4d19-96c4-d7c496670293"
      },
      "execution_count": 15,
      "outputs": [
        {
          "output_type": "execute_result",
          "data": {
            "text/plain": [
              "3"
            ]
          },
          "metadata": {},
          "execution_count": 15
        }
      ]
    },
    {
      "cell_type": "code",
      "source": [
        "TENSOR.shape"
      ],
      "metadata": {
        "colab": {
          "base_uri": "https://localhost:8080/"
        },
        "id": "7gsXP065Fur0",
        "outputId": "dfc638cb-32ba-4238-95fd-cae28b50a4da"
      },
      "execution_count": 16,
      "outputs": [
        {
          "output_type": "execute_result",
          "data": {
            "text/plain": [
              "torch.Size([1, 3, 3])"
            ]
          },
          "metadata": {},
          "execution_count": 16
        }
      ]
    },
    {
      "cell_type": "code",
      "source": [
        "print(TENSOR[0][0])"
      ],
      "metadata": {
        "colab": {
          "base_uri": "https://localhost:8080/"
        },
        "id": "tEI0mjWFFoaW",
        "outputId": "d4b07519-11ed-4bbf-9520-eeb38e01b046"
      },
      "execution_count": 17,
      "outputs": [
        {
          "output_type": "stream",
          "name": "stdout",
          "text": [
            "tensor([1, 2, 3])\n"
          ]
        }
      ]
    },
    {
      "cell_type": "markdown",
      "source": [
        "### Random tensors\n",
        "\n",
        "Random tensort important because the way many neural network learn is that they start with tensors full of random numbers and then adjust those random numbers to better represent the data\n",
        "\n",
        "`start with random numbers -> look at data => update random numbers -> look at data -> update random numbers`"
      ],
      "metadata": {
        "id": "dHrwzGvrFo_N"
      }
    },
    {
      "cell_type": "code",
      "source": [
        "# Create random tensor with size of (3, 4)\n",
        "rand_tensor = torch.rand(3, 4)\n",
        "print(rand_tensor.shape)\n",
        "print(rand_tensor.ndim)\n",
        "rand_tensor"
      ],
      "metadata": {
        "colab": {
          "base_uri": "https://localhost:8080/"
        },
        "id": "DkH4_LWbFrNn",
        "outputId": "aba6d8d6-286d-4c46-dc6e-1a860b127f97"
      },
      "execution_count": 31,
      "outputs": [
        {
          "output_type": "stream",
          "name": "stdout",
          "text": [
            "torch.Size([3, 4])\n",
            "2\n"
          ]
        },
        {
          "output_type": "execute_result",
          "data": {
            "text/plain": [
              "tensor([[0.6542, 0.4746, 0.9895, 0.6429],\n",
              "        [0.6974, 0.2647, 0.9033, 0.8408],\n",
              "        [0.7421, 0.1124, 0.9440, 0.5896]])"
            ]
          },
          "metadata": {},
          "execution_count": 31
        }
      ]
    },
    {
      "cell_type": "code",
      "source": [
        "# Create random tensor with simmiliar shape of an image tensor\n",
        "rand_image_size_tensor = torch.rand(size=(224, 224, 3)) # size=(height, width, color channels(rgb))\n",
        "print(rand_image_size_tensor.shape, rand_image_size_tensor.ndim)\n",
        "rand_image_size_tensor"
      ],
      "metadata": {
        "colab": {
          "base_uri": "https://localhost:8080/"
        },
        "id": "Gg5eCEHPHZbG",
        "outputId": "58c34e22-34c4-476a-b5ca-a4c8751ab997"
      },
      "execution_count": 49,
      "outputs": [
        {
          "output_type": "stream",
          "name": "stdout",
          "text": [
            "torch.Size([224, 224, 3]) 3\n"
          ]
        },
        {
          "output_type": "execute_result",
          "data": {
            "text/plain": [
              "tensor([[[0.8711, 0.6981, 0.7530],\n",
              "         [0.2311, 0.8232, 0.5726],\n",
              "         [0.6015, 0.4781, 0.6783],\n",
              "         ...,\n",
              "         [0.1224, 0.2410, 0.8518],\n",
              "         [0.9314, 0.3430, 0.4629],\n",
              "         [0.6191, 0.8207, 0.4951]],\n",
              "\n",
              "        [[0.7528, 0.2567, 0.2887],\n",
              "         [0.5025, 0.6261, 0.8796],\n",
              "         [0.0103, 0.9702, 0.2901],\n",
              "         ...,\n",
              "         [0.6931, 0.5518, 0.3827],\n",
              "         [0.1531, 0.9199, 0.3197],\n",
              "         [0.6165, 0.1012, 0.2895]],\n",
              "\n",
              "        [[0.6692, 0.0863, 0.0072],\n",
              "         [0.3539, 0.4017, 0.3700],\n",
              "         [0.7854, 0.9747, 0.8059],\n",
              "         ...,\n",
              "         [0.4898, 0.4842, 0.6988],\n",
              "         [0.1909, 0.6487, 0.0957],\n",
              "         [0.4714, 0.3707, 0.8028]],\n",
              "\n",
              "        ...,\n",
              "\n",
              "        [[0.3291, 0.7294, 0.8992],\n",
              "         [0.1167, 0.3838, 0.6703],\n",
              "         [0.0852, 0.7706, 0.6491],\n",
              "         ...,\n",
              "         [0.1303, 0.6799, 0.0479],\n",
              "         [0.2202, 0.8923, 0.5100],\n",
              "         [0.4088, 0.1772, 0.9382]],\n",
              "\n",
              "        [[0.0045, 0.2904, 0.1976],\n",
              "         [0.7457, 0.2942, 0.9020],\n",
              "         [0.1878, 0.6536, 0.2901],\n",
              "         ...,\n",
              "         [0.4053, 0.4794, 0.7832],\n",
              "         [0.1164, 0.2909, 0.8074],\n",
              "         [0.8586, 0.9511, 0.5478]],\n",
              "\n",
              "        [[0.4104, 0.6921, 0.9109],\n",
              "         [0.2315, 0.6257, 0.0720],\n",
              "         [0.1659, 0.9941, 0.8227],\n",
              "         ...,\n",
              "         [0.6060, 0.9736, 0.7189],\n",
              "         [0.0497, 0.5327, 0.8604],\n",
              "         [0.3215, 0.0361, 0.8604]]])"
            ]
          },
          "metadata": {},
          "execution_count": 49
        }
      ]
    },
    {
      "cell_type": "markdown",
      "source": [
        "### Zeros & Ones"
      ],
      "metadata": {
        "id": "VyIeh_ezJrX8"
      }
    },
    {
      "cell_type": "code",
      "source": [
        "# Create tensor of all zeros\n",
        "zeros_tensor = torch.zeros(3, 4)\n",
        "zeros_tensor"
      ],
      "metadata": {
        "colab": {
          "base_uri": "https://localhost:8080/"
        },
        "id": "VPrp5Z4nJKX2",
        "outputId": "c43df1fb-db41-42e5-b707-00e9f17b8780"
      },
      "execution_count": 48,
      "outputs": [
        {
          "output_type": "execute_result",
          "data": {
            "text/plain": [
              "tensor([[0., 0., 0., 0.],\n",
              "        [0., 0., 0., 0.],\n",
              "        [0., 0., 0., 0.]])"
            ]
          },
          "metadata": {},
          "execution_count": 48
        }
      ]
    },
    {
      "cell_type": "code",
      "source": [
        "# Create tensor of all ones\n",
        "ones_tensor = torch.ones(3, 4)\n",
        "print(ones_tensor.dtype)\n",
        "ones_tensor"
      ],
      "metadata": {
        "colab": {
          "base_uri": "https://localhost:8080/"
        },
        "id": "pQ2TnmI_IiSc",
        "outputId": "052795aa-419b-443d-bb78-64b1ff641272"
      },
      "execution_count": 56,
      "outputs": [
        {
          "output_type": "stream",
          "name": "stdout",
          "text": [
            "torch.float32\n"
          ]
        },
        {
          "output_type": "execute_result",
          "data": {
            "text/plain": [
              "tensor([[1., 1., 1., 1.],\n",
              "        [1., 1., 1., 1.],\n",
              "        [1., 1., 1., 1.]])"
            ]
          },
          "metadata": {},
          "execution_count": 56
        }
      ]
    },
    {
      "cell_type": "markdown",
      "source": [
        "### Create a range of tensor and tensor-like"
      ],
      "metadata": {
        "id": "Mw8wVemlKhVY"
      }
    },
    {
      "cell_type": "code",
      "source": [
        "# Use torch.range\n",
        "torch.range(0, 10)"
      ],
      "metadata": {
        "colab": {
          "base_uri": "https://localhost:8080/"
        },
        "id": "H_fC0HkfKs-x",
        "outputId": "af6846fd-4ae0-4e7a-916f-de9f8b8aa096"
      },
      "execution_count": 57,
      "outputs": [
        {
          "output_type": "stream",
          "name": "stderr",
          "text": [
            "<ipython-input-57-bfd1d11818ee>:2: UserWarning: torch.range is deprecated and will be removed in a future release because its behavior is inconsistent with Python's range builtin. Instead, use torch.arange, which produces values in [start, end).\n",
            "  torch.range(0, 10)\n"
          ]
        },
        {
          "output_type": "execute_result",
          "data": {
            "text/plain": [
              "tensor([ 0.,  1.,  2.,  3.,  4.,  5.,  6.,  7.,  8.,  9., 10.])"
            ]
          },
          "metadata": {},
          "execution_count": 57
        }
      ]
    },
    {
      "cell_type": "code",
      "source": [
        "one_to_ten = torch.arange(1, 11)\n",
        "one_to_ten"
      ],
      "metadata": {
        "colab": {
          "base_uri": "https://localhost:8080/"
        },
        "id": "4eaZWtL7K1Oi",
        "outputId": "69c0f754-3184-4b29-c6e3-5a80790baa79"
      },
      "execution_count": 62,
      "outputs": [
        {
          "output_type": "execute_result",
          "data": {
            "text/plain": [
              "tensor([ 1,  2,  3,  4,  5,  6,  7,  8,  9, 10])"
            ]
          },
          "metadata": {},
          "execution_count": 62
        }
      ]
    },
    {
      "cell_type": "code",
      "source": [
        "# Create tensor like\n",
        "ten_zeros = torch.zeros_like(one_to_ten)\n",
        "ten_zeros"
      ],
      "metadata": {
        "colab": {
          "base_uri": "https://localhost:8080/"
        },
        "id": "j85RDO-xK-p3",
        "outputId": "b0d7542f-3a29-4292-ad1e-6e2c05e08aec"
      },
      "execution_count": 63,
      "outputs": [
        {
          "output_type": "execute_result",
          "data": {
            "text/plain": [
              "tensor([0, 0, 0, 0, 0, 0, 0, 0, 0, 0])"
            ]
          },
          "metadata": {},
          "execution_count": 63
        }
      ]
    }
  ]
}