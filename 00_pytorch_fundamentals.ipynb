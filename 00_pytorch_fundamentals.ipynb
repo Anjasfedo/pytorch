{
  "nbformat": 4,
  "nbformat_minor": 0,
  "metadata": {
    "colab": {
      "provenance": [],
      "authorship_tag": "ABX9TyPLwL+zfm9IvYlDn7/rv12D",
      "include_colab_link": true
    },
    "kernelspec": {
      "name": "python3",
      "display_name": "Python 3"
    },
    "language_info": {
      "name": "python"
    }
  },
  "cells": [
    {
      "cell_type": "markdown",
      "metadata": {
        "id": "view-in-github",
        "colab_type": "text"
      },
      "source": [
        "<a href=\"https://colab.research.google.com/github/Anjasfedo/pytorch/blob/main/00_pytorch_fundamentals.ipynb\" target=\"_parent\"><img src=\"https://colab.research.google.com/assets/colab-badge.svg\" alt=\"Open In Colab\"/></a>"
      ]
    },
    {
      "cell_type": "markdown",
      "source": [
        "## 00. PyTorch Fundamentlas"
      ],
      "metadata": {
        "id": "ioTOb5zlCFxM"
      }
    },
    {
      "cell_type": "code",
      "source": [
        "import torch\n",
        "import pandas as pd\n",
        "import numpy as np\n",
        "import matplotlib.pyplot as plt\n",
        "\n",
        "print(torch.__version__)"
      ],
      "metadata": {
        "colab": {
          "base_uri": "https://localhost:8080/"
        },
        "id": "CPF6hCqrCRd8",
        "outputId": "2d08811b-ae73-427a-ec33-0f8e1ce9c57e"
      },
      "execution_count": 2,
      "outputs": [
        {
          "output_type": "stream",
          "name": "stdout",
          "text": [
            "2.2.1+cu121\n"
          ]
        }
      ]
    },
    {
      "cell_type": "code",
      "source": [
        "!nvidia-smi"
      ],
      "metadata": {
        "colab": {
          "base_uri": "https://localhost:8080/"
        },
        "id": "wh_DIGNQB68K",
        "outputId": "0bfa34ca-6afe-4c02-b3ce-08c937822de3"
      },
      "execution_count": 3,
      "outputs": [
        {
          "output_type": "stream",
          "name": "stdout",
          "text": [
            "/bin/bash: line 1: nvidia-smi: command not found\n"
          ]
        }
      ]
    },
    {
      "cell_type": "markdown",
      "source": [
        "## Tensors\n",
        "\n",
        "Create Tensors"
      ],
      "metadata": {
        "id": "PP8GAJkEDP8s"
      }
    },
    {
      "cell_type": "code",
      "source": [
        "# Scalar\n",
        "scalar = torch.tensor(7)\n",
        "scalar"
      ],
      "metadata": {
        "colab": {
          "base_uri": "https://localhost:8080/"
        },
        "id": "59DbETu3DOvZ",
        "outputId": "4f993b40-1c7d-48c0-f842-788ed26b695b"
      },
      "execution_count": 4,
      "outputs": [
        {
          "output_type": "execute_result",
          "data": {
            "text/plain": [
              "tensor(7)"
            ]
          },
          "metadata": {},
          "execution_count": 4
        }
      ]
    },
    {
      "cell_type": "code",
      "source": [
        "scalar.ndim"
      ],
      "metadata": {
        "colab": {
          "base_uri": "https://localhost:8080/"
        },
        "id": "z8kLxgm6Du8h",
        "outputId": "8bf8809e-a78a-4238-bf6c-3a18464e1672"
      },
      "execution_count": 5,
      "outputs": [
        {
          "output_type": "execute_result",
          "data": {
            "text/plain": [
              "0"
            ]
          },
          "metadata": {},
          "execution_count": 5
        }
      ]
    },
    {
      "cell_type": "code",
      "source": [
        "# Get python int\n",
        "scalar.item()"
      ],
      "metadata": {
        "colab": {
          "base_uri": "https://localhost:8080/"
        },
        "id": "NLfwxx2SECx8",
        "outputId": "c7a6aa09-30f1-46d7-b279-ea316a3f472f"
      },
      "execution_count": 6,
      "outputs": [
        {
          "output_type": "execute_result",
          "data": {
            "text/plain": [
              "7"
            ]
          },
          "metadata": {},
          "execution_count": 6
        }
      ]
    },
    {
      "cell_type": "code",
      "source": [
        "scalar.shape"
      ],
      "metadata": {
        "colab": {
          "base_uri": "https://localhost:8080/"
        },
        "id": "zfNyZCAlFQIp",
        "outputId": "5de3d2c2-9f89-4e03-a11d-ba10800ff6d2"
      },
      "execution_count": 7,
      "outputs": [
        {
          "output_type": "execute_result",
          "data": {
            "text/plain": [
              "torch.Size([])"
            ]
          },
          "metadata": {},
          "execution_count": 7
        }
      ]
    },
    {
      "cell_type": "code",
      "source": [
        "# Vector\n",
        "vector = torch.tensor([7,7])\n",
        "vector"
      ],
      "metadata": {
        "colab": {
          "base_uri": "https://localhost:8080/"
        },
        "id": "4Oq-pmXwEIGs",
        "outputId": "38eb79fd-0f41-42b1-bcdf-ec4b31cde938"
      },
      "execution_count": 8,
      "outputs": [
        {
          "output_type": "execute_result",
          "data": {
            "text/plain": [
              "tensor([7, 7])"
            ]
          },
          "metadata": {},
          "execution_count": 8
        }
      ]
    },
    {
      "cell_type": "code",
      "source": [
        "vector.ndim"
      ],
      "metadata": {
        "colab": {
          "base_uri": "https://localhost:8080/"
        },
        "id": "1Q9sbS0qEdoX",
        "outputId": "77fe1ebe-cb81-4789-8c90-e13ba2b4a3f2"
      },
      "execution_count": 9,
      "outputs": [
        {
          "output_type": "execute_result",
          "data": {
            "text/plain": [
              "1"
            ]
          },
          "metadata": {},
          "execution_count": 9
        }
      ]
    },
    {
      "cell_type": "code",
      "source": [
        "vector.shape"
      ],
      "metadata": {
        "colab": {
          "base_uri": "https://localhost:8080/"
        },
        "id": "LLAV91NIEusn",
        "outputId": "851803e0-6657-491c-b688-e9c77add944d"
      },
      "execution_count": 10,
      "outputs": [
        {
          "output_type": "execute_result",
          "data": {
            "text/plain": [
              "torch.Size([2])"
            ]
          },
          "metadata": {},
          "execution_count": 10
        }
      ]
    },
    {
      "cell_type": "code",
      "source": [
        "# MATRIX\n",
        "MATRIX = torch.tensor([[7,8], [9, 10]])\n",
        "MATRIX"
      ],
      "metadata": {
        "colab": {
          "base_uri": "https://localhost:8080/"
        },
        "id": "zpcDOxtHE1LR",
        "outputId": "a044dcbe-7018-4d85-a4cc-18eb4de6fed5"
      },
      "execution_count": 11,
      "outputs": [
        {
          "output_type": "execute_result",
          "data": {
            "text/plain": [
              "tensor([[ 7,  8],\n",
              "        [ 9, 10]])"
            ]
          },
          "metadata": {},
          "execution_count": 11
        }
      ]
    },
    {
      "cell_type": "code",
      "source": [
        "MATRIX.ndim"
      ],
      "metadata": {
        "colab": {
          "base_uri": "https://localhost:8080/"
        },
        "id": "TPGhR4DaFBhE",
        "outputId": "99fd5918-f146-44f6-b2e3-0a1b348473db"
      },
      "execution_count": 12,
      "outputs": [
        {
          "output_type": "execute_result",
          "data": {
            "text/plain": [
              "2"
            ]
          },
          "metadata": {},
          "execution_count": 12
        }
      ]
    },
    {
      "cell_type": "code",
      "source": [
        "MATRIX.shape"
      ],
      "metadata": {
        "colab": {
          "base_uri": "https://localhost:8080/"
        },
        "id": "Q6R6bfAbFEVA",
        "outputId": "2b56b353-2181-42da-aecb-010d4114c13f"
      },
      "execution_count": 13,
      "outputs": [
        {
          "output_type": "execute_result",
          "data": {
            "text/plain": [
              "torch.Size([2, 2])"
            ]
          },
          "metadata": {},
          "execution_count": 13
        }
      ]
    },
    {
      "cell_type": "code",
      "source": [
        "print(MATRIX[0])\n",
        "print(MATRIX[1])"
      ],
      "metadata": {
        "colab": {
          "base_uri": "https://localhost:8080/"
        },
        "id": "xYu_200uFHyt",
        "outputId": "b13b46c0-a6c0-449f-fc70-9418e8368eaa"
      },
      "execution_count": 14,
      "outputs": [
        {
          "output_type": "stream",
          "name": "stdout",
          "text": [
            "tensor([7, 8])\n",
            "tensor([ 9, 10])\n"
          ]
        }
      ]
    },
    {
      "cell_type": "code",
      "source": [
        "# TENSOR\n",
        "TENSOR = torch.tensor([[[1,2,3],[4,5,6],[7,8,9]]])\n",
        "TENSOR"
      ],
      "metadata": {
        "colab": {
          "base_uri": "https://localhost:8080/"
        },
        "id": "rQzpWdsNFYL5",
        "outputId": "8d34ba78-f9ea-4752-8839-bfa9a5340ecb"
      },
      "execution_count": 15,
      "outputs": [
        {
          "output_type": "execute_result",
          "data": {
            "text/plain": [
              "tensor([[[1, 2, 3],\n",
              "         [4, 5, 6],\n",
              "         [7, 8, 9]]])"
            ]
          },
          "metadata": {},
          "execution_count": 15
        }
      ]
    },
    {
      "cell_type": "code",
      "source": [
        "TENSOR.ndim"
      ],
      "metadata": {
        "colab": {
          "base_uri": "https://localhost:8080/"
        },
        "id": "iDbP6vq9Fsaf",
        "outputId": "eab6fcb6-bc4f-47e3-9aa9-a889e8a4a143"
      },
      "execution_count": 16,
      "outputs": [
        {
          "output_type": "execute_result",
          "data": {
            "text/plain": [
              "3"
            ]
          },
          "metadata": {},
          "execution_count": 16
        }
      ]
    },
    {
      "cell_type": "code",
      "source": [
        "TENSOR.shape"
      ],
      "metadata": {
        "colab": {
          "base_uri": "https://localhost:8080/"
        },
        "id": "7gsXP065Fur0",
        "outputId": "33b700cf-0b40-4ebf-b22b-966c42e19586"
      },
      "execution_count": 17,
      "outputs": [
        {
          "output_type": "execute_result",
          "data": {
            "text/plain": [
              "torch.Size([1, 3, 3])"
            ]
          },
          "metadata": {},
          "execution_count": 17
        }
      ]
    },
    {
      "cell_type": "code",
      "source": [
        "print(TENSOR[0][0])"
      ],
      "metadata": {
        "colab": {
          "base_uri": "https://localhost:8080/"
        },
        "id": "tEI0mjWFFoaW",
        "outputId": "cffdda36-4cd6-4765-d2cc-1fdeaddac670"
      },
      "execution_count": 18,
      "outputs": [
        {
          "output_type": "stream",
          "name": "stdout",
          "text": [
            "tensor([1, 2, 3])\n"
          ]
        }
      ]
    },
    {
      "cell_type": "markdown",
      "source": [
        "### Random tensors\n",
        "\n",
        "Random tensort important because the way many neural network learn is that they start with tensors full of random numbers and then adjust those random numbers to better represent the data\n",
        "\n",
        "`start with random numbers -> look at data => update random numbers -> look at data -> update random numbers`"
      ],
      "metadata": {
        "id": "dHrwzGvrFo_N"
      }
    },
    {
      "cell_type": "code",
      "source": [
        "# Create random tensor with size of (3, 4)\n",
        "rand_tensor = torch.rand(3, 4)\n",
        "print(rand_tensor.shape)\n",
        "print(rand_tensor.ndim)\n",
        "rand_tensor"
      ],
      "metadata": {
        "colab": {
          "base_uri": "https://localhost:8080/"
        },
        "id": "DkH4_LWbFrNn",
        "outputId": "845d032d-1adc-46c6-c0e5-0031e5f615cf"
      },
      "execution_count": 19,
      "outputs": [
        {
          "output_type": "stream",
          "name": "stdout",
          "text": [
            "torch.Size([3, 4])\n",
            "2\n"
          ]
        },
        {
          "output_type": "execute_result",
          "data": {
            "text/plain": [
              "tensor([[0.8496, 0.2752, 0.6398, 0.0499],\n",
              "        [0.3481, 0.2699, 0.4781, 0.9874],\n",
              "        [0.6837, 0.7008, 0.8599, 0.7084]])"
            ]
          },
          "metadata": {},
          "execution_count": 19
        }
      ]
    },
    {
      "cell_type": "code",
      "source": [
        "# Create random tensor with simmiliar shape of an image tensor\n",
        "rand_image_size_tensor = torch.rand(size=(224, 224, 3)) # size=(height, width, color channels(rgb))\n",
        "print(rand_image_size_tensor.shape, rand_image_size_tensor.ndim)\n",
        "rand_image_size_tensor"
      ],
      "metadata": {
        "colab": {
          "base_uri": "https://localhost:8080/"
        },
        "id": "Gg5eCEHPHZbG",
        "outputId": "80ee5f75-8f37-46b4-ef4f-976385d65f1e"
      },
      "execution_count": 20,
      "outputs": [
        {
          "output_type": "stream",
          "name": "stdout",
          "text": [
            "torch.Size([224, 224, 3]) 3\n"
          ]
        },
        {
          "output_type": "execute_result",
          "data": {
            "text/plain": [
              "tensor([[[0.3788, 0.8695, 0.8960],\n",
              "         [0.7416, 0.4368, 0.3481],\n",
              "         [0.0625, 0.0511, 0.7676],\n",
              "         ...,\n",
              "         [0.6754, 0.8171, 0.9327],\n",
              "         [0.7353, 0.5697, 0.6272],\n",
              "         [0.7789, 0.7332, 0.5900]],\n",
              "\n",
              "        [[0.9101, 0.2375, 0.9879],\n",
              "         [0.1420, 0.0060, 0.0114],\n",
              "         [0.8207, 0.7568, 0.6032],\n",
              "         ...,\n",
              "         [0.3826, 0.1625, 0.0629],\n",
              "         [0.5956, 0.1658, 0.7695],\n",
              "         [0.6281, 0.9029, 0.3438]],\n",
              "\n",
              "        [[0.6993, 0.6515, 0.5752],\n",
              "         [0.8808, 0.7580, 0.0337],\n",
              "         [0.0226, 0.4677, 0.1297],\n",
              "         ...,\n",
              "         [0.5315, 0.0441, 0.7334],\n",
              "         [0.4865, 0.8757, 0.4313],\n",
              "         [0.1866, 0.0476, 0.8744]],\n",
              "\n",
              "        ...,\n",
              "\n",
              "        [[0.2935, 0.8756, 0.3485],\n",
              "         [0.5802, 0.8896, 0.9930],\n",
              "         [0.3613, 0.7676, 0.0836],\n",
              "         ...,\n",
              "         [0.8971, 0.1294, 0.5056],\n",
              "         [0.6435, 0.3781, 0.1015],\n",
              "         [0.5577, 0.3595, 0.7699]],\n",
              "\n",
              "        [[0.3078, 0.5621, 0.8151],\n",
              "         [0.9289, 0.4982, 0.5053],\n",
              "         [0.2343, 0.8057, 0.0559],\n",
              "         ...,\n",
              "         [0.4808, 0.2157, 0.5795],\n",
              "         [0.3534, 0.5676, 0.4887],\n",
              "         [0.6686, 0.6683, 0.0615]],\n",
              "\n",
              "        [[0.9772, 0.3816, 0.7597],\n",
              "         [0.8536, 0.4215, 0.6178],\n",
              "         [0.4165, 0.1142, 0.7749],\n",
              "         ...,\n",
              "         [0.2890, 0.8939, 0.4268],\n",
              "         [0.1106, 0.2280, 0.3140],\n",
              "         [0.1673, 0.3177, 0.7955]]])"
            ]
          },
          "metadata": {},
          "execution_count": 20
        }
      ]
    },
    {
      "cell_type": "markdown",
      "source": [
        "### Zeros & Ones"
      ],
      "metadata": {
        "id": "VyIeh_ezJrX8"
      }
    },
    {
      "cell_type": "code",
      "source": [
        "# Create tensor of all zeros\n",
        "zeros_tensor = torch.zeros(3, 4)\n",
        "zeros_tensor"
      ],
      "metadata": {
        "colab": {
          "base_uri": "https://localhost:8080/"
        },
        "id": "VPrp5Z4nJKX2",
        "outputId": "7e3a4fac-b706-455f-be0b-8efe81aa6aee"
      },
      "execution_count": 21,
      "outputs": [
        {
          "output_type": "execute_result",
          "data": {
            "text/plain": [
              "tensor([[0., 0., 0., 0.],\n",
              "        [0., 0., 0., 0.],\n",
              "        [0., 0., 0., 0.]])"
            ]
          },
          "metadata": {},
          "execution_count": 21
        }
      ]
    },
    {
      "cell_type": "code",
      "source": [
        "# Create tensor of all ones\n",
        "ones_tensor = torch.ones(3, 4)\n",
        "print(ones_tensor.dtype)\n",
        "ones_tensor"
      ],
      "metadata": {
        "colab": {
          "base_uri": "https://localhost:8080/"
        },
        "id": "pQ2TnmI_IiSc",
        "outputId": "88ec2705-3830-46cc-b676-531fa4cee4dd"
      },
      "execution_count": 22,
      "outputs": [
        {
          "output_type": "stream",
          "name": "stdout",
          "text": [
            "torch.float32\n"
          ]
        },
        {
          "output_type": "execute_result",
          "data": {
            "text/plain": [
              "tensor([[1., 1., 1., 1.],\n",
              "        [1., 1., 1., 1.],\n",
              "        [1., 1., 1., 1.]])"
            ]
          },
          "metadata": {},
          "execution_count": 22
        }
      ]
    },
    {
      "cell_type": "markdown",
      "source": [
        "### Create a range of tensor and tensor-like"
      ],
      "metadata": {
        "id": "Mw8wVemlKhVY"
      }
    },
    {
      "cell_type": "code",
      "source": [
        "# Use torch.range\n",
        "torch.range(0, 10)"
      ],
      "metadata": {
        "colab": {
          "base_uri": "https://localhost:8080/"
        },
        "id": "H_fC0HkfKs-x",
        "outputId": "be172e22-a248-4096-f199-415779f17abb"
      },
      "execution_count": 23,
      "outputs": [
        {
          "output_type": "stream",
          "name": "stderr",
          "text": [
            "<ipython-input-23-bfd1d11818ee>:2: UserWarning: torch.range is deprecated and will be removed in a future release because its behavior is inconsistent with Python's range builtin. Instead, use torch.arange, which produces values in [start, end).\n",
            "  torch.range(0, 10)\n"
          ]
        },
        {
          "output_type": "execute_result",
          "data": {
            "text/plain": [
              "tensor([ 0.,  1.,  2.,  3.,  4.,  5.,  6.,  7.,  8.,  9., 10.])"
            ]
          },
          "metadata": {},
          "execution_count": 23
        }
      ]
    },
    {
      "cell_type": "code",
      "source": [
        "one_to_ten = torch.arange(1, 11)\n",
        "one_to_ten"
      ],
      "metadata": {
        "colab": {
          "base_uri": "https://localhost:8080/"
        },
        "id": "4eaZWtL7K1Oi",
        "outputId": "55a5c68e-48f5-4590-a55b-4a6b8051c904"
      },
      "execution_count": 24,
      "outputs": [
        {
          "output_type": "execute_result",
          "data": {
            "text/plain": [
              "tensor([ 1,  2,  3,  4,  5,  6,  7,  8,  9, 10])"
            ]
          },
          "metadata": {},
          "execution_count": 24
        }
      ]
    },
    {
      "cell_type": "code",
      "source": [
        "# Create tensor like\n",
        "ten_zeros = torch.zeros_like(one_to_ten)\n",
        "ten_zeros"
      ],
      "metadata": {
        "colab": {
          "base_uri": "https://localhost:8080/"
        },
        "id": "j85RDO-xK-p3",
        "outputId": "ca81f38b-f403-4049-91a6-496e3f80ea00"
      },
      "execution_count": 25,
      "outputs": [
        {
          "output_type": "execute_result",
          "data": {
            "text/plain": [
              "tensor([0, 0, 0, 0, 0, 0, 0, 0, 0, 0])"
            ]
          },
          "metadata": {},
          "execution_count": 25
        }
      ]
    },
    {
      "cell_type": "markdown",
      "source": [
        "### Tensor datatypes\n",
        "\n",
        "it dealing with precision of computing & memory manajement\n",
        "\n",
        "**Note:** Tensor datatypes is one of 3 big error\n",
        "1. Tensor no right datatype\n",
        "2. Tensor not rigth shape\n",
        "3. Tensor not on the right device"
      ],
      "metadata": {
        "id": "L8Rgw3RiNmGx"
      }
    },
    {
      "cell_type": "code",
      "source": [
        "# Float 32 tensor\n",
        "float_32_tensor = torch.tensor([3.0, 6.0, 9.0], dtype=None, device=None, requires_grad=False) # data type of tensor, device tensor on, is track gradient\n",
        "float_32_tensor.dtype"
      ],
      "metadata": {
        "colab": {
          "base_uri": "https://localhost:8080/"
        },
        "id": "PggSWxrDNodh",
        "outputId": "e523a0b1-1232-4188-ce15-bbdfc2f8192d"
      },
      "execution_count": 26,
      "outputs": [
        {
          "output_type": "execute_result",
          "data": {
            "text/plain": [
              "torch.float32"
            ]
          },
          "metadata": {},
          "execution_count": 26
        }
      ]
    },
    {
      "cell_type": "code",
      "source": [
        "# Float 16 tensor\n",
        "float_16_tensor = float_32_tensor.type(torch.float16)\n",
        "float_16_tensor"
      ],
      "metadata": {
        "colab": {
          "base_uri": "https://localhost:8080/"
        },
        "id": "G34fvlp3N2kD",
        "outputId": "78a71b4a-34a6-41e4-f988-bdbd21a3c457"
      },
      "execution_count": 27,
      "outputs": [
        {
          "output_type": "execute_result",
          "data": {
            "text/plain": [
              "tensor([3., 6., 9.], dtype=torch.float16)"
            ]
          },
          "metadata": {},
          "execution_count": 27
        }
      ]
    },
    {
      "cell_type": "code",
      "source": [
        "float_16_tensor*float_32_tensor"
      ],
      "metadata": {
        "colab": {
          "base_uri": "https://localhost:8080/"
        },
        "id": "sSjumH6rQNAn",
        "outputId": "de7589ba-6c8c-4c65-be68-7ca8a848f212"
      },
      "execution_count": 28,
      "outputs": [
        {
          "output_type": "execute_result",
          "data": {
            "text/plain": [
              "tensor([ 9., 36., 81.])"
            ]
          },
          "metadata": {},
          "execution_count": 28
        }
      ]
    },
    {
      "cell_type": "code",
      "source": [
        "int_32_tensor = torch.tensor([3, 6, 8], dtype=torch.int32)\n",
        "int_32_tensor"
      ],
      "metadata": {
        "colab": {
          "base_uri": "https://localhost:8080/"
        },
        "id": "RvpMyqjBQk8q",
        "outputId": "2c2d65f2-4bcd-441e-fa02-a71149205969"
      },
      "execution_count": 29,
      "outputs": [
        {
          "output_type": "execute_result",
          "data": {
            "text/plain": [
              "tensor([3, 6, 8], dtype=torch.int32)"
            ]
          },
          "metadata": {},
          "execution_count": 29
        }
      ]
    },
    {
      "cell_type": "code",
      "source": [
        "float_32_tensor * int_32_tensor"
      ],
      "metadata": {
        "colab": {
          "base_uri": "https://localhost:8080/"
        },
        "id": "zzF_uZn2QvfO",
        "outputId": "8569a527-317f-47a4-dc23-5d41bb0a0638"
      },
      "execution_count": 30,
      "outputs": [
        {
          "output_type": "execute_result",
          "data": {
            "text/plain": [
              "tensor([ 9., 36., 72.])"
            ]
          },
          "metadata": {},
          "execution_count": 30
        }
      ]
    },
    {
      "cell_type": "markdown",
      "source": [
        "### Get information of tensor\n",
        "\n",
        "1. Tensor no right datatype - `tensor.dtype`\n",
        "2. Tensor not rigth shape = `tensor.shape`\n",
        "3. Tensor not on the right device - `tensor.device`"
      ],
      "metadata": {
        "id": "0ihl0OrpRGIj"
      }
    },
    {
      "cell_type": "code",
      "source": [
        "some_tensor = torch.rand(3, 4)\n",
        "some_tensor"
      ],
      "metadata": {
        "colab": {
          "base_uri": "https://localhost:8080/"
        },
        "id": "Tlxb7ffkRKUn",
        "outputId": "9cff4fdf-3c6a-454c-83a5-c4c76a46c70a"
      },
      "execution_count": 31,
      "outputs": [
        {
          "output_type": "execute_result",
          "data": {
            "text/plain": [
              "tensor([[0.7033, 0.5720, 0.5929, 0.7819],\n",
              "        [0.2479, 0.5353, 0.3666, 0.3493],\n",
              "        [0.1322, 0.4235, 0.9701, 0.2555]])"
            ]
          },
          "metadata": {},
          "execution_count": 31
        }
      ]
    },
    {
      "cell_type": "code",
      "source": [
        "# Find details of some tensor\n",
        "print(f\"Datatype of tensor: {some_tensor.dtype}\")\n",
        "print(f\"Shape of tensor: {some_tensor.shape}\")\n",
        "print(f\"Device of tensor: {some_tensor.device}\")"
      ],
      "metadata": {
        "colab": {
          "base_uri": "https://localhost:8080/"
        },
        "id": "9dFmyW9kRfZ8",
        "outputId": "3cc1882b-df42-4219-9ab6-ef4fbef451e1"
      },
      "execution_count": 32,
      "outputs": [
        {
          "output_type": "stream",
          "name": "stdout",
          "text": [
            "Datatype of tensor: torch.float32\n",
            "Shape of tensor: torch.Size([3, 4])\n",
            "Device of tensor: cpu\n"
          ]
        }
      ]
    },
    {
      "cell_type": "markdown",
      "source": [
        "### Manipulating tensors (tensor operations)\n",
        "\n",
        "Tensor operations:\n",
        "* Addition\n",
        "* Subtraction\n",
        "* Multiplication\n",
        "* Division\n",
        "* Matrix Multiplication"
      ],
      "metadata": {
        "id": "Ccuwj2cjSUPi"
      }
    },
    {
      "cell_type": "code",
      "source": [
        "# tensor add 10\n",
        "tensor = torch.tensor([1, 2, 3])\n",
        "tensor + 10"
      ],
      "metadata": {
        "colab": {
          "base_uri": "https://localhost:8080/"
        },
        "id": "ptqdHhVhSyRc",
        "outputId": "c38384a8-c656-4978-f614-565d72fe7bd6"
      },
      "execution_count": 33,
      "outputs": [
        {
          "output_type": "execute_result",
          "data": {
            "text/plain": [
              "tensor([11, 12, 13])"
            ]
          },
          "metadata": {},
          "execution_count": 33
        }
      ]
    },
    {
      "cell_type": "code",
      "source": [
        "# tensor multiply by 10\n",
        "tensor * 10"
      ],
      "metadata": {
        "colab": {
          "base_uri": "https://localhost:8080/"
        },
        "id": "rT3iofWxS8IY",
        "outputId": "e78941ba-858e-45df-8292-e49453556214"
      },
      "execution_count": 34,
      "outputs": [
        {
          "output_type": "execute_result",
          "data": {
            "text/plain": [
              "tensor([10, 20, 30])"
            ]
          },
          "metadata": {},
          "execution_count": 34
        }
      ]
    },
    {
      "cell_type": "code",
      "source": [
        "# subtract 10\n",
        "tensor - 10"
      ],
      "metadata": {
        "colab": {
          "base_uri": "https://localhost:8080/"
        },
        "id": "zlBrsQNiTC5_",
        "outputId": "d8f513ac-4661-4408-e4bf-922f8f64b42e"
      },
      "execution_count": 35,
      "outputs": [
        {
          "output_type": "execute_result",
          "data": {
            "text/plain": [
              "tensor([-9, -8, -7])"
            ]
          },
          "metadata": {},
          "execution_count": 35
        }
      ]
    },
    {
      "cell_type": "code",
      "source": [
        "# Pytorch built-in function\n",
        "print(torch.mul(tensor, 10))\n",
        "print(torch.add(tensor, 10))"
      ],
      "metadata": {
        "colab": {
          "base_uri": "https://localhost:8080/"
        },
        "id": "TmQtQh36TNnb",
        "outputId": "e2d5d7df-03a6-49c6-cb98-356c35b91a1b"
      },
      "execution_count": 36,
      "outputs": [
        {
          "output_type": "stream",
          "name": "stdout",
          "text": [
            "tensor([10, 20, 30])\n",
            "tensor([11, 12, 13])\n"
          ]
        }
      ]
    },
    {
      "cell_type": "markdown",
      "source": [
        "### Matrix multiplication\n",
        "\n",
        "with two way to perform it\n",
        "\n",
        "1. element-wise multiplication\n",
        "2. matrix multiplication (dot product)\n",
        "\n",
        "there two main rules of matrix multiplication\n",
        "1. **inner dimension** must match:\n",
        "* `(3, 2) @ (3, 2)` won't work\n",
        "* `(2, 3) @ (3, 2)` will work\n",
        "* `(3, 2) @ (2, 3)` will work\n",
        "2. resulting matrix has the shape of **outer dimension**:\n",
        "* `(2, 3) @ (3, 2)` -> `(2, 2)`\n",
        "* `(3, 2) @ (2, 3)` -> `(3, 3)`"
      ],
      "metadata": {
        "id": "Yx6upIqlJRz9"
      }
    },
    {
      "cell_type": "code",
      "source": [
        "# element wise multiplication\n",
        "print(tensor, \"*\", tensor)\n",
        "print(f\"equal to {tensor * tensor}\")"
      ],
      "metadata": {
        "colab": {
          "base_uri": "https://localhost:8080/"
        },
        "id": "HApEkqz4JbkT",
        "outputId": "1fe43d7e-5bae-42f1-9059-3a15e31b7d2e"
      },
      "execution_count": 39,
      "outputs": [
        {
          "output_type": "stream",
          "name": "stdout",
          "text": [
            "tensor([1, 2, 3]) * tensor([1, 2, 3])\n",
            "equal to tensor([1, 4, 9])\n"
          ]
        }
      ]
    },
    {
      "cell_type": "code",
      "source": [
        "# matrix multiplication\n",
        "torch.matmul(tensor, tensor)"
      ],
      "metadata": {
        "colab": {
          "base_uri": "https://localhost:8080/"
        },
        "id": "__pgs3oaKWfl",
        "outputId": "fcf34e40-3f6a-49f8-db12-bd464144a9bf"
      },
      "execution_count": 40,
      "outputs": [
        {
          "output_type": "execute_result",
          "data": {
            "text/plain": [
              "tensor(14)"
            ]
          },
          "metadata": {},
          "execution_count": 40
        }
      ]
    },
    {
      "cell_type": "code",
      "source": [
        "tensor @ tensor"
      ],
      "metadata": {
        "colab": {
          "base_uri": "https://localhost:8080/"
        },
        "id": "bOwFpSG4MdFq",
        "outputId": "cb63c4c8-7370-4c91-cee0-61333e7cdf77"
      },
      "execution_count": 49,
      "outputs": [
        {
          "output_type": "execute_result",
          "data": {
            "text/plain": [
              "tensor(14)"
            ]
          },
          "metadata": {},
          "execution_count": 49
        }
      ]
    },
    {
      "cell_type": "code",
      "source": [
        "tensor"
      ],
      "metadata": {
        "colab": {
          "base_uri": "https://localhost:8080/"
        },
        "id": "bCsEuQHrKyfo",
        "outputId": "021522fe-a526-49c5-cdaf-929b9bf4242f"
      },
      "execution_count": 41,
      "outputs": [
        {
          "output_type": "execute_result",
          "data": {
            "text/plain": [
              "tensor([1, 2, 3])"
            ]
          },
          "metadata": {},
          "execution_count": 41
        }
      ]
    },
    {
      "cell_type": "code",
      "source": [
        "# matrix multiplication by hand\n",
        "1*1 + 2*2 + 3*3"
      ],
      "metadata": {
        "colab": {
          "base_uri": "https://localhost:8080/"
        },
        "id": "TsN5XfWCK3mN",
        "outputId": "c9b7a096-bb64-4b2e-c445-7370e3ff289c"
      },
      "execution_count": 42,
      "outputs": [
        {
          "output_type": "execute_result",
          "data": {
            "text/plain": [
              "14"
            ]
          },
          "metadata": {},
          "execution_count": 42
        }
      ]
    },
    {
      "cell_type": "code",
      "source": [
        "%%time\n",
        "val = 0\n",
        "for i in range (len(tensor)):\n",
        "  val += tensor[i] * tensor[i]\n",
        "print(val)"
      ],
      "metadata": {
        "colab": {
          "base_uri": "https://localhost:8080/"
        },
        "id": "UPXmsbeSK993",
        "outputId": "6821d534-fe30-4f26-e9fe-ddc656027691"
      },
      "execution_count": 45,
      "outputs": [
        {
          "output_type": "stream",
          "name": "stdout",
          "text": [
            "tensor(14)\n",
            "CPU times: user 2.79 ms, sys: 0 ns, total: 2.79 ms\n",
            "Wall time: 2.59 ms\n"
          ]
        }
      ]
    },
    {
      "cell_type": "code",
      "source": [
        "%%time\n",
        "torch.matmul(tensor, tensor)"
      ],
      "metadata": {
        "colab": {
          "base_uri": "https://localhost:8080/"
        },
        "id": "lIkqeRzZLTre",
        "outputId": "6fa58325-1570-4361-d9de-107ae7c4db03"
      },
      "execution_count": 48,
      "outputs": [
        {
          "output_type": "stream",
          "name": "stdout",
          "text": [
            "CPU times: user 486 µs, sys: 0 ns, total: 486 µs\n",
            "Wall time: 393 µs\n"
          ]
        },
        {
          "output_type": "execute_result",
          "data": {
            "text/plain": [
              "tensor(14)"
            ]
          },
          "metadata": {},
          "execution_count": 48
        }
      ]
    },
    {
      "cell_type": "markdown",
      "source": [
        "### most common errors of shape error"
      ],
      "metadata": {
        "id": "8RWKoyqsMC67"
      }
    },
    {
      "cell_type": "code",
      "source": [
        "# shapes for matrix multiplication\n",
        "tensor_A = torch.tensor([[1, 2],\n",
        "                         [3, 4],\n",
        "                         [5, 6]])\n",
        "\n",
        "tensor_B = torch.tensor([[7, 10],\n",
        "                         [8, 11],\n",
        "                         [9, 12]])\n",
        "\n",
        "torch.mm(tensor_A, tensor_B) # torch.matmul == torch.mm == @ operation"
      ],
      "metadata": {
        "colab": {
          "base_uri": "https://localhost:8080/",
          "height": 176
        },
        "id": "CtEXtUPBMBaE",
        "outputId": "da9ed77a-1efe-4a79-d0a2-55f66a54cff5"
      },
      "execution_count": 64,
      "outputs": [
        {
          "output_type": "error",
          "ename": "RuntimeError",
          "evalue": "mat1 and mat2 shapes cannot be multiplied (3x2 and 3x2)",
          "traceback": [
            "\u001b[0;31m---------------------------------------------------------------------------\u001b[0m",
            "\u001b[0;31mRuntimeError\u001b[0m                              Traceback (most recent call last)",
            "\u001b[0;32m<ipython-input-64-17c98c2484d1>\u001b[0m in \u001b[0;36m<cell line: 10>\u001b[0;34m()\u001b[0m\n\u001b[1;32m      8\u001b[0m                          [9, 12]])\n\u001b[1;32m      9\u001b[0m \u001b[0;34m\u001b[0m\u001b[0m\n\u001b[0;32m---> 10\u001b[0;31m \u001b[0mtorch\u001b[0m\u001b[0;34m.\u001b[0m\u001b[0mmm\u001b[0m\u001b[0;34m(\u001b[0m\u001b[0mtensor_A\u001b[0m\u001b[0;34m,\u001b[0m \u001b[0mtensor_B\u001b[0m\u001b[0;34m)\u001b[0m \u001b[0;31m# torch.matmul == torch.mm == @ operation\u001b[0m\u001b[0;34m\u001b[0m\u001b[0;34m\u001b[0m\u001b[0m\n\u001b[0m",
            "\u001b[0;31mRuntimeError\u001b[0m: mat1 and mat2 shapes cannot be multiplied (3x2 and 3x2)"
          ]
        }
      ]
    },
    {
      "cell_type": "code",
      "source": [
        "tensor_A.shape, tensor_B.shape"
      ],
      "metadata": {
        "colab": {
          "base_uri": "https://localhost:8080/"
        },
        "id": "hFLCt7R2PcF0",
        "outputId": "b9f6f4e1-bd21-4a3b-e611-a3c88934f885"
      },
      "execution_count": 60,
      "outputs": [
        {
          "output_type": "execute_result",
          "data": {
            "text/plain": [
              "(torch.Size([3, 2]), torch.Size([3, 2]))"
            ]
          },
          "metadata": {},
          "execution_count": 60
        }
      ]
    },
    {
      "cell_type": "markdown",
      "source": [
        "to fix tensor shape issues, we can manipulate shape of one of tensor with **transpose**\n",
        "\n",
        "a **transpose** switches the axes or dimensions of a given tensor"
      ],
      "metadata": {
        "id": "AsAx_I8qPs27"
      }
    },
    {
      "cell_type": "code",
      "source": [
        "tensor_B, tensor_B.shape"
      ],
      "metadata": {
        "colab": {
          "base_uri": "https://localhost:8080/"
        },
        "id": "9cIzz9miP8QH",
        "outputId": "7d326d4f-032e-4d94-f557-039c1795e9ca"
      },
      "execution_count": 68,
      "outputs": [
        {
          "output_type": "execute_result",
          "data": {
            "text/plain": [
              "(tensor([[ 7, 10],\n",
              "         [ 8, 11],\n",
              "         [ 9, 12]]),\n",
              " torch.Size([3, 2]))"
            ]
          },
          "metadata": {},
          "execution_count": 68
        }
      ]
    },
    {
      "cell_type": "code",
      "source": [
        "tensor_B.T, tensor_B.T.shape"
      ],
      "metadata": {
        "colab": {
          "base_uri": "https://localhost:8080/"
        },
        "id": "6LGDLA7HPiU9",
        "outputId": "27307135-7192-46d7-f7d8-1f4649198b9f"
      },
      "execution_count": 67,
      "outputs": [
        {
          "output_type": "execute_result",
          "data": {
            "text/plain": [
              "(tensor([[ 7,  8,  9],\n",
              "         [10, 11, 12]]),\n",
              " torch.Size([2, 3]))"
            ]
          },
          "metadata": {},
          "execution_count": 67
        }
      ]
    },
    {
      "cell_type": "code",
      "source": [
        "# matrix multiplication work\n",
        "\n",
        "torch.mm(tensor_A, tensor_B.T)"
      ],
      "metadata": {
        "colab": {
          "base_uri": "https://localhost:8080/"
        },
        "id": "x5zVN8zLQIKY",
        "outputId": "eae1e02f-d618-465f-9852-fd51b6000fa3"
      },
      "execution_count": 69,
      "outputs": [
        {
          "output_type": "execute_result",
          "data": {
            "text/plain": [
              "tensor([[ 27,  30,  33],\n",
              "        [ 61,  68,  75],\n",
              "        [ 95, 106, 117]])"
            ]
          },
          "metadata": {},
          "execution_count": 69
        }
      ]
    },
    {
      "cell_type": "markdown",
      "source": [
        "## Finding the min, max, mean, sum, etc (tensor aggregation)"
      ],
      "metadata": {
        "id": "hwJ5UKtoSVol"
      }
    },
    {
      "cell_type": "code",
      "source": [
        "x = torch.arange(0, 100, 10)\n",
        "x, x.dtype"
      ],
      "metadata": {
        "colab": {
          "base_uri": "https://localhost:8080/"
        },
        "id": "JB1FYQ-7SguU",
        "outputId": "30db6ec0-bb9e-4872-ca61-22f385f88cac"
      },
      "execution_count": 90,
      "outputs": [
        {
          "output_type": "execute_result",
          "data": {
            "text/plain": [
              "(tensor([ 0, 10, 20, 30, 40, 50, 60, 70, 80, 90]), torch.int64)"
            ]
          },
          "metadata": {},
          "execution_count": 90
        }
      ]
    },
    {
      "cell_type": "code",
      "source": [
        "# find min\n",
        "torch.min(x), x.min()"
      ],
      "metadata": {
        "colab": {
          "base_uri": "https://localhost:8080/"
        },
        "id": "kCbVPt7SSnZp",
        "outputId": "2bf9d1b1-bce8-4578-b74c-faef57b21464"
      },
      "execution_count": 91,
      "outputs": [
        {
          "output_type": "execute_result",
          "data": {
            "text/plain": [
              "(tensor(0), tensor(0))"
            ]
          },
          "metadata": {},
          "execution_count": 91
        }
      ]
    },
    {
      "cell_type": "code",
      "source": [
        "# find max\n",
        "torch.max(x), x.max()"
      ],
      "metadata": {
        "colab": {
          "base_uri": "https://localhost:8080/"
        },
        "id": "2OFtIwRPS45N",
        "outputId": "578b1fe2-9fbd-4b5a-c798-2b99894e41aa"
      },
      "execution_count": 73,
      "outputs": [
        {
          "output_type": "execute_result",
          "data": {
            "text/plain": [
              "(tensor(90), tensor(90))"
            ]
          },
          "metadata": {},
          "execution_count": 73
        }
      ]
    },
    {
      "cell_type": "code",
      "source": [
        "# find mean - note: torch.mean require float32 dytpe\n",
        "torch.mean(x.type(torch.float32)), x.type(torch.float32).mean()"
      ],
      "metadata": {
        "colab": {
          "base_uri": "https://localhost:8080/"
        },
        "id": "VOdDF4FjS6rk",
        "outputId": "cd25e489-8ee3-48c7-9bb4-e169b4d8d675"
      },
      "execution_count": 80,
      "outputs": [
        {
          "output_type": "execute_result",
          "data": {
            "text/plain": [
              "(tensor(45.), tensor(45.))"
            ]
          },
          "metadata": {},
          "execution_count": 80
        }
      ]
    },
    {
      "cell_type": "code",
      "source": [
        "# find sum\n",
        "torch.sum(x), x.sum()"
      ],
      "metadata": {
        "colab": {
          "base_uri": "https://localhost:8080/"
        },
        "id": "nS9O0mogTsWD",
        "outputId": "81ac2902-ad59-4bfc-d779-a93a3543a5f5"
      },
      "execution_count": 82,
      "outputs": [
        {
          "output_type": "execute_result",
          "data": {
            "text/plain": [
              "(tensor(450), tensor(450))"
            ]
          },
          "metadata": {},
          "execution_count": 82
        }
      ]
    },
    {
      "cell_type": "code",
      "source": [
        "# find position index of min value\n",
        "torch.argmin(x), x.argmin()"
      ],
      "metadata": {
        "colab": {
          "base_uri": "https://localhost:8080/"
        },
        "id": "tTcDqlFjUXWV",
        "outputId": "c45c49ef-e9a5-4c97-f2a5-4336e646370d"
      },
      "execution_count": 93,
      "outputs": [
        {
          "output_type": "execute_result",
          "data": {
            "text/plain": [
              "(tensor(0), tensor(0))"
            ]
          },
          "metadata": {},
          "execution_count": 93
        }
      ]
    },
    {
      "cell_type": "code",
      "source": [
        "# find position index of max value\n",
        "torch.argmax(x), x.argmax()"
      ],
      "metadata": {
        "colab": {
          "base_uri": "https://localhost:8080/"
        },
        "id": "QCZ2bwhKUFhV",
        "outputId": "d4c76b18-87d1-47c0-92ca-343271583d25"
      },
      "execution_count": 92,
      "outputs": [
        {
          "output_type": "execute_result",
          "data": {
            "text/plain": [
              "(tensor(9), tensor(9))"
            ]
          },
          "metadata": {},
          "execution_count": 92
        }
      ]
    },
    {
      "cell_type": "markdown",
      "source": [
        "## Reshaping, staking, squeezing and unsqueesing tensors\n",
        "\n",
        "* Reshaping - reshapes an input tensor to a defined shape\n",
        "* View - return a virw of input tensor but keep the same memory as the original tensor\n",
        "* Stacking - combine multiple tensor on top of each other (vstack) or side by side (hstack)\n",
        "* Squeeze - remove all `1` dimensions from a tensor\n",
        "* Unsqueeze - add a `1` dimensions to a target tensor\n",
        "* Permute - Return a view of the input with dimensions permuted (swapped) in a certain way"
      ],
      "metadata": {
        "id": "pOwDS0JqU-9Q"
      }
    },
    {
      "cell_type": "code",
      "source": [
        "x = torch.arange(1., 10.)\n",
        "x, x.shape"
      ],
      "metadata": {
        "colab": {
          "base_uri": "https://localhost:8080/"
        },
        "id": "XlUFSNLYWGFX",
        "outputId": "85397af1-fc2f-40f2-9ac7-6fb7be629b55"
      },
      "execution_count": 109,
      "outputs": [
        {
          "output_type": "execute_result",
          "data": {
            "text/plain": [
              "(tensor([1., 2., 3., 4., 5., 6., 7., 8., 9.]), torch.Size([9]))"
            ]
          },
          "metadata": {},
          "execution_count": 109
        }
      ]
    },
    {
      "cell_type": "code",
      "source": [
        "# Add an extra dimension\n",
        "x_reshaped = x.reshape(1, 9)\n",
        "x_reshaped, x_reshaped.shape"
      ],
      "metadata": {
        "colab": {
          "base_uri": "https://localhost:8080/"
        },
        "id": "6_1km4poWPmr",
        "outputId": "8cc5159f-20b9-4720-d8de-1c465bc8b04c"
      },
      "execution_count": 110,
      "outputs": [
        {
          "output_type": "execute_result",
          "data": {
            "text/plain": [
              "(tensor([[1., 2., 3., 4., 5., 6., 7., 8., 9.]]), torch.Size([1, 9]))"
            ]
          },
          "metadata": {},
          "execution_count": 110
        }
      ]
    },
    {
      "cell_type": "code",
      "source": [
        "# Change the view\n",
        "z = x.view(1, 9)\n",
        "z, z.shape"
      ],
      "metadata": {
        "colab": {
          "base_uri": "https://localhost:8080/"
        },
        "id": "Rw3T8SY5XEpF",
        "outputId": "0ee8f5bb-eeb5-4405-91f9-b513190640b1"
      },
      "execution_count": 117,
      "outputs": [
        {
          "output_type": "execute_result",
          "data": {
            "text/plain": [
              "(tensor([[1., 2., 3., 4., 5., 6., 7., 8., 9.]]), torch.Size([1, 9]))"
            ]
          },
          "metadata": {},
          "execution_count": 117
        }
      ]
    },
    {
      "cell_type": "code",
      "source": [
        "# Changing z will changes x (because view share same memory)\n",
        "z[:, 0] = 5\n",
        "z, x"
      ],
      "metadata": {
        "colab": {
          "base_uri": "https://localhost:8080/"
        },
        "id": "ufnyL_sHXT-l",
        "outputId": "81e3ece6-2a35-491a-def5-09113e96e33c"
      },
      "execution_count": 124,
      "outputs": [
        {
          "output_type": "execute_result",
          "data": {
            "text/plain": [
              "(tensor([[5., 2., 3., 4., 5., 6., 7., 8., 9.]]),\n",
              " tensor([5., 2., 3., 4., 5., 6., 7., 8., 9.]))"
            ]
          },
          "metadata": {},
          "execution_count": 124
        }
      ]
    },
    {
      "cell_type": "code",
      "source": [
        "# Stack tensors on top of each other\n",
        "x_stacked = torch.stack([x, x, x, x], dim=0)\n",
        "x_stacked"
      ],
      "metadata": {
        "colab": {
          "base_uri": "https://localhost:8080/"
        },
        "id": "xXEsatpcXNLo",
        "outputId": "2363cc19-fe2c-4a0d-8863-cd9a69d5439b"
      },
      "execution_count": 133,
      "outputs": [
        {
          "output_type": "execute_result",
          "data": {
            "text/plain": [
              "tensor([[5., 2., 3., 4., 5., 6., 7., 8., 9.],\n",
              "        [5., 2., 3., 4., 5., 6., 7., 8., 9.],\n",
              "        [5., 2., 3., 4., 5., 6., 7., 8., 9.],\n",
              "        [5., 2., 3., 4., 5., 6., 7., 8., 9.]])"
            ]
          },
          "metadata": {},
          "execution_count": 133
        }
      ]
    },
    {
      "cell_type": "code",
      "source": [
        "# Squeeze tensor\n",
        "x_reshaped, x_reshaped.shape"
      ],
      "metadata": {
        "id": "LUcI7gv0Yr6w",
        "outputId": "4cc39415-d8e6-4d49-f2d1-e1463007be0f",
        "colab": {
          "base_uri": "https://localhost:8080/"
        }
      },
      "execution_count": 159,
      "outputs": [
        {
          "output_type": "execute_result",
          "data": {
            "text/plain": [
              "(tensor([[5., 2., 3., 4., 5., 6., 7., 8., 9.]]), torch.Size([1, 9]))"
            ]
          },
          "metadata": {},
          "execution_count": 159
        }
      ]
    },
    {
      "cell_type": "code",
      "source": [
        "x_reshaped.squeeze(), x_reshaped.squeeze().shape"
      ],
      "metadata": {
        "id": "UCiFDj86ZqGQ",
        "outputId": "a7cd066f-b39e-4e24-8872-302a95a52283",
        "colab": {
          "base_uri": "https://localhost:8080/"
        }
      },
      "execution_count": 162,
      "outputs": [
        {
          "output_type": "execute_result",
          "data": {
            "text/plain": [
              "(tensor([5., 2., 3., 4., 5., 6., 7., 8., 9.]), torch.Size([9]))"
            ]
          },
          "metadata": {},
          "execution_count": 162
        }
      ]
    },
    {
      "cell_type": "code",
      "source": [
        "# Unsqueeze tensor\n",
        "x_reshaped.unsqueeze(dim=1), x_reshaped.unsqueeze(dim=0).shape"
      ],
      "metadata": {
        "id": "_6QhxW8hZ0-F",
        "outputId": "f8cfe889-d7a2-4875-88af-0961758dbf44",
        "colab": {
          "base_uri": "https://localhost:8080/"
        }
      },
      "execution_count": 172,
      "outputs": [
        {
          "output_type": "execute_result",
          "data": {
            "text/plain": [
              "(tensor([[[5., 2., 3., 4., 5., 6., 7., 8., 9.]]]), torch.Size([1, 1, 9]))"
            ]
          },
          "metadata": {},
          "execution_count": 172
        }
      ]
    },
    {
      "cell_type": "code",
      "source": [
        "# Permute tensor\n",
        "x_original = torch.rand(size=(244, 244, 3))\n",
        "x_original, x_original.shape"
      ],
      "metadata": {
        "id": "nSeQL6zzbI0n",
        "outputId": "04e784a8-bbbf-4638-c8fd-e16106ad96ef",
        "colab": {
          "base_uri": "https://localhost:8080/"
        }
      },
      "execution_count": 189,
      "outputs": [
        {
          "output_type": "execute_result",
          "data": {
            "text/plain": [
              "(tensor([[[5.5139e-01, 5.4917e-01, 2.9967e-01],\n",
              "          [7.1164e-01, 1.6570e-01, 6.5458e-01],\n",
              "          [1.2430e-02, 8.0596e-01, 6.5615e-01],\n",
              "          ...,\n",
              "          [6.2897e-01, 5.0622e-01, 3.8975e-01],\n",
              "          [9.3284e-01, 9.8651e-01, 9.0851e-01],\n",
              "          [1.2042e-01, 9.3901e-01, 8.5439e-01]],\n",
              " \n",
              "         [[4.5571e-01, 8.7209e-01, 6.9348e-01],\n",
              "          [6.0095e-01, 8.9824e-01, 1.4249e-01],\n",
              "          [1.9999e-01, 7.6383e-01, 7.4220e-01],\n",
              "          ...,\n",
              "          [3.1915e-01, 5.5565e-01, 4.9330e-01],\n",
              "          [1.3685e-01, 7.8321e-04, 1.1278e-01],\n",
              "          [9.7628e-01, 6.0651e-01, 8.8795e-01]],\n",
              " \n",
              "         [[6.5031e-01, 6.5072e-01, 3.2199e-01],\n",
              "          [4.0113e-01, 1.7295e-01, 4.7113e-01],\n",
              "          [5.1394e-01, 6.3266e-01, 9.7680e-01],\n",
              "          ...,\n",
              "          [7.8326e-01, 2.2064e-01, 7.8378e-01],\n",
              "          [8.3398e-01, 6.5813e-01, 9.8231e-01],\n",
              "          [1.2885e-01, 7.6721e-01, 3.1772e-01]],\n",
              " \n",
              "         ...,\n",
              " \n",
              "         [[3.3745e-01, 5.4600e-02, 6.8071e-01],\n",
              "          [4.7039e-01, 2.2498e-01, 1.8138e-02],\n",
              "          [2.1854e-01, 5.2766e-01, 3.1130e-01],\n",
              "          ...,\n",
              "          [2.2646e-01, 4.2666e-01, 8.3493e-02],\n",
              "          [8.3308e-01, 7.4937e-01, 4.2246e-01],\n",
              "          [2.1899e-02, 8.1879e-01, 6.5696e-01]],\n",
              " \n",
              "         [[1.8142e-01, 3.4213e-01, 9.5922e-01],\n",
              "          [8.6644e-01, 4.1991e-01, 6.6135e-01],\n",
              "          [2.2324e-01, 6.2619e-01, 5.3173e-01],\n",
              "          ...,\n",
              "          [8.8548e-01, 7.0212e-01, 8.7884e-01],\n",
              "          [3.5052e-01, 7.9165e-01, 6.3438e-01],\n",
              "          [6.3957e-01, 6.6547e-01, 1.4986e-01]],\n",
              " \n",
              "         [[6.6018e-01, 7.3807e-01, 3.4361e-01],\n",
              "          [1.8683e-01, 2.5104e-01, 7.1156e-01],\n",
              "          [8.2845e-01, 4.5337e-01, 3.6610e-01],\n",
              "          ...,\n",
              "          [7.4148e-01, 8.3671e-01, 4.9988e-02],\n",
              "          [4.1493e-01, 3.5140e-01, 3.6349e-01],\n",
              "          [4.8103e-01, 1.1376e-01, 8.7195e-01]]]),\n",
              " torch.Size([244, 244, 3]))"
            ]
          },
          "metadata": {},
          "execution_count": 189
        }
      ]
    },
    {
      "cell_type": "code",
      "source": [
        "x_permuted = torch.permute(x_original, dims=(2, 0, 1))\n",
        "x_permuted, x_permuted.shape"
      ],
      "metadata": {
        "id": "FMAqBsT2b8Wn",
        "outputId": "1e8bdb6e-25c9-4481-f16b-a2409a5b1672",
        "colab": {
          "base_uri": "https://localhost:8080/"
        }
      },
      "execution_count": 190,
      "outputs": [
        {
          "output_type": "execute_result",
          "data": {
            "text/plain": [
              "(tensor([[[5.5139e-01, 7.1164e-01, 1.2430e-02,  ..., 6.2897e-01,\n",
              "           9.3284e-01, 1.2042e-01],\n",
              "          [4.5571e-01, 6.0095e-01, 1.9999e-01,  ..., 3.1915e-01,\n",
              "           1.3685e-01, 9.7628e-01],\n",
              "          [6.5031e-01, 4.0113e-01, 5.1394e-01,  ..., 7.8326e-01,\n",
              "           8.3398e-01, 1.2885e-01],\n",
              "          ...,\n",
              "          [3.3745e-01, 4.7039e-01, 2.1854e-01,  ..., 2.2646e-01,\n",
              "           8.3308e-01, 2.1899e-02],\n",
              "          [1.8142e-01, 8.6644e-01, 2.2324e-01,  ..., 8.8548e-01,\n",
              "           3.5052e-01, 6.3957e-01],\n",
              "          [6.6018e-01, 1.8683e-01, 8.2845e-01,  ..., 7.4148e-01,\n",
              "           4.1493e-01, 4.8103e-01]],\n",
              " \n",
              "         [[5.4917e-01, 1.6570e-01, 8.0596e-01,  ..., 5.0622e-01,\n",
              "           9.8651e-01, 9.3901e-01],\n",
              "          [8.7209e-01, 8.9824e-01, 7.6383e-01,  ..., 5.5565e-01,\n",
              "           7.8321e-04, 6.0651e-01],\n",
              "          [6.5072e-01, 1.7295e-01, 6.3266e-01,  ..., 2.2064e-01,\n",
              "           6.5813e-01, 7.6721e-01],\n",
              "          ...,\n",
              "          [5.4600e-02, 2.2498e-01, 5.2766e-01,  ..., 4.2666e-01,\n",
              "           7.4937e-01, 8.1879e-01],\n",
              "          [3.4213e-01, 4.1991e-01, 6.2619e-01,  ..., 7.0212e-01,\n",
              "           7.9165e-01, 6.6547e-01],\n",
              "          [7.3807e-01, 2.5104e-01, 4.5337e-01,  ..., 8.3671e-01,\n",
              "           3.5140e-01, 1.1376e-01]],\n",
              " \n",
              "         [[2.9967e-01, 6.5458e-01, 6.5615e-01,  ..., 3.8975e-01,\n",
              "           9.0851e-01, 8.5439e-01],\n",
              "          [6.9348e-01, 1.4249e-01, 7.4220e-01,  ..., 4.9330e-01,\n",
              "           1.1278e-01, 8.8795e-01],\n",
              "          [3.2199e-01, 4.7113e-01, 9.7680e-01,  ..., 7.8378e-01,\n",
              "           9.8231e-01, 3.1772e-01],\n",
              "          ...,\n",
              "          [6.8071e-01, 1.8138e-02, 3.1130e-01,  ..., 8.3493e-02,\n",
              "           4.2246e-01, 6.5696e-01],\n",
              "          [9.5922e-01, 6.6135e-01, 5.3173e-01,  ..., 8.7884e-01,\n",
              "           6.3438e-01, 1.4986e-01],\n",
              "          [3.4361e-01, 7.1156e-01, 3.6610e-01,  ..., 4.9988e-02,\n",
              "           3.6349e-01, 8.7195e-01]]]),\n",
              " torch.Size([3, 244, 244]))"
            ]
          },
          "metadata": {},
          "execution_count": 190
        }
      ]
    },
    {
      "cell_type": "code",
      "source": [
        "# Permuted share same memory\n",
        "x_original[0, 0, 0] = 1"
      ],
      "metadata": {
        "id": "epEPxsiBclZR"
      },
      "execution_count": 193,
      "outputs": []
    },
    {
      "cell_type": "code",
      "source": [
        "x_permuted[0, 0, 0]"
      ],
      "metadata": {
        "id": "IiBGqd85cvek",
        "outputId": "2d63abb6-6e0c-4fa7-af16-05bf03581bd5",
        "colab": {
          "base_uri": "https://localhost:8080/"
        }
      },
      "execution_count": 194,
      "outputs": [
        {
          "output_type": "execute_result",
          "data": {
            "text/plain": [
              "tensor(1.)"
            ]
          },
          "metadata": {},
          "execution_count": 194
        }
      ]
    }
  ]
}