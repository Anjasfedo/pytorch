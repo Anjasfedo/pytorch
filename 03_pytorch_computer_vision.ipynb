{
  "nbformat": 4,
  "nbformat_minor": 0,
  "metadata": {
    "colab": {
      "provenance": [],
      "authorship_tag": "ABX9TyMCtXBIhXNe0i/kNAhtjMM6",
      "include_colab_link": true
    },
    "kernelspec": {
      "name": "python3",
      "display_name": "Python 3"
    },
    "language_info": {
      "name": "python"
    }
  },
  "cells": [
    {
      "cell_type": "markdown",
      "metadata": {
        "id": "view-in-github",
        "colab_type": "text"
      },
      "source": [
        "<a href=\"https://colab.research.google.com/github/Anjasfedo/pytorch/blob/computer_vision/03_pytorch_computer_vision.ipynb\" target=\"_parent\"><img src=\"https://colab.research.google.com/assets/colab-badge.svg\" alt=\"Open In Colab\"/></a>"
      ]
    },
    {
      "cell_type": "markdown",
      "source": [
        "# Computer Vision problem: got image input,\n",
        "- that do classification such binary classification & multi-class classification\n",
        "- object detection\n",
        "- segmentation, get different section on image\n",
        "\n",
        "Tesla Computer Vision got 9 cameras and 3-dimensional \"vector space\""
      ],
      "metadata": {
        "id": "qttyc0FtvjJC"
      }
    },
    {
      "cell_type": "markdown",
      "source": [
        "# Computer vision inputs & outputs\n",
        "\n",
        "1. image based on the pixel, especially:\n",
        "  - width\n",
        "  - height\n",
        "  - colour channels (RGB)\n",
        "\n",
        "2. then be convert as number (numerical encoding)\n",
        "\n",
        "3. and become the input of the model (oftenly with Convenlutional neuroal network/CNN)\n",
        "\n",
        "4. output of predicted output as number\n",
        "\n",
        "5. got the actual output\n",
        "\n",
        "Make sure the input shape of batch_size, width, height, colour_channel (can be NHWC or NCHW)fit with the model\n",
        "\n",
        "with output shapes based on prediction probabilites"
      ],
      "metadata": {
        "id": "RvqHLuZfVgKg"
      }
    },
    {
      "cell_type": "markdown",
      "source": [
        "# Convolutional Neural Network (CNN)\n",
        "\n",
        "Architecture of a CNN (typical)\n",
        "\n",
        "- input images\n",
        "- Input layer\n",
        "- Convenlutional layer (perform convoving window operation across an image)\n",
        "- Hidden layer/non-linear activation\n",
        "- Pooling layer\n",
        "- Output layer/linear layer\n",
        "- Output activation"
      ],
      "metadata": {
        "id": "Kq-yFmyBXxcz"
      }
    },
    {
      "cell_type": "markdown",
      "source": [
        "# PyTorch Computer Vision"
      ],
      "metadata": {
        "id": "3WUEGNEvZJxK"
      }
    },
    {
      "cell_type": "markdown",
      "source": [
        "## 0. Computer vision libraries in PyTorch\n",
        "\n",
        "- `torchvision` - base domain computer vision library of PyTorch\n",
        "- `torchvision.datasets` - get datasets & data loading functions for computer vision\n",
        "- `torchvision.models` - get pretrained computer vision models that can be leverange for own problem\n",
        "- `torchvision.transforms` - fucntiosn for manipulating vision data (images) to be suitable for use with ML model\n",
        "- `torch.utils.data.Dataset` - base dataset class for PyTorch\n",
        "- `torch.utils.data.DataLoader` - creates python iterable over a dataset"
      ],
      "metadata": {
        "id": "7mtFEv9zZTpc"
      }
    },
    {
      "cell_type": "code",
      "execution_count": 1,
      "metadata": {
        "id": "0Ugpkptzu3_w",
        "colab": {
          "base_uri": "https://localhost:8080/"
        },
        "outputId": "91b43253-4580-4cf3-8f4a-31169389c2ab"
      },
      "outputs": [
        {
          "output_type": "stream",
          "name": "stdout",
          "text": [
            "2.3.0+cu121\n",
            "0.18.0+cu121\n"
          ]
        }
      ],
      "source": [
        "# Import libraries\n",
        "\n",
        "# Import PyTorch\n",
        "import torch\n",
        "from torch import nn\n",
        "\n",
        "# Import torchvision\n",
        "import torchvision\n",
        "from torchvision import datasets\n",
        "from torchvision import transforms\n",
        "from torchvision.transforms import ToTensor # convert PIL imagge or numoy.ndarray to tensor\n",
        "\n",
        "# Import matplotlib for visualization\n",
        "import matplotlib.pyplot as plt\n",
        "\n",
        "# Check versions\n",
        "print(torch.__version__)\n",
        "print(torchvision.__version__)"
      ]
    }
  ]
}