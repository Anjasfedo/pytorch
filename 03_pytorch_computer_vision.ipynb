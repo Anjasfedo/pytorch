{
  "nbformat": 4,
  "nbformat_minor": 0,
  "metadata": {
    "colab": {
      "provenance": [],
      "authorship_tag": "ABX9TyNZng/ilQa4ZiFz0aUydiOW",
      "include_colab_link": true
    },
    "kernelspec": {
      "name": "python3",
      "display_name": "Python 3"
    },
    "language_info": {
      "name": "python"
    }
  },
  "cells": [
    {
      "cell_type": "markdown",
      "metadata": {
        "id": "view-in-github",
        "colab_type": "text"
      },
      "source": [
        "<a href=\"https://colab.research.google.com/github/Anjasfedo/pytorch/blob/computer_vision/03_pytorch_computer_vision.ipynb\" target=\"_parent\"><img src=\"https://colab.research.google.com/assets/colab-badge.svg\" alt=\"Open In Colab\"/></a>"
      ]
    },
    {
      "cell_type": "markdown",
      "source": [
        "Computer Vision problem: got image input,\n",
        "- that do classification such binary classification & multi-class classification\n",
        "- object detection\n",
        "- segmentation, get different section on image\n",
        "\n",
        "Tesla Computer Vision got 9 cameras and 3-dimensional \"vector space\""
      ],
      "metadata": {
        "id": "qttyc0FtvjJC"
      }
    },
    {
      "cell_type": "code",
      "execution_count": null,
      "metadata": {
        "id": "0Ugpkptzu3_w"
      },
      "outputs": [],
      "source": []
    }
  ]
}